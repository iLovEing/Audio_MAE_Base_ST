{
 "cells": [
  {
   "cell_type": "code",
   "id": "initial_id",
   "metadata": {
    "collapsed": true,
    "ExecuteTime": {
     "end_time": "2024-06-13T06:40:51.785714Z",
     "start_time": "2024-06-13T06:40:50.837209Z"
    }
   },
   "source": [
    "from utils import AMAEConfig\n",
    "from model import AudioMAE\n",
    "import librosa\n",
    "import os\n",
    "import torch\n",
    "from torchinfo import summary\n"
   ],
   "outputs": [],
   "execution_count": 1
  },
  {
   "cell_type": "code",
   "source": [
    "test_cfg = AMAEConfig(cfg_path=r'E:\\project\\python\\Audio_MAE_Base_ST\\config\\auto_encoder.yaml')\n",
    "test_m = AudioMAE(test_cfg)\n",
    "test_f = os.path.join('datas', 'test', 'test_10s.wav')\n",
    "signal, _ = librosa.load(test_f, sr=32000, mono=True)\n",
    "model_input = torch.Tensor(signal).unsqueeze(0)"
   ],
   "metadata": {
    "collapsed": false,
    "ExecuteTime": {
     "end_time": "2024-06-13T06:40:53.365946Z",
     "start_time": "2024-06-13T06:40:51.786711Z"
    }
   },
   "id": "15f6bea93ad3229a",
   "outputs": [],
   "execution_count": 2
  },
  {
   "cell_type": "code",
   "source": "summary(test_m, input_size=(4, 320000), depth=5, col_names=(\"input_size\", \"output_size\", \"num_params\", \"trainable\", \"kernel_size\"))",
   "metadata": {
    "collapsed": false,
    "ExecuteTime": {
     "end_time": "2024-06-13T06:40:53.951039Z",
     "start_time": "2024-06-13T06:40:53.365946Z"
    }
   },
   "id": "4060e59a5347d57b",
   "outputs": [
    {
     "data": {
      "text/plain": [
       "====================================================================================================================================================================================\n",
       "Layer (type:depth-idx)                                  Input Shape               Output Shape              Param #                   Trainable                 Kernel Shape\n",
       "====================================================================================================================================================================================\n",
       "AudioMAE                                                [4, 320000]               [4, 1, 1024, 64]          --                        Partial                   --\n",
       "├─STEncoder: 1-1                                        [4, 320000]               --                        --                        Partial                   --\n",
       "│    └─Spectrogram: 2-1                                 [4, 320000]               [4, 1, 1001, 513]         --                        False                     --\n",
       "│    │    └─STFT: 3-1                                   --                        --                        --                        False                     --\n",
       "│    │    │    └─Conv1d: 4-1                            [4, 1, 321024]            [4, 513, 1001]            (525,312)                 False                     [1024]\n",
       "│    │    │    └─Conv1d: 4-2                            [4, 1, 321024]            [4, 513, 1001]            (525,312)                 False                     [1024]\n",
       "│    └─LogmelFilterBank: 2-2                            [4, 1, 1001, 513]         [4, 1, 1001, 64]          (32,832)                  False                     --\n",
       "│    └─BatchNorm2d: 2-3                                 [4, 64, 1024, 1]          [4, 64, 1024, 1]          128                       True                      --\n",
       "│    └─PatchEmbed: 2-4                                  [4, 1, 256, 256]          [4, 4096, 96]             --                        True                      --\n",
       "│    │    └─Conv2d: 3-2                                 [4, 1, 256, 256]          [4, 96, 64, 64]           1,632                     True                      [4, 4]\n",
       "│    │    └─LayerNorm: 3-3                              [4, 4096, 96]             [4, 4096, 96]             192                       True                      --\n",
       "│    └─Dropout: 2-5                                     [4, 4096, 96]             [4, 4096, 96]             --                        --                        --\n",
       "│    └─ModuleList: 2-6                                  --                        --                        --                        True                      --\n",
       "│    │    └─BasicLayer: 3-4                             [4, 4096, 96]             [4, 1024, 192]            --                        True                      --\n",
       "│    │    │    └─ModuleList: 4-3                        --                        --                        --                        True                      --\n",
       "│    │    │    │    └─SwinTransformerBlock: 5-1         [4, 4096, 96]             [4, 4096, 96]             112,740                   True                      --\n",
       "│    │    │    │    └─SwinTransformerBlock: 5-2         [4, 4096, 96]             [4, 4096, 96]             112,740                   True                      --\n",
       "│    │    │    └─PatchMerging: 4-4                      [4, 4096, 96]             [4, 1024, 192]            --                        True                      --\n",
       "│    │    │    │    └─LayerNorm: 5-3                    [4, 1024, 384]            [4, 1024, 384]            768                       True                      --\n",
       "│    │    │    │    └─Linear: 5-4                       [4, 1024, 384]            [4, 1024, 192]            73,728                    True                      --\n",
       "│    │    └─BasicLayer: 3-5                             [4, 1024, 192]            [4, 256, 384]             --                        True                      --\n",
       "│    │    │    └─ModuleList: 4-5                        --                        --                        --                        True                      --\n",
       "│    │    │    │    └─SwinTransformerBlock: 5-5         [4, 1024, 192]            [4, 1024, 192]            446,664                   True                      --\n",
       "│    │    │    │    └─SwinTransformerBlock: 5-6         [4, 1024, 192]            [4, 1024, 192]            446,664                   True                      --\n",
       "│    │    │    └─PatchMerging: 4-6                      [4, 1024, 192]            [4, 256, 384]             --                        True                      --\n",
       "│    │    │    │    └─LayerNorm: 5-7                    [4, 256, 768]             [4, 256, 768]             1,536                     True                      --\n",
       "│    │    │    │    └─Linear: 5-8                       [4, 256, 768]             [4, 256, 384]             294,912                   True                      --\n",
       "│    │    └─BasicLayer: 3-6                             [4, 256, 384]             [4, 64, 768]              --                        True                      --\n",
       "│    │    │    └─ModuleList: 4-7                        --                        --                        --                        True                      --\n",
       "│    │    │    │    └─SwinTransformerBlock: 5-9         [4, 256, 384]             [4, 256, 384]             1,778,064                 True                      --\n",
       "│    │    │    │    └─SwinTransformerBlock: 5-10        [4, 256, 384]             [4, 256, 384]             1,778,064                 True                      --\n",
       "│    │    │    │    └─SwinTransformerBlock: 5-11        [4, 256, 384]             [4, 256, 384]             1,778,064                 True                      --\n",
       "│    │    │    │    └─SwinTransformerBlock: 5-12        [4, 256, 384]             [4, 256, 384]             1,778,064                 True                      --\n",
       "│    │    │    │    └─SwinTransformerBlock: 5-13        [4, 256, 384]             [4, 256, 384]             1,778,064                 True                      --\n",
       "│    │    │    │    └─SwinTransformerBlock: 5-14        [4, 256, 384]             [4, 256, 384]             1,778,064                 True                      --\n",
       "│    │    │    └─PatchMerging: 4-8                      [4, 256, 384]             [4, 64, 768]              --                        True                      --\n",
       "│    │    │    │    └─LayerNorm: 5-15                   [4, 64, 1536]             [4, 64, 1536]             3,072                     True                      --\n",
       "│    │    │    │    └─Linear: 5-16                      [4, 64, 1536]             [4, 64, 768]              1,179,648                 True                      --\n",
       "│    │    └─BasicLayer: 3-7                             [4, 64, 768]              [4, 64, 768]              --                        True                      --\n",
       "│    │    │    └─ModuleList: 4-9                        --                        --                        --                        True                      --\n",
       "│    │    │    │    └─SwinTransformerBlock: 5-17        [4, 64, 768]              [4, 64, 768]              7,095,072                 True                      --\n",
       "│    │    │    │    └─SwinTransformerBlock: 5-18        [4, 64, 768]              [4, 64, 768]              7,095,072                 True                      --\n",
       "│    └─LayerNorm: 2-7                                   [4, 64, 768]              [4, 64, 768]              1,536                     True                      --\n",
       "│    └─Conv2d: 2-8                                      [4, 768, 8, 8]            [4, 32, 8, 8]             24,608                    True                      [1, 1]\n",
       "│    └─AdaptiveAvgPool1d: 2-9                           [4, 32, 64]               [4, 32, 1]                --                        --                        --\n",
       "│    └─Identity: 2-10                                   [4, 32, 32, 2]            [4, 32, 32, 2]            --                        --                        --\n",
       "│    └─AdaptiveAvgPool1d: 2-11                          [4, 32, 64]               [4, 32, 1]                --                        --                        --\n",
       "├─STDecoder: 1-2                                        [4, 32, 32, 2]            [4, 1, 1024, 64]          --                        True                      --\n",
       "│    └─Conv2d: 2-12                                     [4, 32, 8, 8]             [4, 768, 8, 8]            25,344                    True                      [1, 1]\n",
       "│    └─LayerNorm: 2-13                                  [4, 64, 768]              [4, 64, 768]              1,536                     True                      --\n",
       "│    └─ModuleList: 2-14                                 --                        --                        --                        True                      --\n",
       "│    │    └─BasicLayer: 3-8                             [4, 64, 768]              [4, 256, 384]             --                        True                      --\n",
       "│    │    │    └─ModuleList: 4-10                       --                        --                        --                        True                      --\n",
       "│    │    │    │    └─SwinTransformerBlock: 5-19        [4, 64, 768]              [4, 64, 768]              7,095,072                 True                      --\n",
       "│    │    │    │    └─SwinTransformerBlock: 5-20        [4, 64, 768]              [4, 64, 768]              7,095,072                 True                      --\n",
       "│    │    │    └─PatchSeparate: 4-11                    [4, 64, 768]              [4, 256, 384]             --                        True                      --\n",
       "│    │    │    │    └─LayerNorm: 5-21                   [4, 64, 768]              [4, 64, 768]              1,536                     True                      --\n",
       "│    │    │    │    └─Linear: 5-22                      [4, 64, 768]              [4, 64, 1536]             1,179,648                 True                      --\n",
       "│    │    └─BasicLayer: 3-9                             [4, 256, 384]             [4, 1024, 192]            --                        True                      --\n",
       "│    │    │    └─ModuleList: 4-12                       --                        --                        --                        True                      --\n",
       "│    │    │    │    └─SwinTransformerBlock: 5-23        [4, 256, 384]             [4, 256, 384]             1,778,064                 True                      --\n",
       "│    │    │    │    └─SwinTransformerBlock: 5-24        [4, 256, 384]             [4, 256, 384]             1,778,064                 True                      --\n",
       "│    │    │    │    └─SwinTransformerBlock: 5-25        [4, 256, 384]             [4, 256, 384]             1,778,064                 True                      --\n",
       "│    │    │    │    └─SwinTransformerBlock: 5-26        [4, 256, 384]             [4, 256, 384]             1,778,064                 True                      --\n",
       "│    │    │    │    └─SwinTransformerBlock: 5-27        [4, 256, 384]             [4, 256, 384]             1,778,064                 True                      --\n",
       "│    │    │    │    └─SwinTransformerBlock: 5-28        [4, 256, 384]             [4, 256, 384]             1,778,064                 True                      --\n",
       "│    │    │    └─PatchSeparate: 4-13                    [4, 256, 384]             [4, 1024, 192]            --                        True                      --\n",
       "│    │    │    │    └─LayerNorm: 5-29                   [4, 256, 384]             [4, 256, 384]             768                       True                      --\n",
       "│    │    │    │    └─Linear: 5-30                      [4, 256, 384]             [4, 256, 768]             294,912                   True                      --\n",
       "│    │    └─BasicLayer: 3-10                            [4, 1024, 192]            [4, 4096, 96]             --                        True                      --\n",
       "│    │    │    └─ModuleList: 4-14                       --                        --                        --                        True                      --\n",
       "│    │    │    │    └─SwinTransformerBlock: 5-31        [4, 1024, 192]            [4, 1024, 192]            446,664                   True                      --\n",
       "│    │    │    │    └─SwinTransformerBlock: 5-32        [4, 1024, 192]            [4, 1024, 192]            446,664                   True                      --\n",
       "│    │    │    └─PatchSeparate: 4-15                    [4, 1024, 192]            [4, 4096, 96]             --                        True                      --\n",
       "│    │    │    │    └─LayerNorm: 5-33                   [4, 1024, 192]            [4, 1024, 192]            384                       True                      --\n",
       "│    │    │    │    └─Linear: 5-34                      [4, 1024, 192]            [4, 1024, 384]            73,728                    True                      --\n",
       "│    │    └─BasicLayer: 3-11                            [4, 4096, 96]             [4, 4096, 96]             --                        True                      --\n",
       "│    │    │    └─ModuleList: 4-16                       --                        --                        --                        True                      --\n",
       "│    │    │    │    └─SwinTransformerBlock: 5-35        [4, 4096, 96]             [4, 4096, 96]             112,740                   True                      --\n",
       "│    │    │    │    └─SwinTransformerBlock: 5-36        [4, 4096, 96]             [4, 4096, 96]             112,740                   True                      --\n",
       "│    └─Dropout: 2-15                                    [4, 4096, 96]             [4, 4096, 96]             --                        --                        --\n",
       "│    └─PatchEmbedInverse: 2-16                          [4, 4096, 96]             [4, 1, 256, 256]          --                        True                      --\n",
       "│    │    └─LayerNorm: 3-12                             [4, 4096, 96]             [4, 4096, 96]             192                       True                      --\n",
       "│    │    └─ConvTranspose2d: 3-13                       [4, 96, 64, 64]           [4, 1, 256, 256]          1,537                     True                      [4, 4]\n",
       "====================================================================================================================================================================================\n",
       "Total params: 56,199,473\n",
       "Trainable params: 55,116,017\n",
       "Non-trainable params: 1,083,456\n",
       "Total mult-adds (Units.GIGABYTES): 5.03\n",
       "====================================================================================================================================================================================\n",
       "Input size (MB): 5.12\n",
       "Forward/backward pass size (MB): 1462.62\n",
       "Params size (MB): 224.47\n",
       "Estimated Total Size (MB): 1692.20\n",
       "===================================================================================================================================================================================="
      ]
     },
     "execution_count": 3,
     "metadata": {},
     "output_type": "execute_result"
    }
   ],
   "execution_count": 3
  },
  {
   "cell_type": "code",
   "source": [
    "output = test_m(model_input)\n",
    "output.shape"
   ],
   "metadata": {
    "collapsed": false
   },
   "id": "1ec8233a899376ce",
   "outputs": [],
   "execution_count": null
  },
  {
   "cell_type": "code",
   "source": [
    "import pandas as pd\n",
    "import numpy as np"
   ],
   "metadata": {
    "collapsed": false,
    "ExecuteTime": {
     "end_time": "2024-06-19T05:14:42.952543Z",
     "start_time": "2024-06-19T05:14:42.950362Z"
    }
   },
   "id": "ba0c90189f937d26",
   "outputs": [],
   "execution_count": 104
  },
  {
   "metadata": {
    "ExecuteTime": {
     "end_time": "2024-06-19T05:15:17.017501Z",
     "start_time": "2024-06-19T05:15:17.013769Z"
    }
   },
   "cell_type": "code",
   "source": [
    "temp_df = pd.DataFrame(data=None, columns=[\"file\", \"type\", \"label\"])\n",
    "len(temp_df.index)"
   ],
   "id": "26fa1e8e9a6b51a2",
   "outputs": [
    {
     "data": {
      "text/plain": [
       "0"
      ]
     },
     "execution_count": 107,
     "metadata": {},
     "output_type": "execute_result"
    }
   ],
   "execution_count": 107
  },
  {
   "metadata": {
    "ExecuteTime": {
     "end_time": "2024-06-19T05:15:17.828978Z",
     "start_time": "2024-06-19T05:15:17.824782Z"
    }
   },
   "cell_type": "code",
   "source": [
    "temp_df.loc[len(temp_df.index)] = [os.path.join('datas', 'test', 'test_10s.wav'), 'train', -1]\n",
    "temp_df.loc[len(temp_df.index)] = [os.path.join('datas', 'test', 'test_30s.wav'), 'eval', -1]"
   ],
   "id": "a64777b25f8cb5c0",
   "outputs": [],
   "execution_count": 108
  },
  {
   "metadata": {
    "ExecuteTime": {
     "end_time": "2024-06-19T05:15:18.553187Z",
     "start_time": "2024-06-19T05:15:18.548924Z"
    }
   },
   "cell_type": "code",
   "source": [
    "temp_df.reset_index(drop=True, inplace=True)\n",
    "temp_df"
   ],
   "id": "9a76722a9f3ebbf",
   "outputs": [
    {
     "data": {
      "text/plain": [
       "                      file   type  label\n",
       "0  datas\\test\\test_10s.wav  train     -1\n",
       "1  datas\\test\\test_30s.wav   eval     -1"
      ],
      "text/html": [
       "<div>\n",
       "<style scoped>\n",
       "    .dataframe tbody tr th:only-of-type {\n",
       "        vertical-align: middle;\n",
       "    }\n",
       "\n",
       "    .dataframe tbody tr th {\n",
       "        vertical-align: top;\n",
       "    }\n",
       "\n",
       "    .dataframe thead th {\n",
       "        text-align: right;\n",
       "    }\n",
       "</style>\n",
       "<table border=\"1\" class=\"dataframe\">\n",
       "  <thead>\n",
       "    <tr style=\"text-align: right;\">\n",
       "      <th></th>\n",
       "      <th>file</th>\n",
       "      <th>type</th>\n",
       "      <th>label</th>\n",
       "    </tr>\n",
       "  </thead>\n",
       "  <tbody>\n",
       "    <tr>\n",
       "      <th>0</th>\n",
       "      <td>datas\\test\\test_10s.wav</td>\n",
       "      <td>train</td>\n",
       "      <td>-1</td>\n",
       "    </tr>\n",
       "    <tr>\n",
       "      <th>1</th>\n",
       "      <td>datas\\test\\test_30s.wav</td>\n",
       "      <td>eval</td>\n",
       "      <td>-1</td>\n",
       "    </tr>\n",
       "  </tbody>\n",
       "</table>\n",
       "</div>"
      ]
     },
     "execution_count": 109,
     "metadata": {},
     "output_type": "execute_result"
    }
   ],
   "execution_count": 109
  },
  {
   "metadata": {
    "ExecuteTime": {
     "end_time": "2024-06-19T05:15:22.354700Z",
     "start_time": "2024-06-19T05:15:22.351317Z"
    }
   },
   "cell_type": "code",
   "source": "temp_df.to_csv(os.path.join('workspace', 'test.csv'))",
   "id": "7b09f169c0670248",
   "outputs": [],
   "execution_count": 110
  },
  {
   "metadata": {
    "ExecuteTime": {
     "end_time": "2024-06-19T05:15:23.337726Z",
     "start_time": "2024-06-19T05:15:23.334695Z"
    }
   },
   "cell_type": "code",
   "source": "rdf = pd.read_csv(os.path.join('workspace', 'test.csv'), index_col=0)",
   "id": "8ff3fe84189e8911",
   "outputs": [],
   "execution_count": 111
  },
  {
   "metadata": {
    "ExecuteTime": {
     "end_time": "2024-06-19T05:15:24.034277Z",
     "start_time": "2024-06-19T05:15:24.029505Z"
    }
   },
   "cell_type": "code",
   "source": "rdf",
   "id": "239e3fe688034e02",
   "outputs": [
    {
     "data": {
      "text/plain": [
       "                      file   type  label\n",
       "0  datas\\test\\test_10s.wav  train     -1\n",
       "1  datas\\test\\test_30s.wav   eval     -1"
      ],
      "text/html": [
       "<div>\n",
       "<style scoped>\n",
       "    .dataframe tbody tr th:only-of-type {\n",
       "        vertical-align: middle;\n",
       "    }\n",
       "\n",
       "    .dataframe tbody tr th {\n",
       "        vertical-align: top;\n",
       "    }\n",
       "\n",
       "    .dataframe thead th {\n",
       "        text-align: right;\n",
       "    }\n",
       "</style>\n",
       "<table border=\"1\" class=\"dataframe\">\n",
       "  <thead>\n",
       "    <tr style=\"text-align: right;\">\n",
       "      <th></th>\n",
       "      <th>file</th>\n",
       "      <th>type</th>\n",
       "      <th>label</th>\n",
       "    </tr>\n",
       "  </thead>\n",
       "  <tbody>\n",
       "    <tr>\n",
       "      <th>0</th>\n",
       "      <td>datas\\test\\test_10s.wav</td>\n",
       "      <td>train</td>\n",
       "      <td>-1</td>\n",
       "    </tr>\n",
       "    <tr>\n",
       "      <th>1</th>\n",
       "      <td>datas\\test\\test_30s.wav</td>\n",
       "      <td>eval</td>\n",
       "      <td>-1</td>\n",
       "    </tr>\n",
       "  </tbody>\n",
       "</table>\n",
       "</div>"
      ]
     },
     "execution_count": 112,
     "metadata": {},
     "output_type": "execute_result"
    }
   ],
   "execution_count": 112
  },
  {
   "metadata": {
    "ExecuteTime": {
     "end_time": "2024-06-19T05:15:25.900417Z",
     "start_time": "2024-06-19T05:15:25.897911Z"
    }
   },
   "cell_type": "code",
   "source": "list(rdf['file'])",
   "id": "d7c5022a68bee039",
   "outputs": [
    {
     "data": {
      "text/plain": [
       "['datas\\\\test\\\\test_10s.wav', 'datas\\\\test\\\\test_30s.wav']"
      ]
     },
     "execution_count": 113,
     "metadata": {},
     "output_type": "execute_result"
    }
   ],
   "execution_count": 113
  },
  {
   "metadata": {
    "ExecuteTime": {
     "end_time": "2024-06-19T05:16:18.759735Z",
     "start_time": "2024-06-19T05:16:18.756035Z"
    }
   },
   "cell_type": "code",
   "source": "list(rdf[rdf['type'] == 'train']['file'])",
   "id": "5ad17ec147a3cc76",
   "outputs": [
    {
     "data": {
      "text/plain": [
       "['datas\\\\test\\\\test_10s.wav']"
      ]
     },
     "execution_count": 119,
     "metadata": {},
     "output_type": "execute_result"
    }
   ],
   "execution_count": 119
  },
  {
   "metadata": {
    "ExecuteTime": {
     "end_time": "2024-06-19T05:20:42.836541Z",
     "start_time": "2024-06-19T05:20:42.833847Z"
    }
   },
   "cell_type": "code",
   "source": "os.path.basename(list(rdf['file'])[0])",
   "id": "d9e5ca565ef241ab",
   "outputs": [
    {
     "data": {
      "text/plain": [
       "'test_10s.wav'"
      ]
     },
     "execution_count": 122,
     "metadata": {},
     "output_type": "execute_result"
    }
   ],
   "execution_count": 122
  }
 ],
 "metadata": {
  "kernelspec": {
   "display_name": "Python 3",
   "language": "python",
   "name": "python3"
  },
  "language_info": {
   "codemirror_mode": {
    "name": "ipython",
    "version": 2
   },
   "file_extension": ".py",
   "mimetype": "text/x-python",
   "name": "python",
   "nbconvert_exporter": "python",
   "pygments_lexer": "ipython2",
   "version": "2.7.6"
  }
 },
 "nbformat": 4,
 "nbformat_minor": 5
}
