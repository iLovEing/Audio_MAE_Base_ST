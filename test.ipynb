{
 "cells": [
  {
   "cell_type": "code",
   "id": "initial_id",
   "metadata": {
    "collapsed": true,
    "ExecuteTime": {
     "end_time": "2024-06-13T06:40:51.785714Z",
     "start_time": "2024-06-13T06:40:50.837209Z"
    }
   },
   "source": [
    "from utils import AMAEConfig\n",
    "from model import AudioMAE\n",
    "import librosa\n",
    "import os\n",
    "import torch\n",
    "from torchinfo import summary\n"
   ],
   "outputs": [],
   "execution_count": 1
  },
  {
   "cell_type": "code",
   "source": [
    "test_cfg = AMAEConfig(cfg_path=r'E:\\project\\python\\Audio_MAE_Base_ST\\config\\auto_encoder.yaml')\n",
    "test_m = AudioMAE(test_cfg)\n",
    "test_f = os.path.join('datas', 'test', 'test_10s.wav')\n",
    "signal, _ = librosa.load(test_f, sr=32000, mono=True)\n",
    "model_input = torch.Tensor(signal).unsqueeze(0)"
   ],
   "metadata": {
    "collapsed": false,
    "ExecuteTime": {
     "end_time": "2024-06-13T06:40:53.365946Z",
     "start_time": "2024-06-13T06:40:51.786711Z"
    }
   },
   "id": "15f6bea93ad3229a",
   "outputs": [],
   "execution_count": 2
  },
  {
   "cell_type": "code",
   "source": "summary(test_m, input_size=(4, 320000), depth=5, col_names=(\"input_size\", \"output_size\", \"num_params\", \"trainable\", \"kernel_size\"))",
   "metadata": {
    "collapsed": false,
    "ExecuteTime": {
     "end_time": "2024-06-13T06:40:53.951039Z",
     "start_time": "2024-06-13T06:40:53.365946Z"
    }
   },
   "id": "4060e59a5347d57b",
   "outputs": [
    {
     "data": {
      "text/plain": [
       "====================================================================================================================================================================================\n",
       "Layer (type:depth-idx)                                  Input Shape               Output Shape              Param #                   Trainable                 Kernel Shape\n",
       "====================================================================================================================================================================================\n",
       "AudioMAE                                                [4, 320000]               [4, 1, 1024, 64]          --                        Partial                   --\n",
       "├─STEncoder: 1-1                                        [4, 320000]               --                        --                        Partial                   --\n",
       "│    └─Spectrogram: 2-1                                 [4, 320000]               [4, 1, 1001, 513]         --                        False                     --\n",
       "│    │    └─STFT: 3-1                                   --                        --                        --                        False                     --\n",
       "│    │    │    └─Conv1d: 4-1                            [4, 1, 321024]            [4, 513, 1001]            (525,312)                 False                     [1024]\n",
       "│    │    │    └─Conv1d: 4-2                            [4, 1, 321024]            [4, 513, 1001]            (525,312)                 False                     [1024]\n",
       "│    └─LogmelFilterBank: 2-2                            [4, 1, 1001, 513]         [4, 1, 1001, 64]          (32,832)                  False                     --\n",
       "│    └─BatchNorm2d: 2-3                                 [4, 64, 1024, 1]          [4, 64, 1024, 1]          128                       True                      --\n",
       "│    └─PatchEmbed: 2-4                                  [4, 1, 256, 256]          [4, 4096, 96]             --                        True                      --\n",
       "│    │    └─Conv2d: 3-2                                 [4, 1, 256, 256]          [4, 96, 64, 64]           1,632                     True                      [4, 4]\n",
       "│    │    └─LayerNorm: 3-3                              [4, 4096, 96]             [4, 4096, 96]             192                       True                      --\n",
       "│    └─Dropout: 2-5                                     [4, 4096, 96]             [4, 4096, 96]             --                        --                        --\n",
       "│    └─ModuleList: 2-6                                  --                        --                        --                        True                      --\n",
       "│    │    └─BasicLayer: 3-4                             [4, 4096, 96]             [4, 1024, 192]            --                        True                      --\n",
       "│    │    │    └─ModuleList: 4-3                        --                        --                        --                        True                      --\n",
       "│    │    │    │    └─SwinTransformerBlock: 5-1         [4, 4096, 96]             [4, 4096, 96]             112,740                   True                      --\n",
       "│    │    │    │    └─SwinTransformerBlock: 5-2         [4, 4096, 96]             [4, 4096, 96]             112,740                   True                      --\n",
       "│    │    │    └─PatchMerging: 4-4                      [4, 4096, 96]             [4, 1024, 192]            --                        True                      --\n",
       "│    │    │    │    └─LayerNorm: 5-3                    [4, 1024, 384]            [4, 1024, 384]            768                       True                      --\n",
       "│    │    │    │    └─Linear: 5-4                       [4, 1024, 384]            [4, 1024, 192]            73,728                    True                      --\n",
       "│    │    └─BasicLayer: 3-5                             [4, 1024, 192]            [4, 256, 384]             --                        True                      --\n",
       "│    │    │    └─ModuleList: 4-5                        --                        --                        --                        True                      --\n",
       "│    │    │    │    └─SwinTransformerBlock: 5-5         [4, 1024, 192]            [4, 1024, 192]            446,664                   True                      --\n",
       "│    │    │    │    └─SwinTransformerBlock: 5-6         [4, 1024, 192]            [4, 1024, 192]            446,664                   True                      --\n",
       "│    │    │    └─PatchMerging: 4-6                      [4, 1024, 192]            [4, 256, 384]             --                        True                      --\n",
       "│    │    │    │    └─LayerNorm: 5-7                    [4, 256, 768]             [4, 256, 768]             1,536                     True                      --\n",
       "│    │    │    │    └─Linear: 5-8                       [4, 256, 768]             [4, 256, 384]             294,912                   True                      --\n",
       "│    │    └─BasicLayer: 3-6                             [4, 256, 384]             [4, 64, 768]              --                        True                      --\n",
       "│    │    │    └─ModuleList: 4-7                        --                        --                        --                        True                      --\n",
       "│    │    │    │    └─SwinTransformerBlock: 5-9         [4, 256, 384]             [4, 256, 384]             1,778,064                 True                      --\n",
       "│    │    │    │    └─SwinTransformerBlock: 5-10        [4, 256, 384]             [4, 256, 384]             1,778,064                 True                      --\n",
       "│    │    │    │    └─SwinTransformerBlock: 5-11        [4, 256, 384]             [4, 256, 384]             1,778,064                 True                      --\n",
       "│    │    │    │    └─SwinTransformerBlock: 5-12        [4, 256, 384]             [4, 256, 384]             1,778,064                 True                      --\n",
       "│    │    │    │    └─SwinTransformerBlock: 5-13        [4, 256, 384]             [4, 256, 384]             1,778,064                 True                      --\n",
       "│    │    │    │    └─SwinTransformerBlock: 5-14        [4, 256, 384]             [4, 256, 384]             1,778,064                 True                      --\n",
       "│    │    │    └─PatchMerging: 4-8                      [4, 256, 384]             [4, 64, 768]              --                        True                      --\n",
       "│    │    │    │    └─LayerNorm: 5-15                   [4, 64, 1536]             [4, 64, 1536]             3,072                     True                      --\n",
       "│    │    │    │    └─Linear: 5-16                      [4, 64, 1536]             [4, 64, 768]              1,179,648                 True                      --\n",
       "│    │    └─BasicLayer: 3-7                             [4, 64, 768]              [4, 64, 768]              --                        True                      --\n",
       "│    │    │    └─ModuleList: 4-9                        --                        --                        --                        True                      --\n",
       "│    │    │    │    └─SwinTransformerBlock: 5-17        [4, 64, 768]              [4, 64, 768]              7,095,072                 True                      --\n",
       "│    │    │    │    └─SwinTransformerBlock: 5-18        [4, 64, 768]              [4, 64, 768]              7,095,072                 True                      --\n",
       "│    └─LayerNorm: 2-7                                   [4, 64, 768]              [4, 64, 768]              1,536                     True                      --\n",
       "│    └─Conv2d: 2-8                                      [4, 768, 8, 8]            [4, 32, 8, 8]             24,608                    True                      [1, 1]\n",
       "│    └─AdaptiveAvgPool1d: 2-9                           [4, 32, 64]               [4, 32, 1]                --                        --                        --\n",
       "│    └─Identity: 2-10                                   [4, 32, 32, 2]            [4, 32, 32, 2]            --                        --                        --\n",
       "│    └─AdaptiveAvgPool1d: 2-11                          [4, 32, 64]               [4, 32, 1]                --                        --                        --\n",
       "├─STDecoder: 1-2                                        [4, 32, 32, 2]            [4, 1, 1024, 64]          --                        True                      --\n",
       "│    └─Conv2d: 2-12                                     [4, 32, 8, 8]             [4, 768, 8, 8]            25,344                    True                      [1, 1]\n",
       "│    └─LayerNorm: 2-13                                  [4, 64, 768]              [4, 64, 768]              1,536                     True                      --\n",
       "│    └─ModuleList: 2-14                                 --                        --                        --                        True                      --\n",
       "│    │    └─BasicLayer: 3-8                             [4, 64, 768]              [4, 256, 384]             --                        True                      --\n",
       "│    │    │    └─ModuleList: 4-10                       --                        --                        --                        True                      --\n",
       "│    │    │    │    └─SwinTransformerBlock: 5-19        [4, 64, 768]              [4, 64, 768]              7,095,072                 True                      --\n",
       "│    │    │    │    └─SwinTransformerBlock: 5-20        [4, 64, 768]              [4, 64, 768]              7,095,072                 True                      --\n",
       "│    │    │    └─PatchSeparate: 4-11                    [4, 64, 768]              [4, 256, 384]             --                        True                      --\n",
       "│    │    │    │    └─LayerNorm: 5-21                   [4, 64, 768]              [4, 64, 768]              1,536                     True                      --\n",
       "│    │    │    │    └─Linear: 5-22                      [4, 64, 768]              [4, 64, 1536]             1,179,648                 True                      --\n",
       "│    │    └─BasicLayer: 3-9                             [4, 256, 384]             [4, 1024, 192]            --                        True                      --\n",
       "│    │    │    └─ModuleList: 4-12                       --                        --                        --                        True                      --\n",
       "│    │    │    │    └─SwinTransformerBlock: 5-23        [4, 256, 384]             [4, 256, 384]             1,778,064                 True                      --\n",
       "│    │    │    │    └─SwinTransformerBlock: 5-24        [4, 256, 384]             [4, 256, 384]             1,778,064                 True                      --\n",
       "│    │    │    │    └─SwinTransformerBlock: 5-25        [4, 256, 384]             [4, 256, 384]             1,778,064                 True                      --\n",
       "│    │    │    │    └─SwinTransformerBlock: 5-26        [4, 256, 384]             [4, 256, 384]             1,778,064                 True                      --\n",
       "│    │    │    │    └─SwinTransformerBlock: 5-27        [4, 256, 384]             [4, 256, 384]             1,778,064                 True                      --\n",
       "│    │    │    │    └─SwinTransformerBlock: 5-28        [4, 256, 384]             [4, 256, 384]             1,778,064                 True                      --\n",
       "│    │    │    └─PatchSeparate: 4-13                    [4, 256, 384]             [4, 1024, 192]            --                        True                      --\n",
       "│    │    │    │    └─LayerNorm: 5-29                   [4, 256, 384]             [4, 256, 384]             768                       True                      --\n",
       "│    │    │    │    └─Linear: 5-30                      [4, 256, 384]             [4, 256, 768]             294,912                   True                      --\n",
       "│    │    └─BasicLayer: 3-10                            [4, 1024, 192]            [4, 4096, 96]             --                        True                      --\n",
       "│    │    │    └─ModuleList: 4-14                       --                        --                        --                        True                      --\n",
       "│    │    │    │    └─SwinTransformerBlock: 5-31        [4, 1024, 192]            [4, 1024, 192]            446,664                   True                      --\n",
       "│    │    │    │    └─SwinTransformerBlock: 5-32        [4, 1024, 192]            [4, 1024, 192]            446,664                   True                      --\n",
       "│    │    │    └─PatchSeparate: 4-15                    [4, 1024, 192]            [4, 4096, 96]             --                        True                      --\n",
       "│    │    │    │    └─LayerNorm: 5-33                   [4, 1024, 192]            [4, 1024, 192]            384                       True                      --\n",
       "│    │    │    │    └─Linear: 5-34                      [4, 1024, 192]            [4, 1024, 384]            73,728                    True                      --\n",
       "│    │    └─BasicLayer: 3-11                            [4, 4096, 96]             [4, 4096, 96]             --                        True                      --\n",
       "│    │    │    └─ModuleList: 4-16                       --                        --                        --                        True                      --\n",
       "│    │    │    │    └─SwinTransformerBlock: 5-35        [4, 4096, 96]             [4, 4096, 96]             112,740                   True                      --\n",
       "│    │    │    │    └─SwinTransformerBlock: 5-36        [4, 4096, 96]             [4, 4096, 96]             112,740                   True                      --\n",
       "│    └─Dropout: 2-15                                    [4, 4096, 96]             [4, 4096, 96]             --                        --                        --\n",
       "│    └─PatchEmbedInverse: 2-16                          [4, 4096, 96]             [4, 1, 256, 256]          --                        True                      --\n",
       "│    │    └─LayerNorm: 3-12                             [4, 4096, 96]             [4, 4096, 96]             192                       True                      --\n",
       "│    │    └─ConvTranspose2d: 3-13                       [4, 96, 64, 64]           [4, 1, 256, 256]          1,537                     True                      [4, 4]\n",
       "====================================================================================================================================================================================\n",
       "Total params: 56,199,473\n",
       "Trainable params: 55,116,017\n",
       "Non-trainable params: 1,083,456\n",
       "Total mult-adds (Units.GIGABYTES): 5.03\n",
       "====================================================================================================================================================================================\n",
       "Input size (MB): 5.12\n",
       "Forward/backward pass size (MB): 1462.62\n",
       "Params size (MB): 224.47\n",
       "Estimated Total Size (MB): 1692.20\n",
       "===================================================================================================================================================================================="
      ]
     },
     "execution_count": 3,
     "metadata": {},
     "output_type": "execute_result"
    }
   ],
   "execution_count": 3
  },
  {
   "cell_type": "code",
   "source": [
    "from dataset import FinetuneAS2k\n",
    "from utils import AMAEConfig"
   ],
   "metadata": {
    "collapsed": false,
    "ExecuteTime": {
     "end_time": "2024-07-10T03:08:17.704951Z",
     "start_time": "2024-07-10T03:08:16.037845Z"
    }
   },
   "id": "1ec8233a899376ce",
   "outputs": [],
   "execution_count": 1
  },
  {
   "metadata": {
    "ExecuteTime": {
     "end_time": "2024-07-10T03:08:17.756012Z",
     "start_time": "2024-07-10T03:08:17.705949Z"
    }
   },
   "cell_type": "code",
   "source": [
    "ft_cfg = AMAEConfig(cfg_path=r'config\\finetune_AS20k.yaml')\n",
    "ft_dataset = FinetuneAS2k(ft_cfg)"
   ],
   "id": "9ee8de23fe7bf199",
   "outputs": [],
   "execution_count": 2
  },
  {
   "metadata": {
    "ExecuteTime": {
     "end_time": "2024-07-10T03:08:47.874755Z",
     "start_time": "2024-07-10T03:08:20.747197Z"
    }
   },
   "cell_type": "code",
   "source": "ft_dataset[0]",
   "id": "e506eb64b3fb75ef",
   "outputs": [
    {
     "data": {
      "text/plain": [
       "(tensor([[-7.1173, -5.4450, -4.7622,  ..., -4.8091, -5.5432, -6.4559],\n",
       "         [-5.7448, -5.2049, -5.0482,  ..., -4.1698, -5.6299, -6.4060],\n",
       "         [-6.5856, -5.4705, -5.3254,  ..., -5.0102, -5.1550, -6.5707],\n",
       "         ...,\n",
       "         [ 0.0000,  0.0000,  0.0000,  ...,  0.0000,  0.0000,  0.0000],\n",
       "         [ 0.0000,  0.0000,  0.0000,  ...,  0.0000,  0.0000,  0.0000],\n",
       "         [ 0.0000,  0.0000,  0.0000,  ...,  0.0000,  0.0000,  0.0000]]),\n",
       " tensor([1., 0., 0., 0., 0., 0., 0., 0., 0., 0., 0., 0., 0., 0., 0., 0., 0., 0.,\n",
       "         0., 0., 0., 0., 0., 0., 0., 0., 0., 0., 0., 0., 0., 0., 0., 0., 0., 0.,\n",
       "         0., 0., 0., 0., 0., 0., 0., 0., 0., 0., 0., 0., 0., 0., 0., 0., 0., 0.,\n",
       "         0., 0., 0., 0., 0., 0., 0., 0., 0., 0., 0., 0., 0., 0., 0., 0., 0., 0.,\n",
       "         0., 0., 0., 0., 0., 0., 0., 0., 0., 0., 0., 0., 0., 0., 0., 0., 0., 0.,\n",
       "         0., 0., 0., 0., 0., 0., 0., 0., 0., 0., 0., 0., 0., 0., 0., 0., 0., 0.,\n",
       "         0., 0., 0., 0., 0., 0., 0., 0., 0., 0., 0., 0., 0., 0., 0., 0., 0., 0.,\n",
       "         0., 0., 0., 0., 0., 0., 0., 0., 0., 0., 0., 0., 0., 0., 0., 0., 0., 0.,\n",
       "         0., 0., 0., 0., 0., 0., 0., 0., 0., 0., 0., 0., 0., 0., 0., 0., 0., 0.,\n",
       "         0., 0., 0., 0., 0., 0., 0., 0., 0., 0., 0., 0., 0., 0., 0., 0., 0., 0.,\n",
       "         0., 0., 0., 0., 0., 0., 0., 0., 0., 0., 0., 0., 0., 0., 0., 0., 0., 0.,\n",
       "         0., 0., 0., 0., 0., 0., 0., 0., 0., 0., 0., 0., 0., 0., 0., 0., 0., 0.,\n",
       "         0., 0., 0., 0., 0., 0., 0., 0., 0., 0., 0., 0., 0., 0., 0., 0., 0., 0.,\n",
       "         0., 0., 0., 0., 0., 0., 0., 0., 0., 0., 0., 0., 0., 0., 0., 0., 0., 0.,\n",
       "         0., 0., 0., 0., 0., 0., 0., 0., 0., 0., 0., 0., 0., 0., 0., 0., 0., 0.,\n",
       "         0., 0., 0., 0., 0., 0., 0., 0., 0., 0., 0., 0., 0., 0., 0., 0., 0., 0.,\n",
       "         0., 0., 0., 0., 0., 0., 0., 0., 0., 0., 0., 0., 0., 0., 0., 0., 0., 0.,\n",
       "         0., 0., 0., 0., 0., 0., 0., 0., 0., 0., 0., 0., 0., 0., 0., 0., 0., 0.,\n",
       "         0., 0., 0., 0., 0., 0., 0., 0., 0., 0., 0., 0., 0., 0., 0., 0., 0., 0.,\n",
       "         0., 0., 0., 0., 0., 0., 0., 0., 0., 0., 0., 0., 0., 0., 0., 0., 0., 0.,\n",
       "         0., 0., 0., 0., 0., 0., 0., 0., 0., 0., 0., 0., 0., 0., 0., 0., 0., 0.,\n",
       "         0., 0., 0., 0., 0., 0., 0., 0., 0., 0., 0., 0., 0., 0., 0., 0., 0., 0.,\n",
       "         0., 0., 0., 0., 0., 0., 0., 0., 0., 0., 0., 0., 0., 0., 0., 0., 0., 0.,\n",
       "         0., 0., 0., 0., 0., 0., 0., 0., 0., 0., 0., 0., 0., 0., 0., 0., 0., 0.,\n",
       "         0., 0., 0., 0., 0., 0., 0., 0., 0., 0., 0., 0., 0., 0., 0., 0., 0., 0.,\n",
       "         0., 1., 0., 0., 0., 0., 0., 0., 0., 0., 0., 0., 0., 0., 0., 0., 0., 0.,\n",
       "         0., 0., 0., 0., 0., 0., 0., 0., 0., 0., 0., 0., 0., 0., 0., 0., 0., 0.,\n",
       "         0., 0., 0., 0., 0., 0., 0., 0., 0., 0., 0., 0., 0., 0., 0., 0., 0., 0.,\n",
       "         0., 0., 0., 0., 0., 0., 0., 0., 0., 0., 0., 0., 0., 0., 0., 0., 0., 0.,\n",
       "         0., 0., 0., 0., 0.], dtype=torch.float64))"
      ]
     },
     "execution_count": 3,
     "metadata": {},
     "output_type": "execute_result"
    }
   ],
   "execution_count": 3
  },
  {
   "cell_type": "code",
   "source": [
    "import pandas as pd\n",
    "import numpy as np"
   ],
   "metadata": {
    "collapsed": false,
    "ExecuteTime": {
     "end_time": "2024-06-19T05:14:42.952543Z",
     "start_time": "2024-06-19T05:14:42.950362Z"
    }
   },
   "id": "ba0c90189f937d26",
   "outputs": [],
   "execution_count": 104
  },
  {
   "metadata": {
    "ExecuteTime": {
     "end_time": "2024-06-19T05:15:17.017501Z",
     "start_time": "2024-06-19T05:15:17.013769Z"
    }
   },
   "cell_type": "code",
   "source": [
    "temp_df = pd.DataFrame(data=None, columns=[\"file\", \"type\", \"label\"])\n",
    "len(temp_df.index)"
   ],
   "id": "26fa1e8e9a6b51a2",
   "outputs": [
    {
     "data": {
      "text/plain": [
       "0"
      ]
     },
     "execution_count": 107,
     "metadata": {},
     "output_type": "execute_result"
    }
   ],
   "execution_count": 107
  },
  {
   "metadata": {
    "ExecuteTime": {
     "end_time": "2024-06-19T05:15:17.828978Z",
     "start_time": "2024-06-19T05:15:17.824782Z"
    }
   },
   "cell_type": "code",
   "source": [
    "temp_df.loc[len(temp_df.index)] = [os.path.join('datas', 'test', 'test_10s.wav'), 'train', -1]\n",
    "temp_df.loc[len(temp_df.index)] = [os.path.join('datas', 'test', 'test_30s.wav'), 'eval', -1]"
   ],
   "id": "a64777b25f8cb5c0",
   "outputs": [],
   "execution_count": 108
  },
  {
   "metadata": {
    "ExecuteTime": {
     "end_time": "2024-06-19T05:15:18.553187Z",
     "start_time": "2024-06-19T05:15:18.548924Z"
    }
   },
   "cell_type": "code",
   "source": [
    "temp_df.reset_index(drop=True, inplace=True)\n",
    "temp_df"
   ],
   "id": "9a76722a9f3ebbf",
   "outputs": [
    {
     "data": {
      "text/plain": [
       "                      file   type  label\n",
       "0  datas\\test\\test_10s.wav  train     -1\n",
       "1  datas\\test\\test_30s.wav   eval     -1"
      ],
      "text/html": [
       "<div>\n",
       "<style scoped>\n",
       "    .dataframe tbody tr th:only-of-type {\n",
       "        vertical-align: middle;\n",
       "    }\n",
       "\n",
       "    .dataframe tbody tr th {\n",
       "        vertical-align: top;\n",
       "    }\n",
       "\n",
       "    .dataframe thead th {\n",
       "        text-align: right;\n",
       "    }\n",
       "</style>\n",
       "<table border=\"1\" class=\"dataframe\">\n",
       "  <thead>\n",
       "    <tr style=\"text-align: right;\">\n",
       "      <th></th>\n",
       "      <th>file</th>\n",
       "      <th>type</th>\n",
       "      <th>label</th>\n",
       "    </tr>\n",
       "  </thead>\n",
       "  <tbody>\n",
       "    <tr>\n",
       "      <th>0</th>\n",
       "      <td>datas\\test\\test_10s.wav</td>\n",
       "      <td>train</td>\n",
       "      <td>-1</td>\n",
       "    </tr>\n",
       "    <tr>\n",
       "      <th>1</th>\n",
       "      <td>datas\\test\\test_30s.wav</td>\n",
       "      <td>eval</td>\n",
       "      <td>-1</td>\n",
       "    </tr>\n",
       "  </tbody>\n",
       "</table>\n",
       "</div>"
      ]
     },
     "execution_count": 109,
     "metadata": {},
     "output_type": "execute_result"
    }
   ],
   "execution_count": 109
  },
  {
   "metadata": {
    "ExecuteTime": {
     "end_time": "2024-06-19T05:15:22.354700Z",
     "start_time": "2024-06-19T05:15:22.351317Z"
    }
   },
   "cell_type": "code",
   "source": "temp_df.to_csv(os.path.join('workspace', 'test.csv'))",
   "id": "7b09f169c0670248",
   "outputs": [],
   "execution_count": 110
  },
  {
   "metadata": {
    "ExecuteTime": {
     "end_time": "2024-06-19T05:15:23.337726Z",
     "start_time": "2024-06-19T05:15:23.334695Z"
    }
   },
   "cell_type": "code",
   "source": "rdf = pd.read_csv(os.path.join('workspace', 'test.csv'), index_col=0)",
   "id": "8ff3fe84189e8911",
   "outputs": [],
   "execution_count": 111
  },
  {
   "metadata": {
    "ExecuteTime": {
     "end_time": "2024-06-19T05:15:24.034277Z",
     "start_time": "2024-06-19T05:15:24.029505Z"
    }
   },
   "cell_type": "code",
   "source": "rdf",
   "id": "239e3fe688034e02",
   "outputs": [
    {
     "data": {
      "text/plain": [
       "                      file   type  label\n",
       "0  datas\\test\\test_10s.wav  train     -1\n",
       "1  datas\\test\\test_30s.wav   eval     -1"
      ],
      "text/html": [
       "<div>\n",
       "<style scoped>\n",
       "    .dataframe tbody tr th:only-of-type {\n",
       "        vertical-align: middle;\n",
       "    }\n",
       "\n",
       "    .dataframe tbody tr th {\n",
       "        vertical-align: top;\n",
       "    }\n",
       "\n",
       "    .dataframe thead th {\n",
       "        text-align: right;\n",
       "    }\n",
       "</style>\n",
       "<table border=\"1\" class=\"dataframe\">\n",
       "  <thead>\n",
       "    <tr style=\"text-align: right;\">\n",
       "      <th></th>\n",
       "      <th>file</th>\n",
       "      <th>type</th>\n",
       "      <th>label</th>\n",
       "    </tr>\n",
       "  </thead>\n",
       "  <tbody>\n",
       "    <tr>\n",
       "      <th>0</th>\n",
       "      <td>datas\\test\\test_10s.wav</td>\n",
       "      <td>train</td>\n",
       "      <td>-1</td>\n",
       "    </tr>\n",
       "    <tr>\n",
       "      <th>1</th>\n",
       "      <td>datas\\test\\test_30s.wav</td>\n",
       "      <td>eval</td>\n",
       "      <td>-1</td>\n",
       "    </tr>\n",
       "  </tbody>\n",
       "</table>\n",
       "</div>"
      ]
     },
     "execution_count": 112,
     "metadata": {},
     "output_type": "execute_result"
    }
   ],
   "execution_count": 112
  },
  {
   "metadata": {
    "ExecuteTime": {
     "end_time": "2024-06-19T05:15:25.900417Z",
     "start_time": "2024-06-19T05:15:25.897911Z"
    }
   },
   "cell_type": "code",
   "source": "list(rdf['file'])",
   "id": "d7c5022a68bee039",
   "outputs": [
    {
     "data": {
      "text/plain": [
       "['datas\\\\test\\\\test_10s.wav', 'datas\\\\test\\\\test_30s.wav']"
      ]
     },
     "execution_count": 113,
     "metadata": {},
     "output_type": "execute_result"
    }
   ],
   "execution_count": 113
  },
  {
   "metadata": {
    "ExecuteTime": {
     "end_time": "2024-06-19T05:16:18.759735Z",
     "start_time": "2024-06-19T05:16:18.756035Z"
    }
   },
   "cell_type": "code",
   "source": "list(rdf[rdf['type'] == 'train']['file'])",
   "id": "5ad17ec147a3cc76",
   "outputs": [
    {
     "data": {
      "text/plain": [
       "['datas\\\\test\\\\test_10s.wav']"
      ]
     },
     "execution_count": 119,
     "metadata": {},
     "output_type": "execute_result"
    }
   ],
   "execution_count": 119
  },
  {
   "metadata": {
    "ExecuteTime": {
     "end_time": "2024-06-21T01:33:47.160466Z",
     "start_time": "2024-06-21T01:33:47.157071Z"
    }
   },
   "cell_type": "code",
   "source": [
    "a = 'aabccd.hdf5'\n",
    "a"
   ],
   "id": "d9e5ca565ef241ab",
   "outputs": [
    {
     "data": {
      "text/plain": [
       "'aabccd.hdf5'"
      ]
     },
     "execution_count": 24,
     "metadata": {},
     "output_type": "execute_result"
    }
   ],
   "execution_count": 24
  },
  {
   "metadata": {
    "ExecuteTime": {
     "end_time": "2024-06-21T01:33:47.456153Z",
     "start_time": "2024-06-21T01:33:47.452778Z"
    }
   },
   "cell_type": "code",
   "source": [
    "str_list = list(a)\n",
    "str_list"
   ],
   "id": "7ff44844a5676efc",
   "outputs": [
    {
     "data": {
      "text/plain": [
       "['a', 'a', 'b', 'c', 'c', 'd', '.', 'h', 'd', 'f', '5']"
      ]
     },
     "execution_count": 25,
     "metadata": {},
     "output_type": "execute_result"
    }
   ],
   "execution_count": 25
  },
  {
   "metadata": {
    "ExecuteTime": {
     "end_time": "2024-06-21T01:34:45.313519Z",
     "start_time": "2024-06-21T01:34:45.310893Z"
    }
   },
   "cell_type": "code",
   "source": [
    "n = 5\n",
    "str_list.insert(-5, f'_{n}')\n",
    "str_list"
   ],
   "id": "1bb3749eae35bb51",
   "outputs": [
    {
     "data": {
      "text/plain": [
       "['a', 'a', 'b', 'c', 'c', 'd', '_0', '_5', '_5', '.', 'h', 'd', 'f', '5']"
      ]
     },
     "execution_count": 29,
     "metadata": {},
     "output_type": "execute_result"
    }
   ],
   "execution_count": 29
  },
  {
   "metadata": {
    "ExecuteTime": {
     "end_time": "2024-06-21T01:47:12.782173Z",
     "start_time": "2024-06-21T01:47:12.778293Z"
    }
   },
   "cell_type": "code",
   "source": [
    "def get_hdf5_handler(base_name):\n",
    "    suffix = base_name.split('.')[-1]\n",
    "    prefix = base_name[:-len(suffix) - 1]\n",
    "    hdf5_files = [prefix + f'_{i}.' + suffix for i in range(2)]\n",
    "    h5f_l = []\n",
    "    return h5f_l\n",
    "\n",
    "result = get_hdf5_handler('test.hdf5')\n",
    "result"
   ],
   "id": "5182f9ce5638704d",
   "outputs": [
    {
     "data": {
      "text/plain": [
       "['test_0.hdf5', 'test_1.hdf5', 'test_2.hdf5', 'test_3.hdf5', 'test_4.hdf5']"
      ]
     },
     "execution_count": 7,
     "metadata": {},
     "output_type": "execute_result"
    }
   ],
   "execution_count": 7
  },
  {
   "metadata": {
    "ExecuteTime": {
     "end_time": "2024-06-21T01:41:30.471896Z",
     "start_time": "2024-06-21T01:41:30.464169Z"
    }
   },
   "cell_type": "code",
   "source": [
    "result = get_hdf5_handler('test.hdf5')\n",
    "result"
   ],
   "id": "757149f597385163",
   "outputs": [
    {
     "name": "stdout",
     "output_type": "stream",
     "text": [
      "test.hdf5\n",
      "['t', 'e', 's', 't', '.', 'h', 'd', 'f', '5']\n",
      "[['t', 'e', 's', 't', '.', 'h', 'd', 'f', '5'], ['t', 'e', 's', 't', '.', 'h', 'd', 'f', '5']]\n"
     ]
    },
    {
     "data": {
      "text/plain": [
       "[['t', 'e', 's', 't', '_0', '.', 'h', 'd', 'f', '5'],\n",
       " ['t', 'e', 's', 't', '_0', '_1', '.', 'h', 'd', 'f', '5']]"
      ]
     },
     "execution_count": 3,
     "metadata": {},
     "output_type": "execute_result"
    }
   ],
   "execution_count": 3
  },
  {
   "metadata": {
    "ExecuteTime": {
     "end_time": "2024-06-21T02:00:08.564219Z",
     "start_time": "2024-06-21T02:00:08.560993Z"
    }
   },
   "cell_type": "code",
   "source": [
    "ll = [round(i * 119 / 10) for i in range(1, 1+10)]\n",
    "ll"
   ],
   "id": "cbf72ead3ad14af8",
   "outputs": [
    {
     "data": {
      "text/plain": [
       "[12, 24, 36, 48, 60, 71, 83, 95, 107, 119]"
      ]
     },
     "execution_count": 28,
     "metadata": {},
     "output_type": "execute_result"
    }
   ],
   "execution_count": 28
  },
  {
   "metadata": {
    "ExecuteTime": {
     "end_time": "2024-06-21T01:58:53.317098Z",
     "start_time": "2024-06-21T01:58:53.313927Z"
    }
   },
   "cell_type": "code",
   "source": [
    "import bisect\n",
    "bisect.bisect_left(ll, 119)"
   ],
   "id": "44da532c49a76290",
   "outputs": [
    {
     "data": {
      "text/plain": [
       "10"
      ]
     },
     "execution_count": 22,
     "metadata": {},
     "output_type": "execute_result"
    }
   ],
   "execution_count": 22
  },
  {
   "metadata": {
    "ExecuteTime": {
     "end_time": "2024-06-21T23:42:35.493993Z",
     "start_time": "2024-06-21T23:42:35.490736Z"
    }
   },
   "cell_type": "code",
   "source": [
    "import os\n",
    "import torch\n",
    "import librosa\n",
    "import torchaudio\n",
    "test_f = os.path.join('datas', 'test', 'test_5s.wav')"
   ],
   "id": "5b1214b01f2c449c",
   "outputs": [],
   "execution_count": 59
  },
  {
   "metadata": {
    "ExecuteTime": {
     "end_time": "2024-06-21T23:44:15.104524Z",
     "start_time": "2024-06-21T23:44:15.098524Z"
    }
   },
   "cell_type": "code",
   "source": [
    "signal, sr = torchaudio.load(test_f)\n",
    "signal_tensor = torchaudio.functional.resample(signal, sr, 32000)\n",
    "signal_tensor = signal_tensor[:, :16000]\n",
    "signal_tensor.mean()"
   ],
   "id": "78fb9d42ddacac0d",
   "outputs": [
    {
     "data": {
      "text/plain": [
       "tensor(-8.6682e-06)"
      ]
     },
     "execution_count": 67,
     "metadata": {},
     "output_type": "execute_result"
    }
   ],
   "execution_count": 67
  },
  {
   "metadata": {
    "ExecuteTime": {
     "end_time": "2024-06-22T00:05:51.720013Z",
     "start_time": "2024-06-22T00:05:51.712687Z"
    }
   },
   "cell_type": "code",
   "source": [
    "fbank1 = torchaudio.compliance.kaldi.fbank(signal_tensor, sample_frequency=32000, num_mel_bins=64, frame_length=25, frame_shift=10, use_energy=False, htk_compat=True, window_type='hanning')\n",
    "fbank1.shape, fbank1"
   ],
   "id": "9241e4170c98aba8",
   "outputs": [
    {
     "data": {
      "text/plain": [
       "(torch.Size([498, 64]),\n",
       " tensor([[-9.3886, -7.8770, -5.4048,  ...,  2.5769,  5.2955,  2.8710],\n",
       "         [-8.7952, -7.8567, -6.9791,  ...,  3.4606,  5.4970,  2.7016],\n",
       "         [-8.7187, -6.5805, -5.2349,  ...,  3.6090,  5.7197,  3.2470],\n",
       "         ...,\n",
       "         [-8.4016, -6.8130, -4.8061,  ...,  2.1012,  5.5413,  4.0948],\n",
       "         [-8.6447, -6.5375, -4.9988,  ...,  2.1592,  5.6082,  4.2566],\n",
       "         [-8.9351, -7.1739, -4.5902,  ...,  2.0951,  5.7093,  4.4088]]))"
      ]
     },
     "execution_count": 70,
     "metadata": {},
     "output_type": "execute_result"
    }
   ],
   "execution_count": 70
  },
  {
   "metadata": {
    "ExecuteTime": {
     "end_time": "2024-06-22T00:06:11.936007Z",
     "start_time": "2024-06-22T00:06:11.929225Z"
    }
   },
   "cell_type": "code",
   "source": [
    "fbank2_m = torchaudio.transforms.MelSpectrogram(\n",
    "    sample_rate=32000,\n",
    "    n_fft = 800,\n",
    "    hop_length = 320,\n",
    "    f_min = 20.0,\n",
    "    n_mels = 64,\n",
    ")\n",
    "fbank2 = fbank2_m(signal_tensor)\n",
    "log_offset = 1e-6\n",
    "fbank2 = torch.log(fbank2 + log_offset).permute(0, 2, 1).squeeze(0)\n",
    "fbank2.shape, fbank2"
   ],
   "id": "8e7946036ae90a45",
   "outputs": [
    {
     "data": {
      "text/plain": [
       "(torch.Size([501, 64]),\n",
       " tensor([[-0.8197, -0.8853,  1.3534,  ...,  1.1577,  4.2555,  1.5151],\n",
       "         [-2.7766, -1.6788,  1.1588,  ...,  0.9371,  3.7480,  1.3173],\n",
       "         [-2.3074, -1.4341, -0.7969,  ...,  1.6858,  3.8068,  1.0996],\n",
       "         ...,\n",
       "         [-2.0937, -1.6511,  1.2522,  ...,  0.5090,  4.1544,  2.8605],\n",
       "         [-2.5462, -1.1531,  1.5938,  ...,  1.1356,  4.0340,  2.6191],\n",
       "         [-2.2207,  0.0892,  1.4528,  ...,  0.9726,  4.0239,  2.6166]]))"
      ]
     },
     "execution_count": 72,
     "metadata": {},
     "output_type": "execute_result"
    }
   ],
   "execution_count": 72
  },
  {
   "metadata": {
    "ExecuteTime": {
     "end_time": "2024-06-22T00:25:37.412317Z",
     "start_time": "2024-06-22T00:25:37.345937Z"
    }
   },
   "cell_type": "code",
   "source": [
    "from torchlibrosa.stft import Spectrogram, LogmelFilterBank\n",
    "spe_m = Spectrogram(n_fft=800, hop_length=320, win_length=800)\n",
    "fbank3_m = LogmelFilterBank(sr=32000, n_fft=800, n_mels=64, fmin=20., top_db=None)\n",
    "fbank3 = spe_m(signal_tensor)\n",
    "fbank3 = fbank3_m(fbank3).squeeze(0).squeeze(0)\n",
    "fbank3.shape, fbank3"
   ],
   "id": "44297a7200762af8",
   "outputs": [
    {
     "data": {
      "text/plain": [
       "(torch.Size([501, 64]),\n",
       " tensor([[-18.8689,  -9.6641,  -6.9690,  ..., -24.2087, -11.8399, -15.9438],\n",
       "         [-24.2771, -10.6027,  -0.6918,  ..., -23.9369, -14.0355, -17.8179],\n",
       "         [-22.7095, -19.2821,  -7.9552,  ..., -20.7821, -13.5998, -17.9113],\n",
       "         ...,\n",
       "         [-22.9208, -10.1186,  -0.4437,  ..., -24.5749, -12.5462, -13.9350],\n",
       "         [-22.3521,  -8.7371,  -3.5879,  ..., -24.3663, -12.9280, -14.7525],\n",
       "         [-17.8741,  -9.8546, -11.3344,  ..., -23.8807, -12.9823, -14.8048]]))"
      ]
     },
     "execution_count": 79,
     "metadata": {},
     "output_type": "execute_result"
    }
   ],
   "execution_count": 79
  },
  {
   "metadata": {
    "ExecuteTime": {
     "end_time": "2024-06-22T00:46:12.570109Z",
     "start_time": "2024-06-22T00:46:12.567499Z"
    }
   },
   "cell_type": "code",
   "source": [
    "import numpy as np\n",
    "def _pre_process(waveform):\n",
    "    waveform = waveform - waveform.mean()\n",
    "    idx = np.random.randint(len(waveform))\n",
    "    rolled_waveform = np.roll(waveform, idx)\n",
    "    mag = np.random.beta(10, 10) + 0.5\n",
    "    waveform = rolled_waveform * mag\n",
    "\n",
    "    return torch.Tensor(waveform)"
   ],
   "id": "c19f7a929a2d8492",
   "outputs": [],
   "execution_count": 86
  },
  {
   "metadata": {
    "ExecuteTime": {
     "end_time": "2024-06-22T00:46:29.013359Z",
     "start_time": "2024-06-22T00:46:29.009116Z"
    }
   },
   "cell_type": "code",
   "source": [
    "waveform, _ = librosa.load(test_f, sr=32000)\n",
    "# waveform = _pre_process(waveform)\n",
    "type(waveform), waveform.shape"
   ],
   "id": "e4fca8eb867afcba",
   "outputs": [
    {
     "data": {
      "text/plain": [
       "(numpy.ndarray, (160000,))"
      ]
     },
     "execution_count": 88,
     "metadata": {},
     "output_type": "execute_result"
    }
   ],
   "execution_count": 88
  },
  {
   "metadata": {
    "ExecuteTime": {
     "end_time": "2024-06-27T02:53:53.144536Z",
     "start_time": "2024-06-27T02:53:53.045564Z"
    }
   },
   "cell_type": "code",
   "source": [
    "from utils import AMAEConfig\n",
    "cfg = AMAEConfig(cfg_path='config/pretrain.yaml')"
   ],
   "id": "6927340cadf1a831",
   "outputs": [],
   "execution_count": 1
  },
  {
   "metadata": {
    "ExecuteTime": {
     "end_time": "2024-06-27T02:53:53.147386Z",
     "start_time": "2024-06-27T02:53:53.145533Z"
    }
   },
   "cell_type": "code",
   "source": "print(cfg)",
   "id": "4eaae3ae29c95391",
   "outputs": [
    {
     "name": "stdout",
     "output_type": "stream",
     "text": [
      "AMAEConfig\n",
      "cfg_path: config/pretrain.yaml\n",
      "sample_rate: 32000\n",
      "frame_length: 25\n",
      "frame_shift: 10\n",
      "mel_bins: 64\n",
      "spec_size: 256\n",
      "patch_size: 4\n",
      "embed_dim: 96\n",
      "window_size: 8\n",
      "latent_channel: 32\n",
      "extra_downsample_ratio: 1\n",
      "num_classes: 0\n",
      "absolute_position_embedding: False\n",
      "EC_mlp_ratio: 4\n",
      "EC_num_head: [4, 8, 16, 32]\n",
      "EC_depth: [2, 2, 6, 2]\n",
      "EC_attn_norm: True\n",
      "EC_patch_norm: True\n",
      "EC_qkv_bias: True\n",
      "EC_drop_rate: 0.0\n",
      "EC_attn_drop_rate: 0.0\n",
      "EC_drop_path_rate: 0.1\n",
      "DC_num_head: [32, 16, 8, 4]\n",
      "DC_depth: [2, 6, 2, 2]\n",
      "DC_mlp_ratio: 4.0\n",
      "DC_drop_rate: 0.0\n",
      "DC_attn_drop_rate: 0.0\n",
      "DC_drop_path_rate: 0.1\n",
      "DC_attn_norm: True\n",
      "DC_patch_norm: True\n",
      "DC_qkv_bias: True\n",
      "h5df_write: False\n",
      "pre_training: True\n",
      "load_encoder: False\n",
      "load_decoder: False\n",
      "roll_mag_aug: True\n",
      "mask_ratio: 0.6\n",
      "norm_pix_loss: True\n",
      "restore_mask_only: True\n",
      "batch_size: 64\n",
      "learning_rate: 0.001\n",
      "max_epoch: 100\n",
      "lr_scheduler: [0.02, 0.05, 0.1]\n",
      "lr_scheduler_epoch: [4, 5, 6]\n",
      "data_csv: workspace\\datas.csv\n",
      "hdf5_file: workspace\\dataset_pretrain.hdf5\n",
      "encoder_ckpt: workspace\\2024-06-15_21-16-26\\encoder_R1_E1.pth\n",
      "decoder_ckpt: workspace\\2024-06-15_21-16-26\\decoder_R1_E1.pth\n",
      "workspace: workspace\n",
      "\n"
     ]
    }
   ],
   "execution_count": 2
  },
  {
   "metadata": {
    "ExecuteTime": {
     "end_time": "2024-06-27T02:45:59.112680Z",
     "start_time": "2024-06-27T02:45:59.110432Z"
    }
   },
   "cell_type": "code",
   "source": "",
   "id": "67dbb7d5535816f2",
   "outputs": [
    {
     "name": "stdout",
     "output_type": "stream",
     "text": [
      "AMAEConfig(cfg_path='config/pretrain.yaml', data_csv='workspace\\\\datas.csv', hdf5_file='workspace\\\\dataset_pretrain.hdf5', encoder_ckpt='workspace\\\\2024-06-15_21-16-26\\\\encoder_R1_E1.pth', decoder_ckpt='workspace\\\\2024-06-15_21-16-26\\\\decoder_R1_E1.pth', workspace='workspace', sample_rate=32000, frame_length=25, frame_shift=10, mel_bins=64, h5df_write=False, pre_training=True, load_encoder=False, load_decoder=False, roll_mag_aug=True, mask_ratio=0.6, norm_pix_loss=True, restore_mask_only=True, batch_size=64, learning_rate=0.001, max_epoch=100, lr_scheduler=[0.02, 0.05, 0.1], lr_scheduler_epoch=[4, 5, 6], extra_downsample_ratio=1, num_classes=0, embed_dim=96, patch_size=4, window_size=8, spec_size=256, latent_channel=32, absolute_position_embedding=False, EC_attn_norm=True, EC_patch_norm=True, EC_qkv_bias=True, EC_mlp_ratio=4, EC_num_head=[4, 8, 16, 32], EC_depth=[2, 2, 6, 2], EC_drop_rate=0.0, EC_attn_drop_rate=0.0, EC_drop_path_rate=0.1, DC_num_head=[32, 16, 8, 4], DC_depth=[2, 6, 2, 2], DC_mlp_ratio=4.0, DC_drop_rate=0.0, DC_attn_drop_rate=0.0, DC_drop_path_rate=0.1, DC_attn_norm=True, DC_patch_norm=True, DC_qkv_bias=True)\n"
     ]
    }
   ],
   "execution_count": 4
  },
  {
   "metadata": {},
   "cell_type": "code",
   "outputs": [],
   "execution_count": null,
   "source": "",
   "id": "1930a612db6c6dd4"
  }
 ],
 "metadata": {
  "kernelspec": {
   "display_name": "Python 3",
   "language": "python",
   "name": "python3"
  },
  "language_info": {
   "codemirror_mode": {
    "name": "ipython",
    "version": 2
   },
   "file_extension": ".py",
   "mimetype": "text/x-python",
   "name": "python",
   "nbconvert_exporter": "python",
   "pygments_lexer": "ipython2",
   "version": "2.7.6"
  }
 },
 "nbformat": 4,
 "nbformat_minor": 5
}
