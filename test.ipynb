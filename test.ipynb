{
 "cells": [
  {
   "cell_type": "code",
   "id": "initial_id",
   "metadata": {
    "collapsed": true,
    "ExecuteTime": {
     "end_time": "2024-06-13T06:40:51.785714Z",
     "start_time": "2024-06-13T06:40:50.837209Z"
    }
   },
   "source": [
    "from utils import AMAEConfig\n",
    "from model import AudioMAE\n",
    "import librosa\n",
    "import os\n",
    "import torch\n",
    "from torchinfo import summary\n"
   ],
   "outputs": [],
   "execution_count": 1
  },
  {
   "cell_type": "code",
   "source": [
    "test_cfg = AMAEConfig(cfg_path=r'E:\\project\\python\\Audio_MAE_Base_ST\\config\\auto_encoder.yaml')\n",
    "test_m = AudioMAE(test_cfg)\n",
    "test_f = os.path.join('datas', 'test', 'test_10s.wav')\n",
    "signal, _ = librosa.load(test_f, sr=32000, mono=True)\n",
    "model_input = torch.Tensor(signal).unsqueeze(0)"
   ],
   "metadata": {
    "collapsed": false,
    "ExecuteTime": {
     "end_time": "2024-06-13T06:40:53.365946Z",
     "start_time": "2024-06-13T06:40:51.786711Z"
    }
   },
   "id": "15f6bea93ad3229a",
   "outputs": [],
   "execution_count": 2
  },
  {
   "cell_type": "code",
   "source": "summary(test_m, input_size=(4, 320000), depth=5, col_names=(\"input_size\", \"output_size\", \"num_params\", \"trainable\", \"kernel_size\"))",
   "metadata": {
    "collapsed": false,
    "ExecuteTime": {
     "end_time": "2024-06-13T06:40:53.951039Z",
     "start_time": "2024-06-13T06:40:53.365946Z"
    }
   },
   "id": "4060e59a5347d57b",
   "outputs": [
    {
     "data": {
      "text/plain": [
       "====================================================================================================================================================================================\n",
       "Layer (type:depth-idx)                                  Input Shape               Output Shape              Param #                   Trainable                 Kernel Shape\n",
       "====================================================================================================================================================================================\n",
       "AudioMAE                                                [4, 320000]               [4, 1, 1024, 64]          --                        Partial                   --\n",
       "├─STEncoder: 1-1                                        [4, 320000]               --                        --                        Partial                   --\n",
       "│    └─Spectrogram: 2-1                                 [4, 320000]               [4, 1, 1001, 513]         --                        False                     --\n",
       "│    │    └─STFT: 3-1                                   --                        --                        --                        False                     --\n",
       "│    │    │    └─Conv1d: 4-1                            [4, 1, 321024]            [4, 513, 1001]            (525,312)                 False                     [1024]\n",
       "│    │    │    └─Conv1d: 4-2                            [4, 1, 321024]            [4, 513, 1001]            (525,312)                 False                     [1024]\n",
       "│    └─LogmelFilterBank: 2-2                            [4, 1, 1001, 513]         [4, 1, 1001, 64]          (32,832)                  False                     --\n",
       "│    └─BatchNorm2d: 2-3                                 [4, 64, 1024, 1]          [4, 64, 1024, 1]          128                       True                      --\n",
       "│    └─PatchEmbed: 2-4                                  [4, 1, 256, 256]          [4, 4096, 96]             --                        True                      --\n",
       "│    │    └─Conv2d: 3-2                                 [4, 1, 256, 256]          [4, 96, 64, 64]           1,632                     True                      [4, 4]\n",
       "│    │    └─LayerNorm: 3-3                              [4, 4096, 96]             [4, 4096, 96]             192                       True                      --\n",
       "│    └─Dropout: 2-5                                     [4, 4096, 96]             [4, 4096, 96]             --                        --                        --\n",
       "│    └─ModuleList: 2-6                                  --                        --                        --                        True                      --\n",
       "│    │    └─BasicLayer: 3-4                             [4, 4096, 96]             [4, 1024, 192]            --                        True                      --\n",
       "│    │    │    └─ModuleList: 4-3                        --                        --                        --                        True                      --\n",
       "│    │    │    │    └─SwinTransformerBlock: 5-1         [4, 4096, 96]             [4, 4096, 96]             112,740                   True                      --\n",
       "│    │    │    │    └─SwinTransformerBlock: 5-2         [4, 4096, 96]             [4, 4096, 96]             112,740                   True                      --\n",
       "│    │    │    └─PatchMerging: 4-4                      [4, 4096, 96]             [4, 1024, 192]            --                        True                      --\n",
       "│    │    │    │    └─LayerNorm: 5-3                    [4, 1024, 384]            [4, 1024, 384]            768                       True                      --\n",
       "│    │    │    │    └─Linear: 5-4                       [4, 1024, 384]            [4, 1024, 192]            73,728                    True                      --\n",
       "│    │    └─BasicLayer: 3-5                             [4, 1024, 192]            [4, 256, 384]             --                        True                      --\n",
       "│    │    │    └─ModuleList: 4-5                        --                        --                        --                        True                      --\n",
       "│    │    │    │    └─SwinTransformerBlock: 5-5         [4, 1024, 192]            [4, 1024, 192]            446,664                   True                      --\n",
       "│    │    │    │    └─SwinTransformerBlock: 5-6         [4, 1024, 192]            [4, 1024, 192]            446,664                   True                      --\n",
       "│    │    │    └─PatchMerging: 4-6                      [4, 1024, 192]            [4, 256, 384]             --                        True                      --\n",
       "│    │    │    │    └─LayerNorm: 5-7                    [4, 256, 768]             [4, 256, 768]             1,536                     True                      --\n",
       "│    │    │    │    └─Linear: 5-8                       [4, 256, 768]             [4, 256, 384]             294,912                   True                      --\n",
       "│    │    └─BasicLayer: 3-6                             [4, 256, 384]             [4, 64, 768]              --                        True                      --\n",
       "│    │    │    └─ModuleList: 4-7                        --                        --                        --                        True                      --\n",
       "│    │    │    │    └─SwinTransformerBlock: 5-9         [4, 256, 384]             [4, 256, 384]             1,778,064                 True                      --\n",
       "│    │    │    │    └─SwinTransformerBlock: 5-10        [4, 256, 384]             [4, 256, 384]             1,778,064                 True                      --\n",
       "│    │    │    │    └─SwinTransformerBlock: 5-11        [4, 256, 384]             [4, 256, 384]             1,778,064                 True                      --\n",
       "│    │    │    │    └─SwinTransformerBlock: 5-12        [4, 256, 384]             [4, 256, 384]             1,778,064                 True                      --\n",
       "│    │    │    │    └─SwinTransformerBlock: 5-13        [4, 256, 384]             [4, 256, 384]             1,778,064                 True                      --\n",
       "│    │    │    │    └─SwinTransformerBlock: 5-14        [4, 256, 384]             [4, 256, 384]             1,778,064                 True                      --\n",
       "│    │    │    └─PatchMerging: 4-8                      [4, 256, 384]             [4, 64, 768]              --                        True                      --\n",
       "│    │    │    │    └─LayerNorm: 5-15                   [4, 64, 1536]             [4, 64, 1536]             3,072                     True                      --\n",
       "│    │    │    │    └─Linear: 5-16                      [4, 64, 1536]             [4, 64, 768]              1,179,648                 True                      --\n",
       "│    │    └─BasicLayer: 3-7                             [4, 64, 768]              [4, 64, 768]              --                        True                      --\n",
       "│    │    │    └─ModuleList: 4-9                        --                        --                        --                        True                      --\n",
       "│    │    │    │    └─SwinTransformerBlock: 5-17        [4, 64, 768]              [4, 64, 768]              7,095,072                 True                      --\n",
       "│    │    │    │    └─SwinTransformerBlock: 5-18        [4, 64, 768]              [4, 64, 768]              7,095,072                 True                      --\n",
       "│    └─LayerNorm: 2-7                                   [4, 64, 768]              [4, 64, 768]              1,536                     True                      --\n",
       "│    └─Conv2d: 2-8                                      [4, 768, 8, 8]            [4, 32, 8, 8]             24,608                    True                      [1, 1]\n",
       "│    └─AdaptiveAvgPool1d: 2-9                           [4, 32, 64]               [4, 32, 1]                --                        --                        --\n",
       "│    └─Identity: 2-10                                   [4, 32, 32, 2]            [4, 32, 32, 2]            --                        --                        --\n",
       "│    └─AdaptiveAvgPool1d: 2-11                          [4, 32, 64]               [4, 32, 1]                --                        --                        --\n",
       "├─STDecoder: 1-2                                        [4, 32, 32, 2]            [4, 1, 1024, 64]          --                        True                      --\n",
       "│    └─Conv2d: 2-12                                     [4, 32, 8, 8]             [4, 768, 8, 8]            25,344                    True                      [1, 1]\n",
       "│    └─LayerNorm: 2-13                                  [4, 64, 768]              [4, 64, 768]              1,536                     True                      --\n",
       "│    └─ModuleList: 2-14                                 --                        --                        --                        True                      --\n",
       "│    │    └─BasicLayer: 3-8                             [4, 64, 768]              [4, 256, 384]             --                        True                      --\n",
       "│    │    │    └─ModuleList: 4-10                       --                        --                        --                        True                      --\n",
       "│    │    │    │    └─SwinTransformerBlock: 5-19        [4, 64, 768]              [4, 64, 768]              7,095,072                 True                      --\n",
       "│    │    │    │    └─SwinTransformerBlock: 5-20        [4, 64, 768]              [4, 64, 768]              7,095,072                 True                      --\n",
       "│    │    │    └─PatchSeparate: 4-11                    [4, 64, 768]              [4, 256, 384]             --                        True                      --\n",
       "│    │    │    │    └─LayerNorm: 5-21                   [4, 64, 768]              [4, 64, 768]              1,536                     True                      --\n",
       "│    │    │    │    └─Linear: 5-22                      [4, 64, 768]              [4, 64, 1536]             1,179,648                 True                      --\n",
       "│    │    └─BasicLayer: 3-9                             [4, 256, 384]             [4, 1024, 192]            --                        True                      --\n",
       "│    │    │    └─ModuleList: 4-12                       --                        --                        --                        True                      --\n",
       "│    │    │    │    └─SwinTransformerBlock: 5-23        [4, 256, 384]             [4, 256, 384]             1,778,064                 True                      --\n",
       "│    │    │    │    └─SwinTransformerBlock: 5-24        [4, 256, 384]             [4, 256, 384]             1,778,064                 True                      --\n",
       "│    │    │    │    └─SwinTransformerBlock: 5-25        [4, 256, 384]             [4, 256, 384]             1,778,064                 True                      --\n",
       "│    │    │    │    └─SwinTransformerBlock: 5-26        [4, 256, 384]             [4, 256, 384]             1,778,064                 True                      --\n",
       "│    │    │    │    └─SwinTransformerBlock: 5-27        [4, 256, 384]             [4, 256, 384]             1,778,064                 True                      --\n",
       "│    │    │    │    └─SwinTransformerBlock: 5-28        [4, 256, 384]             [4, 256, 384]             1,778,064                 True                      --\n",
       "│    │    │    └─PatchSeparate: 4-13                    [4, 256, 384]             [4, 1024, 192]            --                        True                      --\n",
       "│    │    │    │    └─LayerNorm: 5-29                   [4, 256, 384]             [4, 256, 384]             768                       True                      --\n",
       "│    │    │    │    └─Linear: 5-30                      [4, 256, 384]             [4, 256, 768]             294,912                   True                      --\n",
       "│    │    └─BasicLayer: 3-10                            [4, 1024, 192]            [4, 4096, 96]             --                        True                      --\n",
       "│    │    │    └─ModuleList: 4-14                       --                        --                        --                        True                      --\n",
       "│    │    │    │    └─SwinTransformerBlock: 5-31        [4, 1024, 192]            [4, 1024, 192]            446,664                   True                      --\n",
       "│    │    │    │    └─SwinTransformerBlock: 5-32        [4, 1024, 192]            [4, 1024, 192]            446,664                   True                      --\n",
       "│    │    │    └─PatchSeparate: 4-15                    [4, 1024, 192]            [4, 4096, 96]             --                        True                      --\n",
       "│    │    │    │    └─LayerNorm: 5-33                   [4, 1024, 192]            [4, 1024, 192]            384                       True                      --\n",
       "│    │    │    │    └─Linear: 5-34                      [4, 1024, 192]            [4, 1024, 384]            73,728                    True                      --\n",
       "│    │    └─BasicLayer: 3-11                            [4, 4096, 96]             [4, 4096, 96]             --                        True                      --\n",
       "│    │    │    └─ModuleList: 4-16                       --                        --                        --                        True                      --\n",
       "│    │    │    │    └─SwinTransformerBlock: 5-35        [4, 4096, 96]             [4, 4096, 96]             112,740                   True                      --\n",
       "│    │    │    │    └─SwinTransformerBlock: 5-36        [4, 4096, 96]             [4, 4096, 96]             112,740                   True                      --\n",
       "│    └─Dropout: 2-15                                    [4, 4096, 96]             [4, 4096, 96]             --                        --                        --\n",
       "│    └─PatchEmbedInverse: 2-16                          [4, 4096, 96]             [4, 1, 256, 256]          --                        True                      --\n",
       "│    │    └─LayerNorm: 3-12                             [4, 4096, 96]             [4, 4096, 96]             192                       True                      --\n",
       "│    │    └─ConvTranspose2d: 3-13                       [4, 96, 64, 64]           [4, 1, 256, 256]          1,537                     True                      [4, 4]\n",
       "====================================================================================================================================================================================\n",
       "Total params: 56,199,473\n",
       "Trainable params: 55,116,017\n",
       "Non-trainable params: 1,083,456\n",
       "Total mult-adds (Units.GIGABYTES): 5.03\n",
       "====================================================================================================================================================================================\n",
       "Input size (MB): 5.12\n",
       "Forward/backward pass size (MB): 1462.62\n",
       "Params size (MB): 224.47\n",
       "Estimated Total Size (MB): 1692.20\n",
       "===================================================================================================================================================================================="
      ]
     },
     "execution_count": 3,
     "metadata": {},
     "output_type": "execute_result"
    }
   ],
   "execution_count": 3
  },
  {
   "cell_type": "code",
   "source": [
    "output = test_m(model_input)\n",
    "output.shape"
   ],
   "metadata": {
    "collapsed": false
   },
   "id": "1ec8233a899376ce",
   "outputs": [],
   "execution_count": null
  },
  {
   "cell_type": "code",
   "source": [
    "output[:, 0::2, :, :].shape"
   ],
   "metadata": {
    "collapsed": false
   },
   "id": "ba0c90189f937d26",
   "outputs": [],
   "execution_count": null
  },
  {
   "cell_type": "code",
   "source": [
    "a = torch.tensor(list(range(24)), dtype=torch.int32)\n",
    "b = a + 10\n",
    "a, b = a.reshape(2, 2, 2, 3), b.reshape(2, 2, 2, 3)\n",
    "a, b\n"
   ],
   "metadata": {
    "collapsed": false
   },
   "id": "8635bf9883f58f3b",
   "outputs": [],
   "execution_count": null
  },
  {
   "cell_type": "code",
   "source": [
    "c = x = torch.cat([a, b], -1)\n",
    "c"
   ],
   "metadata": {
    "collapsed": false
   },
   "id": "8fccec9e8db00260",
   "outputs": [],
   "execution_count": null
  },
  {
   "cell_type": "code",
   "source": [
    "a = [10, 100, 1000, 10000]\n",
    "a = torch.tensor(a, dtype=torch.int32)\n",
    "a = torch.stack([a, a+1], dim = 1)\n",
    "\n",
    "b = a * 2\n",
    "c = a * 3\n",
    "d = a * 4\n",
    "a.shape, a, b, c, d"
   ],
   "metadata": {
    "collapsed": false
   },
   "id": "aab0cbcfb8afba12",
   "outputs": [],
   "execution_count": null
  },
  {
   "cell_type": "code",
   "source": [
    "x1 = torch.stack([a, c], dim = 1).reshape(2, 4, 2)\n",
    "x1.shape, x1"
   ],
   "metadata": {
    "collapsed": false
   },
   "id": "46b514dc41617eef",
   "outputs": [],
   "execution_count": null
  },
  {
   "cell_type": "code",
   "source": [
    "x2 = torch.stack([b, d], dim = 1).reshape(2, 4, 2)\n",
    "x2.shape, x2"
   ],
   "metadata": {
    "collapsed": false
   },
   "id": "8ef619af17360998",
   "outputs": [],
   "execution_count": null
  },
  {
   "cell_type": "code",
   "source": [
    "x = torch.stack([x1, x2], dim = 1).reshape(4, 4, 2)\n",
    "x.shape, x"
   ],
   "metadata": {
    "collapsed": false
   },
   "id": "2e9da7473fb289ce",
   "outputs": [],
   "execution_count": null
  },
  {
   "cell_type": "code",
   "source": [
    "import torch\n",
    "H1, W1 = 8, 8\n",
    "ori = torch.randint(high=100, size=(12, 64, 15), dtype=torch.int32)\n",
    "B1, L1, C1 = ori.shape\n",
    "B1, L1, C1, H1, W1"
   ],
   "metadata": {
    "collapsed": false
   },
   "id": "6c122de88187087b",
   "outputs": [],
   "execution_count": null
  },
  {
   "cell_type": "code",
   "source": [
    "m = ori.view(B1, H1, W1, C1)\n",
    "m0 = m[:, 0::2, 0::2, :]  # [B, H/2, W/2, C]\n",
    "m1 = m[:, 1::2, 0::2, :]  # [B, H/2, W/2, C]\n",
    "m2 = m[:, 0::2, 1::2, :]  # [B, H/2, W/2, C]\n",
    "m3 = m[:, 1::2, 1::2, :]  # [B, H/2, W/2, C]\n",
    "o = torch.cat([m0, m1, m2, m3], -1)  # [B, H/2, W/2, 4*C]\n",
    "o = o.view(B1, -1, 4 * C1)  # [B, H/2*W/2, 4*C]\n",
    "o.shape"
   ],
   "metadata": {
    "collapsed": false
   },
   "id": "fde9c824faef1f7c",
   "outputs": [],
   "execution_count": null
  },
  {
   "cell_type": "code",
   "source": [
    "H2, W2 = 4, 4\n",
    "B2, L2, C2 = o.shape\n",
    "\n",
    "n0 = o[..., :C2//4]\n",
    "n1 = o[..., C2//4:C2//4 * 2]\n",
    "n2 = o[..., C2//4 * 2:C2//4 * 3]\n",
    "n3 = o[..., C2//4 * 3:C2//4 * 4]\n",
    "\n",
    "a = torch.stack([n0, n2], dim=2).reshape(B2, H2, 2 * W2, C2//4)\n",
    "b = torch.stack([n1, n3], dim=2).reshape(B2, H2, 2 * W2, C2//4)\n",
    "final = torch.stack([a, b], dim=2).reshape(B2, 4*L2, C2//4)\n",
    "final.shape"
   ],
   "metadata": {
    "collapsed": false
   },
   "id": "c905d4e4c3c03c5e",
   "outputs": [],
   "execution_count": null
  },
  {
   "cell_type": "code",
   "source": [
    "(final == ori).sum() == B1 * L1 * C1"
   ],
   "metadata": {
    "collapsed": false
   },
   "id": "818a1452d53ecb00",
   "outputs": [],
   "execution_count": null
  },
  {
   "cell_type": "code",
   "source": [
    "def reshape_wav2img(x, freq_ratio):\n",
    "    x = x.permute(0, 1, 3, 2).contiguous()\n",
    "    x = x.reshape(x.shape[0], x.shape[1], x.shape[2], freq_ratio, x.shape[3] // freq_ratio)\n",
    "    x = x.permute(0, 1, 3, 2, 4).contiguous()\n",
    "    x = x.reshape(x.shape[0], x.shape[1], x.shape[2] * x.shape[3], x.shape[4])\n",
    "    return x  # [B, 1, f, T]\n",
    "\n",
    "\n",
    "def reshape_img2wav(x, freq_ratio):\n",
    "    batch, channel, freq, time = x.shape\n",
    "    ori_freq_bin = freq // freq_ratio\n",
    "    x = x.reshape(batch, channel, freq // ori_freq_bin, ori_freq_bin, time)\n",
    "    x = x.permute(0, 1, 3, 2, 4).contiguous().reshape(batch, channel, ori_freq_bin, -1)\n",
    "    x = x.permute(0, 1, 3, 2).contiguous()\n",
    "    return x"
   ],
   "metadata": {
    "collapsed": false,
    "ExecuteTime": {
     "end_time": "2024-06-12T08:44:09.782938Z",
     "start_time": "2024-06-12T08:44:09.778644Z"
    }
   },
   "id": "9a568116cd708ea6",
   "outputs": [],
   "execution_count": 6
  },
  {
   "metadata": {
    "ExecuteTime": {
     "end_time": "2024-06-12T08:44:15.956022Z",
     "start_time": "2024-06-12T08:44:15.951781Z"
    }
   },
   "cell_type": "code",
   "source": [
    "a = torch.randint(high=1000000, size=(4, 1, 1024, 64), dtype=torch.int32)\n",
    "a.shape"
   ],
   "id": "e4c3d459b2ad5da3",
   "outputs": [
    {
     "data": {
      "text/plain": [
       "torch.Size([4, 1, 1024, 64])"
      ]
     },
     "execution_count": 9,
     "metadata": {},
     "output_type": "execute_result"
    }
   ],
   "execution_count": 9
  },
  {
   "metadata": {
    "ExecuteTime": {
     "end_time": "2024-06-12T08:44:23.117629Z",
     "start_time": "2024-06-12T08:44:23.114013Z"
    }
   },
   "cell_type": "code",
   "source": [
    "b = reshape_wav2img(a, 4)\n",
    "b.shape"
   ],
   "id": "20205297ffdfa2cf",
   "outputs": [
    {
     "data": {
      "text/plain": [
       "torch.Size([4, 1, 256, 256])"
      ]
     },
     "execution_count": 11,
     "metadata": {},
     "output_type": "execute_result"
    }
   ],
   "execution_count": 11
  },
  {
   "metadata": {
    "ExecuteTime": {
     "end_time": "2024-06-12T08:44:40.606070Z",
     "start_time": "2024-06-12T08:44:40.603137Z"
    }
   },
   "cell_type": "code",
   "source": [
    "c = reshape_wav2img(b, 4)\n",
    "c.shape"
   ],
   "id": "f73d739e38be5b8d",
   "outputs": [
    {
     "data": {
      "text/plain": [
       "torch.Size([4, 1, 1024, 64])"
      ]
     },
     "execution_count": 13,
     "metadata": {},
     "output_type": "execute_result"
    }
   ],
   "execution_count": 13
  },
  {
   "metadata": {
    "ExecuteTime": {
     "end_time": "2024-06-12T08:45:20.163793Z",
     "start_time": "2024-06-12T08:45:20.159641Z"
    }
   },
   "cell_type": "code",
   "source": "(a == c).sum() == 4 * 1 * 1024 * 64",
   "id": "8756fdc6294ca1f0",
   "outputs": [
    {
     "data": {
      "text/plain": [
       "tensor(True)"
      ]
     },
     "execution_count": 17,
     "metadata": {},
     "output_type": "execute_result"
    }
   ],
   "execution_count": 17
  },
  {
   "metadata": {
    "ExecuteTime": {
     "end_time": "2024-06-14T01:42:20.561591Z",
     "start_time": "2024-06-14T01:42:20.557021Z"
    }
   },
   "cell_type": "code",
   "source": [
    "import torch\n",
    "x = torch.randint(high=100, size=(4, 1, 3, 2), dtype=torch.int32)\n",
    "x"
   ],
   "id": "993e654f0eb2116c",
   "outputs": [
    {
     "data": {
      "text/plain": [
       "tensor([[[[41, 77],\n",
       "          [43, 73],\n",
       "          [ 8, 31]]],\n",
       "\n",
       "\n",
       "        [[[46, 78],\n",
       "          [94, 36],\n",
       "          [53, 26]]],\n",
       "\n",
       "\n",
       "        [[[91, 54],\n",
       "          [11,  9],\n",
       "          [40, 90]]],\n",
       "\n",
       "\n",
       "        [[[10, 92],\n",
       "          [46, 20],\n",
       "          [70,  1]]]], dtype=torch.int32)"
      ]
     },
     "execution_count": 3,
     "metadata": {},
     "output_type": "execute_result"
    }
   ],
   "execution_count": 3
  },
  {
   "metadata": {
    "ExecuteTime": {
     "end_time": "2024-06-14T01:42:21.740142Z",
     "start_time": "2024-06-14T01:42:21.735913Z"
    }
   },
   "cell_type": "code",
   "source": [
    "B, C, T, F = x.shape\n",
    "L = T * F\n",
    "x = x.reshape(B, C, -1)\n",
    "x"
   ],
   "id": "669edee750641343",
   "outputs": [
    {
     "data": {
      "text/plain": [
       "tensor([[[41, 77, 43, 73,  8, 31]],\n",
       "\n",
       "        [[46, 78, 94, 36, 53, 26]],\n",
       "\n",
       "        [[91, 54, 11,  9, 40, 90]],\n",
       "\n",
       "        [[10, 92, 46, 20, 70,  1]]], dtype=torch.int32)"
      ]
     },
     "execution_count": 4,
     "metadata": {},
     "output_type": "execute_result"
    }
   ],
   "execution_count": 4
  },
  {
   "metadata": {
    "ExecuteTime": {
     "end_time": "2024-06-14T01:42:49.172520Z",
     "start_time": "2024-06-14T01:42:49.167682Z"
    }
   },
   "cell_type": "code",
   "source": [
    "len_keep = 2\n",
    "noise = torch.rand(B, C, L, device=x.device)  # noise in [0, 1]\n",
    "\n",
    "# sort noise for each sample\n",
    "ids_shuffle = torch.argsort(noise, dim=2)  # ascend: small is keep, large is remove\n",
    "ids_restore = torch.argsort(ids_shuffle, dim=2)\n",
    "mask = torch.zeros([B, C, L], device=x.device)\n",
    "mask[:, :, :len_keep] = 1\n",
    "mask = torch.gather(mask, dim=2, index=ids_restore)\n",
    "mask"
   ],
   "id": "9e0da1688e37a6cf",
   "outputs": [
    {
     "data": {
      "text/plain": [
       "tensor([[[0., 1., 1., 0., 0., 0.]],\n",
       "\n",
       "        [[1., 1., 0., 0., 0., 0.]],\n",
       "\n",
       "        [[0., 0., 0., 1., 0., 1.]],\n",
       "\n",
       "        [[1., 0., 0., 1., 0., 0.]]])"
      ]
     },
     "execution_count": 7,
     "metadata": {},
     "output_type": "execute_result"
    }
   ],
   "execution_count": 7
  },
  {
   "metadata": {
    "ExecuteTime": {
     "end_time": "2024-06-13T06:22:21.438657Z",
     "start_time": "2024-06-13T06:22:21.429425Z"
    }
   },
   "cell_type": "code",
   "source": [
    "mask = mask.reshape(B, C, T, F)\n",
    "x = x.reshape(B, C, T, F)\n",
    "mask, x"
   ],
   "id": "d088988f9fdd0070",
   "outputs": [
    {
     "data": {
      "text/plain": [
       "(tensor([[[[1., 0.],\n",
       "           [0., 1.],\n",
       "           [0., 0.]]],\n",
       " \n",
       " \n",
       "         [[[1., 0.],\n",
       "           [1., 0.],\n",
       "           [0., 0.]]],\n",
       " \n",
       " \n",
       "         [[[0., 0.],\n",
       "           [1., 0.],\n",
       "           [1., 0.]]],\n",
       " \n",
       " \n",
       "         [[[0., 0.],\n",
       "           [0., 1.],\n",
       "           [1., 0.]]]]),\n",
       " tensor([[[[45, 94],\n",
       "           [85,  0],\n",
       "           [63, 53]]],\n",
       " \n",
       " \n",
       "         [[[72, 38],\n",
       "           [34, 12],\n",
       "           [68,  7]]],\n",
       " \n",
       " \n",
       "         [[[49,  2],\n",
       "           [ 2,  2],\n",
       "           [23,  3]]],\n",
       " \n",
       " \n",
       "         [[[17, 62],\n",
       "           [44, 78],\n",
       "           [46, 94]]]], dtype=torch.int32))"
      ]
     },
     "execution_count": 58,
     "metadata": {},
     "output_type": "execute_result"
    }
   ],
   "execution_count": 58
  },
  {
   "metadata": {
    "ExecuteTime": {
     "end_time": "2024-06-13T06:22:29.483866Z",
     "start_time": "2024-06-13T06:22:29.476460Z"
    }
   },
   "cell_type": "code",
   "source": [
    "x = torch.mul(x, mask)\n",
    "x"
   ],
   "id": "5ed67a92af77753d",
   "outputs": [
    {
     "data": {
      "text/plain": [
       "tensor([[[[45.,  0.],\n",
       "          [ 0.,  0.],\n",
       "          [ 0.,  0.]]],\n",
       "\n",
       "\n",
       "        [[[72.,  0.],\n",
       "          [34.,  0.],\n",
       "          [ 0.,  0.]]],\n",
       "\n",
       "\n",
       "        [[[ 0.,  0.],\n",
       "          [ 2.,  0.],\n",
       "          [23.,  0.]]],\n",
       "\n",
       "\n",
       "        [[[ 0.,  0.],\n",
       "          [ 0., 78.],\n",
       "          [46.,  0.]]]])"
      ]
     },
     "execution_count": 59,
     "metadata": {},
     "output_type": "execute_result"
    }
   ],
   "execution_count": 59
  },
  {
   "metadata": {
    "ExecuteTime": {
     "end_time": "2024-06-13T03:54:08.133933Z",
     "start_time": "2024-06-13T03:54:08.125200Z"
    }
   },
   "cell_type": "code",
   "source": [
    "noise = torch.rand(N, L, device=x.device)\n",
    "ids_shuffle = torch.argsort(noise, dim=1)\n",
    "ids_restore = torch.argsort(ids_shuffle, dim=1)\n",
    "ids_shuffle"
   ],
   "id": "bf9e4d7de20f69ab",
   "outputs": [
    {
     "data": {
      "text/plain": [
       "tensor([[1, 3, 0, 2],\n",
       "        [0, 1, 3, 2]])"
      ]
     },
     "execution_count": 32,
     "metadata": {},
     "output_type": "execute_result"
    }
   ],
   "execution_count": 32
  },
  {
   "metadata": {
    "ExecuteTime": {
     "end_time": "2024-06-13T03:54:08.783Z",
     "start_time": "2024-06-13T03:54:08.768940Z"
    }
   },
   "cell_type": "code",
   "source": [
    "mask = torch.zeros([N, L], device=x.device)\n",
    "mask[:, :len_keep] = 1\n",
    "mask = torch.gather(mask, dim=1, index=ids_restore)\n",
    "mask = mask.unsqueeze(-1).repeat(1, 1, 3)\n",
    "mask.shape, mask"
   ],
   "id": "4224654b1b435057",
   "outputs": [
    {
     "data": {
      "text/plain": [
       "(torch.Size([2, 4, 3]),\n",
       " tensor([[[0., 0., 0.],\n",
       "          [1., 1., 1.],\n",
       "          [0., 0., 0.],\n",
       "          [0., 0., 0.]],\n",
       " \n",
       "         [[1., 1., 1.],\n",
       "          [0., 0., 0.],\n",
       "          [0., 0., 0.],\n",
       "          [0., 0., 0.]]]))"
      ]
     },
     "execution_count": 33,
     "metadata": {},
     "output_type": "execute_result"
    }
   ],
   "execution_count": 33
  },
  {
   "metadata": {
    "ExecuteTime": {
     "end_time": "2024-06-13T03:54:15.303691Z",
     "start_time": "2024-06-13T03:54:15.285452Z"
    }
   },
   "cell_type": "code",
   "source": "torch.mul(x, mask)",
   "id": "d743c9369470859e",
   "outputs": [
    {
     "data": {
      "text/plain": [
       "tensor([[[0.0000, 0.0000, 0.0000],\n",
       "         [0.8291, 0.2354, 0.0982],\n",
       "         [0.0000, 0.0000, 0.0000],\n",
       "         [0.0000, 0.0000, 0.0000]],\n",
       "\n",
       "        [[0.1519, 0.8590, 0.0119],\n",
       "         [0.0000, 0.0000, 0.0000],\n",
       "         [0.0000, 0.0000, 0.0000],\n",
       "         [0.0000, 0.0000, 0.0000]]])"
      ]
     },
     "execution_count": 34,
     "metadata": {},
     "output_type": "execute_result"
    }
   ],
   "execution_count": 34
  },
  {
   "metadata": {
    "ExecuteTime": {
     "end_time": "2024-06-12T13:58:14.476977Z",
     "start_time": "2024-06-12T13:58:14.471975Z"
    }
   },
   "cell_type": "code",
   "source": [
    "noise = torch.rand(N, L, device=x.device)  # noise in [0, 1]\n",
    "        \n",
    "# sort noise for each sample\n",
    "ids_shuffle = torch.argsort(noise, dim=1)  # ascend: small is keep, large is remove\n",
    "ids_restore = torch.argsort(ids_shuffle, dim=1)\n",
    "\n",
    "# keep the first subset\n",
    "ids_keep = ids_shuffle[:, :len_keep]\n",
    "x_masked = torch.gather(x, dim=1, index=ids_keep.unsqueeze(-1).repeat(1, 1, D))\n",
    "\n",
    "# generate the binary mask: 0 is keep, 1 is remove\n",
    "mask = torch.ones([N, L], device=x.device)\n",
    "mask[:, :len_keep] = 0\n",
    "# unshuffle to get the binary mask\n",
    "mask = torch.gather(mask, dim=1, index=ids_restore)"
   ],
   "id": "1868f74c0098b914",
   "outputs": [],
   "execution_count": 30
  },
  {
   "metadata": {
    "ExecuteTime": {
     "end_time": "2024-06-12T13:58:15.604754Z",
     "start_time": "2024-06-12T13:58:15.601421Z"
    }
   },
   "cell_type": "code",
   "source": "mask",
   "id": "4f2e9e0a30921dcd",
   "outputs": [
    {
     "data": {
      "text/plain": [
       "tensor([[1., 1., 1., 1., 1., 1., 1., 0., 1., 0.]])"
      ]
     },
     "execution_count": 31,
     "metadata": {},
     "output_type": "execute_result"
    }
   ],
   "execution_count": 31
  },
  {
   "metadata": {
    "ExecuteTime": {
     "end_time": "2024-06-12T13:59:32.681803Z",
     "start_time": "2024-06-12T13:59:32.678953Z"
    }
   },
   "cell_type": "code",
   "source": "x_masked",
   "id": "e6dbcafab2ad8a99",
   "outputs": [
    {
     "data": {
      "text/plain": [
       "tensor([[[390, 631, 208, 625, 228],\n",
       "         [482, 543, 141, 933, 960]]], dtype=torch.int32)"
      ]
     },
     "execution_count": 32,
     "metadata": {},
     "output_type": "execute_result"
    }
   ],
   "execution_count": 32
  },
  {
   "metadata": {
    "ExecuteTime": {
     "end_time": "2024-06-18T08:46:40.205075Z",
     "start_time": "2024-06-18T08:46:40.202909Z"
    }
   },
   "cell_type": "code",
   "source": [
    "import torch\n",
    "import os\n",
    "import librosa\n",
    "import h5py\n",
    "import numpy as np\n",
    "import torchaudio.compliance.kaldi as kaldi"
   ],
   "id": "c96f8e3ead4ec63a",
   "outputs": [],
   "execution_count": 35
  },
  {
   "metadata": {
    "ExecuteTime": {
     "end_time": "2024-06-18T08:46:40.443998Z",
     "start_time": "2024-06-18T08:46:40.416406Z"
    }
   },
   "cell_type": "code",
   "source": [
    "test_f = os.path.join('datas', 'test', 'test_30s.wav')\n",
    "signal, _ = librosa.load(test_f, sr=32000, mono=True)\n",
    "signal = torch.Tensor(signal)"
   ],
   "id": "820a3d78f0e1af8a",
   "outputs": [],
   "execution_count": 36
  },
  {
   "metadata": {
    "ExecuteTime": {
     "end_time": "2024-06-18T08:46:40.935750Z",
     "start_time": "2024-06-18T08:46:40.914388Z"
    }
   },
   "cell_type": "code",
   "source": [
    "fbank1 = kaldi.fbank(signal.unsqueeze(0), sample_frequency=32000, num_mel_bins=64, frame_length=25, frame_shift=10, use_energy=False, htk_compat=True, window_type='hanning', dither=0.0)\n",
    "fbank2 = np.load(os.path.join('workspace', 'arr.npy'))"
   ],
   "id": "b2e050a65dbc2ef3",
   "outputs": [],
   "execution_count": 37
  },
  {
   "metadata": {
    "ExecuteTime": {
     "end_time": "2024-06-18T08:47:11.539448Z",
     "start_time": "2024-06-18T08:47:11.537180Z"
    }
   },
   "cell_type": "code",
   "source": "fbank1 = fbank1.numpy()",
   "id": "2ff913faa60f6d3e",
   "outputs": [],
   "execution_count": 41
  },
  {
   "metadata": {
    "ExecuteTime": {
     "end_time": "2024-06-18T08:48:44.512227Z",
     "start_time": "2024-06-18T08:48:44.509632Z"
    }
   },
   "cell_type": "code",
   "source": "delta = abs(fbank1 - fbank2)",
   "id": "df2d9c947909fb68",
   "outputs": [],
   "execution_count": 50
  },
  {
   "metadata": {
    "ExecuteTime": {
     "end_time": "2024-06-18T08:48:55.801189Z",
     "start_time": "2024-06-18T08:48:55.797460Z"
    }
   },
   "cell_type": "code",
   "source": "delta.mean()",
   "id": "ccbc8b896988d63d",
   "outputs": [
    {
     "data": {
      "text/plain": [
       "8.654112e-07"
      ]
     },
     "execution_count": 53,
     "metadata": {},
     "output_type": "execute_result"
    }
   ],
   "execution_count": 53
  },
  {
   "metadata": {
    "ExecuteTime": {
     "end_time": "2024-06-18T08:30:54.625287Z",
     "start_time": "2024-06-18T08:30:54.622194Z"
    }
   },
   "cell_type": "code",
   "source": [
    "test_h5f = os.path.join('workspace', 'test.hdf5')\n",
    "hf = h5py.File(test_h5f, 'a')"
   ],
   "id": "1866e7f9df63cd0e",
   "outputs": [],
   "execution_count": 23
  },
  {
   "metadata": {
    "ExecuteTime": {
     "end_time": "2024-06-18T08:31:04.925962Z",
     "start_time": "2024-06-18T08:31:04.922933Z"
    }
   },
   "cell_type": "code",
   "source": "hf['t-est_10s.wav'] = fbank1",
   "id": "2e587a13bc0630bc",
   "outputs": [],
   "execution_count": 24
  },
  {
   "metadata": {
    "ExecuteTime": {
     "end_time": "2024-06-18T08:31:09.029458Z",
     "start_time": "2024-06-18T08:31:09.025859Z"
    }
   },
   "cell_type": "code",
   "source": "hf['t-est_10s.wav'][:]",
   "id": "34e5d22d520bd907",
   "outputs": [
    {
     "data": {
      "text/plain": [
       "array([[-15.942385 , -15.942385 , -15.942385 , ..., -15.942385 ,\n",
       "        -15.942385 , -15.942385 ],\n",
       "       [-15.942385 , -15.942385 , -15.942385 , ..., -15.942385 ,\n",
       "        -15.942385 , -15.942385 ],\n",
       "       [-15.942385 , -15.942385 , -15.942385 , ..., -15.942385 ,\n",
       "        -15.942385 , -15.942385 ],\n",
       "       ...,\n",
       "       [-12.49411  , -11.595022 , -12.0011015, ..., -12.632889 ,\n",
       "        -12.467122 , -12.84333  ],\n",
       "       [-12.589013 , -10.902234 , -10.775088 , ..., -12.377829 ,\n",
       "        -12.582754 , -12.896108 ],\n",
       "       [-12.121159 , -11.079147 , -10.71556  , ..., -12.311503 ,\n",
       "        -12.9029   , -13.041671 ]], dtype=float32)"
      ]
     },
     "execution_count": 25,
     "metadata": {},
     "output_type": "execute_result"
    }
   ],
   "execution_count": 25
  },
  {
   "metadata": {
    "ExecuteTime": {
     "end_time": "2024-06-18T08:40:35.870167Z",
     "start_time": "2024-06-18T08:40:35.867041Z"
    }
   },
   "cell_type": "code",
   "source": "'fbank2' in hf",
   "id": "34dd213d4a1e9e6e",
   "outputs": [
    {
     "data": {
      "text/plain": [
       "True"
      ]
     },
     "execution_count": 32,
     "metadata": {},
     "output_type": "execute_result"
    }
   ],
   "execution_count": 32
  },
  {
   "metadata": {
    "ExecuteTime": {
     "end_time": "2024-06-18T08:25:55.131919Z",
     "start_time": "2024-06-18T08:25:55.129381Z"
    }
   },
   "cell_type": "code",
   "source": "hf.close()",
   "id": "6d49457367981519",
   "outputs": [],
   "execution_count": 19
  },
  {
   "metadata": {
    "ExecuteTime": {
     "end_time": "2024-06-18T08:10:15.815331Z",
     "start_time": "2024-06-18T08:10:15.811899Z"
    }
   },
   "cell_type": "code",
   "source": "hf1 = h5py.File(test_h5f, 'a')",
   "id": "71dd33669596139c",
   "outputs": [],
   "execution_count": 13
  },
  {
   "metadata": {
    "ExecuteTime": {
     "end_time": "2024-06-18T08:26:08.743514Z",
     "start_time": "2024-06-18T08:26:08.741479Z"
    }
   },
   "cell_type": "code",
   "source": "hf1.close()",
   "id": "310370ab647ed074",
   "outputs": [],
   "execution_count": 22
  },
  {
   "metadata": {
    "ExecuteTime": {
     "end_time": "2024-06-18T08:10:56.564990Z",
     "start_time": "2024-06-18T08:10:56.562768Z"
    }
   },
   "cell_type": "code",
   "source": "hf1['fbank2'] = fbank2",
   "id": "ed5d3406e57c6357",
   "outputs": [],
   "execution_count": 15
  },
  {
   "metadata": {
    "ExecuteTime": {
     "end_time": "2024-06-18T08:25:59.662596Z",
     "start_time": "2024-06-18T08:25:59.547518Z"
    }
   },
   "cell_type": "code",
   "source": "hf.keys()",
   "id": "6d82f57d2416af17",
   "outputs": [
    {
     "ename": "ValueError",
     "evalue": "Invalid group (or file) id (invalid group (or file) ID)",
     "output_type": "error",
     "traceback": [
      "\u001B[1;31m---------------------------------------------------------------------------\u001B[0m",
      "\u001B[1;31mValueError\u001B[0m                                Traceback (most recent call last)",
      "File \u001B[1;32m~\\AppData\\Roaming\\Python\\Python311\\site-packages\\IPython\\core\\formatters.py:711\u001B[0m, in \u001B[0;36mPlainTextFormatter.__call__\u001B[1;34m(self, obj)\u001B[0m\n\u001B[0;32m    704\u001B[0m stream \u001B[38;5;241m=\u001B[39m StringIO()\n\u001B[0;32m    705\u001B[0m printer \u001B[38;5;241m=\u001B[39m pretty\u001B[38;5;241m.\u001B[39mRepresentationPrinter(stream, \u001B[38;5;28mself\u001B[39m\u001B[38;5;241m.\u001B[39mverbose,\n\u001B[0;32m    706\u001B[0m     \u001B[38;5;28mself\u001B[39m\u001B[38;5;241m.\u001B[39mmax_width, \u001B[38;5;28mself\u001B[39m\u001B[38;5;241m.\u001B[39mnewline,\n\u001B[0;32m    707\u001B[0m     max_seq_length\u001B[38;5;241m=\u001B[39m\u001B[38;5;28mself\u001B[39m\u001B[38;5;241m.\u001B[39mmax_seq_length,\n\u001B[0;32m    708\u001B[0m     singleton_pprinters\u001B[38;5;241m=\u001B[39m\u001B[38;5;28mself\u001B[39m\u001B[38;5;241m.\u001B[39msingleton_printers,\n\u001B[0;32m    709\u001B[0m     type_pprinters\u001B[38;5;241m=\u001B[39m\u001B[38;5;28mself\u001B[39m\u001B[38;5;241m.\u001B[39mtype_printers,\n\u001B[0;32m    710\u001B[0m     deferred_pprinters\u001B[38;5;241m=\u001B[39m\u001B[38;5;28mself\u001B[39m\u001B[38;5;241m.\u001B[39mdeferred_printers)\n\u001B[1;32m--> 711\u001B[0m \u001B[43mprinter\u001B[49m\u001B[38;5;241;43m.\u001B[39;49m\u001B[43mpretty\u001B[49m\u001B[43m(\u001B[49m\u001B[43mobj\u001B[49m\u001B[43m)\u001B[49m\n\u001B[0;32m    712\u001B[0m printer\u001B[38;5;241m.\u001B[39mflush()\n\u001B[0;32m    713\u001B[0m \u001B[38;5;28;01mreturn\u001B[39;00m stream\u001B[38;5;241m.\u001B[39mgetvalue()\n",
      "File \u001B[1;32m~\\AppData\\Roaming\\Python\\Python311\\site-packages\\IPython\\lib\\pretty.py:411\u001B[0m, in \u001B[0;36mRepresentationPrinter.pretty\u001B[1;34m(self, obj)\u001B[0m\n\u001B[0;32m    408\u001B[0m                         \u001B[38;5;28;01mreturn\u001B[39;00m meth(obj, \u001B[38;5;28mself\u001B[39m, cycle)\n\u001B[0;32m    409\u001B[0m                 \u001B[38;5;28;01mif\u001B[39;00m \u001B[38;5;28mcls\u001B[39m \u001B[38;5;129;01mis\u001B[39;00m \u001B[38;5;129;01mnot\u001B[39;00m \u001B[38;5;28mobject\u001B[39m \\\n\u001B[0;32m    410\u001B[0m                         \u001B[38;5;129;01mand\u001B[39;00m \u001B[38;5;28mcallable\u001B[39m(\u001B[38;5;28mcls\u001B[39m\u001B[38;5;241m.\u001B[39m\u001B[38;5;18m__dict__\u001B[39m\u001B[38;5;241m.\u001B[39mget(\u001B[38;5;124m'\u001B[39m\u001B[38;5;124m__repr__\u001B[39m\u001B[38;5;124m'\u001B[39m)):\n\u001B[1;32m--> 411\u001B[0m                     \u001B[38;5;28;01mreturn\u001B[39;00m \u001B[43m_repr_pprint\u001B[49m\u001B[43m(\u001B[49m\u001B[43mobj\u001B[49m\u001B[43m,\u001B[49m\u001B[43m \u001B[49m\u001B[38;5;28;43mself\u001B[39;49m\u001B[43m,\u001B[49m\u001B[43m \u001B[49m\u001B[43mcycle\u001B[49m\u001B[43m)\u001B[49m\n\u001B[0;32m    413\u001B[0m     \u001B[38;5;28;01mreturn\u001B[39;00m _default_pprint(obj, \u001B[38;5;28mself\u001B[39m, cycle)\n\u001B[0;32m    414\u001B[0m \u001B[38;5;28;01mfinally\u001B[39;00m:\n",
      "File \u001B[1;32m~\\AppData\\Roaming\\Python\\Python311\\site-packages\\IPython\\lib\\pretty.py:779\u001B[0m, in \u001B[0;36m_repr_pprint\u001B[1;34m(obj, p, cycle)\u001B[0m\n\u001B[0;32m    777\u001B[0m \u001B[38;5;250m\u001B[39m\u001B[38;5;124;03m\"\"\"A pprint that just redirects to the normal repr function.\"\"\"\u001B[39;00m\n\u001B[0;32m    778\u001B[0m \u001B[38;5;66;03m# Find newlines and replace them with p.break_()\u001B[39;00m\n\u001B[1;32m--> 779\u001B[0m output \u001B[38;5;241m=\u001B[39m \u001B[38;5;28mrepr\u001B[39m(obj)\n\u001B[0;32m    780\u001B[0m lines \u001B[38;5;241m=\u001B[39m output\u001B[38;5;241m.\u001B[39msplitlines()\n\u001B[0;32m    781\u001B[0m \u001B[38;5;28;01mwith\u001B[39;00m p\u001B[38;5;241m.\u001B[39mgroup():\n",
      "File \u001B[1;32m~\\AppData\\Roaming\\Python\\Python311\\site-packages\\h5py\\_hl\\base.py:388\u001B[0m, in \u001B[0;36mKeysViewHDF5.__str__\u001B[1;34m(self)\u001B[0m\n\u001B[0;32m    387\u001B[0m \u001B[38;5;28;01mdef\u001B[39;00m \u001B[38;5;21m__str__\u001B[39m(\u001B[38;5;28mself\u001B[39m):\n\u001B[1;32m--> 388\u001B[0m     \u001B[38;5;28;01mreturn\u001B[39;00m \u001B[38;5;124m\"\u001B[39m\u001B[38;5;124m<KeysViewHDF5 \u001B[39m\u001B[38;5;132;01m{}\u001B[39;00m\u001B[38;5;124m>\u001B[39m\u001B[38;5;124m\"\u001B[39m\u001B[38;5;241m.\u001B[39mformat(\u001B[38;5;28;43mlist\u001B[39;49m\u001B[43m(\u001B[49m\u001B[38;5;28;43mself\u001B[39;49m\u001B[43m)\u001B[49m)\n",
      "File \u001B[1;32m<frozen _collections_abc>:816\u001B[0m, in \u001B[0;36m__len__\u001B[1;34m(self)\u001B[0m\n",
      "File \u001B[1;32mh5py\\\\_objects.pyx:54\u001B[0m, in \u001B[0;36mh5py._objects.with_phil.wrapper\u001B[1;34m()\u001B[0m\n",
      "File \u001B[1;32mh5py\\\\_objects.pyx:55\u001B[0m, in \u001B[0;36mh5py._objects.with_phil.wrapper\u001B[1;34m()\u001B[0m\n",
      "File \u001B[1;32m~\\AppData\\Roaming\\Python\\Python311\\site-packages\\h5py\\_hl\\group.py:494\u001B[0m, in \u001B[0;36mGroup.__len__\u001B[1;34m(self)\u001B[0m\n\u001B[0;32m    491\u001B[0m \u001B[38;5;129m@with_phil\u001B[39m\n\u001B[0;32m    492\u001B[0m \u001B[38;5;28;01mdef\u001B[39;00m \u001B[38;5;21m__len__\u001B[39m(\u001B[38;5;28mself\u001B[39m):\n\u001B[0;32m    493\u001B[0m \u001B[38;5;250m    \u001B[39m\u001B[38;5;124;03m\"\"\" Number of members attached to this group \"\"\"\u001B[39;00m\n\u001B[1;32m--> 494\u001B[0m     \u001B[38;5;28;01mreturn\u001B[39;00m \u001B[38;5;28;43mself\u001B[39;49m\u001B[38;5;241;43m.\u001B[39;49m\u001B[43mid\u001B[49m\u001B[38;5;241;43m.\u001B[39;49m\u001B[43mget_num_objs\u001B[49m\u001B[43m(\u001B[49m\u001B[43m)\u001B[49m\n",
      "File \u001B[1;32mh5py\\\\_objects.pyx:54\u001B[0m, in \u001B[0;36mh5py._objects.with_phil.wrapper\u001B[1;34m()\u001B[0m\n",
      "File \u001B[1;32mh5py\\\\_objects.pyx:55\u001B[0m, in \u001B[0;36mh5py._objects.with_phil.wrapper\u001B[1;34m()\u001B[0m\n",
      "File \u001B[1;32mh5py\\\\h5g.pyx:336\u001B[0m, in \u001B[0;36mh5py.h5g.GroupID.get_num_objs\u001B[1;34m()\u001B[0m\n",
      "\u001B[1;31mValueError\u001B[0m: Invalid group (or file) id (invalid group (or file) ID)"
     ]
    }
   ],
   "execution_count": 21
  }
 ],
 "metadata": {
  "kernelspec": {
   "display_name": "Python 3",
   "language": "python",
   "name": "python3"
  },
  "language_info": {
   "codemirror_mode": {
    "name": "ipython",
    "version": 2
   },
   "file_extension": ".py",
   "mimetype": "text/x-python",
   "name": "python",
   "nbconvert_exporter": "python",
   "pygments_lexer": "ipython2",
   "version": "2.7.6"
  }
 },
 "nbformat": 4,
 "nbformat_minor": 5
}
