{
 "cells": [
  {
   "cell_type": "code",
   "id": "initial_id",
   "metadata": {
    "collapsed": true,
    "ExecuteTime": {
     "end_time": "2024-06-13T06:40:51.785714Z",
     "start_time": "2024-06-13T06:40:50.837209Z"
    }
   },
   "source": [
    "from utils import AMAEConfig\n",
    "from model import AudioMAE\n",
    "import librosa\n",
    "import os\n",
    "import torch\n",
    "from torchinfo import summary\n"
   ],
   "outputs": [],
   "execution_count": 1
  },
  {
   "cell_type": "code",
   "source": [
    "test_cfg = AMAEConfig(cfg_path=r'E:\\project\\python\\Audio_MAE_Base_ST\\config\\auto_encoder.yaml')\n",
    "test_m = AudioMAE(test_cfg)\n",
    "test_f = os.path.join('datas', 'test', 'test_10s.wav')\n",
    "signal, _ = librosa.load(test_f, sr=32000, mono=True)\n",
    "model_input = torch.Tensor(signal).unsqueeze(0)"
   ],
   "metadata": {
    "collapsed": false,
    "ExecuteTime": {
     "end_time": "2024-06-13T06:40:53.365946Z",
     "start_time": "2024-06-13T06:40:51.786711Z"
    }
   },
   "id": "15f6bea93ad3229a",
   "outputs": [],
   "execution_count": 2
  },
  {
   "cell_type": "code",
   "source": "summary(test_m, input_size=(4, 320000), depth=5, col_names=(\"input_size\", \"output_size\", \"num_params\", \"trainable\", \"kernel_size\"))",
   "metadata": {
    "collapsed": false,
    "ExecuteTime": {
     "end_time": "2024-06-13T06:40:53.951039Z",
     "start_time": "2024-06-13T06:40:53.365946Z"
    }
   },
   "id": "4060e59a5347d57b",
   "outputs": [
    {
     "data": {
      "text/plain": [
       "====================================================================================================================================================================================\n",
       "Layer (type:depth-idx)                                  Input Shape               Output Shape              Param #                   Trainable                 Kernel Shape\n",
       "====================================================================================================================================================================================\n",
       "AudioMAE                                                [4, 320000]               [4, 1, 1024, 64]          --                        Partial                   --\n",
       "├─STEncoder: 1-1                                        [4, 320000]               --                        --                        Partial                   --\n",
       "│    └─Spectrogram: 2-1                                 [4, 320000]               [4, 1, 1001, 513]         --                        False                     --\n",
       "│    │    └─STFT: 3-1                                   --                        --                        --                        False                     --\n",
       "│    │    │    └─Conv1d: 4-1                            [4, 1, 321024]            [4, 513, 1001]            (525,312)                 False                     [1024]\n",
       "│    │    │    └─Conv1d: 4-2                            [4, 1, 321024]            [4, 513, 1001]            (525,312)                 False                     [1024]\n",
       "│    └─LogmelFilterBank: 2-2                            [4, 1, 1001, 513]         [4, 1, 1001, 64]          (32,832)                  False                     --\n",
       "│    └─BatchNorm2d: 2-3                                 [4, 64, 1024, 1]          [4, 64, 1024, 1]          128                       True                      --\n",
       "│    └─PatchEmbed: 2-4                                  [4, 1, 256, 256]          [4, 4096, 96]             --                        True                      --\n",
       "│    │    └─Conv2d: 3-2                                 [4, 1, 256, 256]          [4, 96, 64, 64]           1,632                     True                      [4, 4]\n",
       "│    │    └─LayerNorm: 3-3                              [4, 4096, 96]             [4, 4096, 96]             192                       True                      --\n",
       "│    └─Dropout: 2-5                                     [4, 4096, 96]             [4, 4096, 96]             --                        --                        --\n",
       "│    └─ModuleList: 2-6                                  --                        --                        --                        True                      --\n",
       "│    │    └─BasicLayer: 3-4                             [4, 4096, 96]             [4, 1024, 192]            --                        True                      --\n",
       "│    │    │    └─ModuleList: 4-3                        --                        --                        --                        True                      --\n",
       "│    │    │    │    └─SwinTransformerBlock: 5-1         [4, 4096, 96]             [4, 4096, 96]             112,740                   True                      --\n",
       "│    │    │    │    └─SwinTransformerBlock: 5-2         [4, 4096, 96]             [4, 4096, 96]             112,740                   True                      --\n",
       "│    │    │    └─PatchMerging: 4-4                      [4, 4096, 96]             [4, 1024, 192]            --                        True                      --\n",
       "│    │    │    │    └─LayerNorm: 5-3                    [4, 1024, 384]            [4, 1024, 384]            768                       True                      --\n",
       "│    │    │    │    └─Linear: 5-4                       [4, 1024, 384]            [4, 1024, 192]            73,728                    True                      --\n",
       "│    │    └─BasicLayer: 3-5                             [4, 1024, 192]            [4, 256, 384]             --                        True                      --\n",
       "│    │    │    └─ModuleList: 4-5                        --                        --                        --                        True                      --\n",
       "│    │    │    │    └─SwinTransformerBlock: 5-5         [4, 1024, 192]            [4, 1024, 192]            446,664                   True                      --\n",
       "│    │    │    │    └─SwinTransformerBlock: 5-6         [4, 1024, 192]            [4, 1024, 192]            446,664                   True                      --\n",
       "│    │    │    └─PatchMerging: 4-6                      [4, 1024, 192]            [4, 256, 384]             --                        True                      --\n",
       "│    │    │    │    └─LayerNorm: 5-7                    [4, 256, 768]             [4, 256, 768]             1,536                     True                      --\n",
       "│    │    │    │    └─Linear: 5-8                       [4, 256, 768]             [4, 256, 384]             294,912                   True                      --\n",
       "│    │    └─BasicLayer: 3-6                             [4, 256, 384]             [4, 64, 768]              --                        True                      --\n",
       "│    │    │    └─ModuleList: 4-7                        --                        --                        --                        True                      --\n",
       "│    │    │    │    └─SwinTransformerBlock: 5-9         [4, 256, 384]             [4, 256, 384]             1,778,064                 True                      --\n",
       "│    │    │    │    └─SwinTransformerBlock: 5-10        [4, 256, 384]             [4, 256, 384]             1,778,064                 True                      --\n",
       "│    │    │    │    └─SwinTransformerBlock: 5-11        [4, 256, 384]             [4, 256, 384]             1,778,064                 True                      --\n",
       "│    │    │    │    └─SwinTransformerBlock: 5-12        [4, 256, 384]             [4, 256, 384]             1,778,064                 True                      --\n",
       "│    │    │    │    └─SwinTransformerBlock: 5-13        [4, 256, 384]             [4, 256, 384]             1,778,064                 True                      --\n",
       "│    │    │    │    └─SwinTransformerBlock: 5-14        [4, 256, 384]             [4, 256, 384]             1,778,064                 True                      --\n",
       "│    │    │    └─PatchMerging: 4-8                      [4, 256, 384]             [4, 64, 768]              --                        True                      --\n",
       "│    │    │    │    └─LayerNorm: 5-15                   [4, 64, 1536]             [4, 64, 1536]             3,072                     True                      --\n",
       "│    │    │    │    └─Linear: 5-16                      [4, 64, 1536]             [4, 64, 768]              1,179,648                 True                      --\n",
       "│    │    └─BasicLayer: 3-7                             [4, 64, 768]              [4, 64, 768]              --                        True                      --\n",
       "│    │    │    └─ModuleList: 4-9                        --                        --                        --                        True                      --\n",
       "│    │    │    │    └─SwinTransformerBlock: 5-17        [4, 64, 768]              [4, 64, 768]              7,095,072                 True                      --\n",
       "│    │    │    │    └─SwinTransformerBlock: 5-18        [4, 64, 768]              [4, 64, 768]              7,095,072                 True                      --\n",
       "│    └─LayerNorm: 2-7                                   [4, 64, 768]              [4, 64, 768]              1,536                     True                      --\n",
       "│    └─Conv2d: 2-8                                      [4, 768, 8, 8]            [4, 32, 8, 8]             24,608                    True                      [1, 1]\n",
       "│    └─AdaptiveAvgPool1d: 2-9                           [4, 32, 64]               [4, 32, 1]                --                        --                        --\n",
       "│    └─Identity: 2-10                                   [4, 32, 32, 2]            [4, 32, 32, 2]            --                        --                        --\n",
       "│    └─AdaptiveAvgPool1d: 2-11                          [4, 32, 64]               [4, 32, 1]                --                        --                        --\n",
       "├─STDecoder: 1-2                                        [4, 32, 32, 2]            [4, 1, 1024, 64]          --                        True                      --\n",
       "│    └─Conv2d: 2-12                                     [4, 32, 8, 8]             [4, 768, 8, 8]            25,344                    True                      [1, 1]\n",
       "│    └─LayerNorm: 2-13                                  [4, 64, 768]              [4, 64, 768]              1,536                     True                      --\n",
       "│    └─ModuleList: 2-14                                 --                        --                        --                        True                      --\n",
       "│    │    └─BasicLayer: 3-8                             [4, 64, 768]              [4, 256, 384]             --                        True                      --\n",
       "│    │    │    └─ModuleList: 4-10                       --                        --                        --                        True                      --\n",
       "│    │    │    │    └─SwinTransformerBlock: 5-19        [4, 64, 768]              [4, 64, 768]              7,095,072                 True                      --\n",
       "│    │    │    │    └─SwinTransformerBlock: 5-20        [4, 64, 768]              [4, 64, 768]              7,095,072                 True                      --\n",
       "│    │    │    └─PatchSeparate: 4-11                    [4, 64, 768]              [4, 256, 384]             --                        True                      --\n",
       "│    │    │    │    └─LayerNorm: 5-21                   [4, 64, 768]              [4, 64, 768]              1,536                     True                      --\n",
       "│    │    │    │    └─Linear: 5-22                      [4, 64, 768]              [4, 64, 1536]             1,179,648                 True                      --\n",
       "│    │    └─BasicLayer: 3-9                             [4, 256, 384]             [4, 1024, 192]            --                        True                      --\n",
       "│    │    │    └─ModuleList: 4-12                       --                        --                        --                        True                      --\n",
       "│    │    │    │    └─SwinTransformerBlock: 5-23        [4, 256, 384]             [4, 256, 384]             1,778,064                 True                      --\n",
       "│    │    │    │    └─SwinTransformerBlock: 5-24        [4, 256, 384]             [4, 256, 384]             1,778,064                 True                      --\n",
       "│    │    │    │    └─SwinTransformerBlock: 5-25        [4, 256, 384]             [4, 256, 384]             1,778,064                 True                      --\n",
       "│    │    │    │    └─SwinTransformerBlock: 5-26        [4, 256, 384]             [4, 256, 384]             1,778,064                 True                      --\n",
       "│    │    │    │    └─SwinTransformerBlock: 5-27        [4, 256, 384]             [4, 256, 384]             1,778,064                 True                      --\n",
       "│    │    │    │    └─SwinTransformerBlock: 5-28        [4, 256, 384]             [4, 256, 384]             1,778,064                 True                      --\n",
       "│    │    │    └─PatchSeparate: 4-13                    [4, 256, 384]             [4, 1024, 192]            --                        True                      --\n",
       "│    │    │    │    └─LayerNorm: 5-29                   [4, 256, 384]             [4, 256, 384]             768                       True                      --\n",
       "│    │    │    │    └─Linear: 5-30                      [4, 256, 384]             [4, 256, 768]             294,912                   True                      --\n",
       "│    │    └─BasicLayer: 3-10                            [4, 1024, 192]            [4, 4096, 96]             --                        True                      --\n",
       "│    │    │    └─ModuleList: 4-14                       --                        --                        --                        True                      --\n",
       "│    │    │    │    └─SwinTransformerBlock: 5-31        [4, 1024, 192]            [4, 1024, 192]            446,664                   True                      --\n",
       "│    │    │    │    └─SwinTransformerBlock: 5-32        [4, 1024, 192]            [4, 1024, 192]            446,664                   True                      --\n",
       "│    │    │    └─PatchSeparate: 4-15                    [4, 1024, 192]            [4, 4096, 96]             --                        True                      --\n",
       "│    │    │    │    └─LayerNorm: 5-33                   [4, 1024, 192]            [4, 1024, 192]            384                       True                      --\n",
       "│    │    │    │    └─Linear: 5-34                      [4, 1024, 192]            [4, 1024, 384]            73,728                    True                      --\n",
       "│    │    └─BasicLayer: 3-11                            [4, 4096, 96]             [4, 4096, 96]             --                        True                      --\n",
       "│    │    │    └─ModuleList: 4-16                       --                        --                        --                        True                      --\n",
       "│    │    │    │    └─SwinTransformerBlock: 5-35        [4, 4096, 96]             [4, 4096, 96]             112,740                   True                      --\n",
       "│    │    │    │    └─SwinTransformerBlock: 5-36        [4, 4096, 96]             [4, 4096, 96]             112,740                   True                      --\n",
       "│    └─Dropout: 2-15                                    [4, 4096, 96]             [4, 4096, 96]             --                        --                        --\n",
       "│    └─PatchEmbedInverse: 2-16                          [4, 4096, 96]             [4, 1, 256, 256]          --                        True                      --\n",
       "│    │    └─LayerNorm: 3-12                             [4, 4096, 96]             [4, 4096, 96]             192                       True                      --\n",
       "│    │    └─ConvTranspose2d: 3-13                       [4, 96, 64, 64]           [4, 1, 256, 256]          1,537                     True                      [4, 4]\n",
       "====================================================================================================================================================================================\n",
       "Total params: 56,199,473\n",
       "Trainable params: 55,116,017\n",
       "Non-trainable params: 1,083,456\n",
       "Total mult-adds (Units.GIGABYTES): 5.03\n",
       "====================================================================================================================================================================================\n",
       "Input size (MB): 5.12\n",
       "Forward/backward pass size (MB): 1462.62\n",
       "Params size (MB): 224.47\n",
       "Estimated Total Size (MB): 1692.20\n",
       "===================================================================================================================================================================================="
      ]
     },
     "execution_count": 3,
     "metadata": {},
     "output_type": "execute_result"
    }
   ],
   "execution_count": 3
  },
  {
   "cell_type": "code",
   "source": [
    "output = test_m(model_input)\n",
    "output.shape"
   ],
   "metadata": {
    "collapsed": false
   },
   "id": "1ec8233a899376ce",
   "outputs": [],
   "execution_count": null
  },
  {
   "cell_type": "code",
   "source": [
    "output[:, 0::2, :, :].shape"
   ],
   "metadata": {
    "collapsed": false
   },
   "id": "ba0c90189f937d26",
   "outputs": [],
   "execution_count": null
  },
  {
   "cell_type": "code",
   "source": [
    "a = torch.tensor(list(range(24)), dtype=torch.int32)\n",
    "b = a + 10\n",
    "a, b = a.reshape(2, 2, 2, 3), b.reshape(2, 2, 2, 3)\n",
    "a, b\n"
   ],
   "metadata": {
    "collapsed": false
   },
   "id": "8635bf9883f58f3b",
   "outputs": [],
   "execution_count": null
  },
  {
   "cell_type": "code",
   "source": [
    "c = x = torch.cat([a, b], -1)\n",
    "c"
   ],
   "metadata": {
    "collapsed": false
   },
   "id": "8fccec9e8db00260",
   "outputs": [],
   "execution_count": null
  },
  {
   "cell_type": "code",
   "source": [
    "a = [10, 100, 1000, 10000]\n",
    "a = torch.tensor(a, dtype=torch.int32)\n",
    "a = torch.stack([a, a+1], dim = 1)\n",
    "\n",
    "b = a * 2\n",
    "c = a * 3\n",
    "d = a * 4\n",
    "a.shape, a, b, c, d"
   ],
   "metadata": {
    "collapsed": false
   },
   "id": "aab0cbcfb8afba12",
   "outputs": [],
   "execution_count": null
  },
  {
   "cell_type": "code",
   "source": [
    "x1 = torch.stack([a, c], dim = 1).reshape(2, 4, 2)\n",
    "x1.shape, x1"
   ],
   "metadata": {
    "collapsed": false
   },
   "id": "46b514dc41617eef",
   "outputs": [],
   "execution_count": null
  },
  {
   "cell_type": "code",
   "source": [
    "x2 = torch.stack([b, d], dim = 1).reshape(2, 4, 2)\n",
    "x2.shape, x2"
   ],
   "metadata": {
    "collapsed": false
   },
   "id": "8ef619af17360998",
   "outputs": [],
   "execution_count": null
  },
  {
   "cell_type": "code",
   "source": [
    "x = torch.stack([x1, x2], dim = 1).reshape(4, 4, 2)\n",
    "x.shape, x"
   ],
   "metadata": {
    "collapsed": false
   },
   "id": "2e9da7473fb289ce",
   "outputs": [],
   "execution_count": null
  },
  {
   "cell_type": "code",
   "source": [
    "import torch\n",
    "H1, W1 = 8, 8\n",
    "ori = torch.randint(high=100, size=(12, 64, 15), dtype=torch.int32)\n",
    "B1, L1, C1 = ori.shape\n",
    "B1, L1, C1, H1, W1"
   ],
   "metadata": {
    "collapsed": false
   },
   "id": "6c122de88187087b",
   "outputs": [],
   "execution_count": null
  },
  {
   "cell_type": "code",
   "source": [
    "m = ori.view(B1, H1, W1, C1)\n",
    "m0 = m[:, 0::2, 0::2, :]  # [B, H/2, W/2, C]\n",
    "m1 = m[:, 1::2, 0::2, :]  # [B, H/2, W/2, C]\n",
    "m2 = m[:, 0::2, 1::2, :]  # [B, H/2, W/2, C]\n",
    "m3 = m[:, 1::2, 1::2, :]  # [B, H/2, W/2, C]\n",
    "o = torch.cat([m0, m1, m2, m3], -1)  # [B, H/2, W/2, 4*C]\n",
    "o = o.view(B1, -1, 4 * C1)  # [B, H/2*W/2, 4*C]\n",
    "o.shape"
   ],
   "metadata": {
    "collapsed": false
   },
   "id": "fde9c824faef1f7c",
   "outputs": [],
   "execution_count": null
  },
  {
   "cell_type": "code",
   "source": [
    "H2, W2 = 4, 4\n",
    "B2, L2, C2 = o.shape\n",
    "\n",
    "n0 = o[..., :C2//4]\n",
    "n1 = o[..., C2//4:C2//4 * 2]\n",
    "n2 = o[..., C2//4 * 2:C2//4 * 3]\n",
    "n3 = o[..., C2//4 * 3:C2//4 * 4]\n",
    "\n",
    "a = torch.stack([n0, n2], dim=2).reshape(B2, H2, 2 * W2, C2//4)\n",
    "b = torch.stack([n1, n3], dim=2).reshape(B2, H2, 2 * W2, C2//4)\n",
    "final = torch.stack([a, b], dim=2).reshape(B2, 4*L2, C2//4)\n",
    "final.shape"
   ],
   "metadata": {
    "collapsed": false
   },
   "id": "c905d4e4c3c03c5e",
   "outputs": [],
   "execution_count": null
  },
  {
   "cell_type": "code",
   "source": [
    "(final == ori).sum() == B1 * L1 * C1"
   ],
   "metadata": {
    "collapsed": false
   },
   "id": "818a1452d53ecb00",
   "outputs": [],
   "execution_count": null
  },
  {
   "cell_type": "code",
   "source": [
    "def reshape_wav2img(x, freq_ratio):\n",
    "    x = x.permute(0, 1, 3, 2).contiguous()\n",
    "    x = x.reshape(x.shape[0], x.shape[1], x.shape[2], freq_ratio, x.shape[3] // freq_ratio)\n",
    "    x = x.permute(0, 1, 3, 2, 4).contiguous()\n",
    "    x = x.reshape(x.shape[0], x.shape[1], x.shape[2] * x.shape[3], x.shape[4])\n",
    "    return x  # [B, 1, f, T]\n",
    "\n",
    "\n",
    "def reshape_img2wav(x, freq_ratio):\n",
    "    batch, channel, freq, time = x.shape\n",
    "    ori_freq_bin = freq // freq_ratio\n",
    "    x = x.reshape(batch, channel, freq // ori_freq_bin, ori_freq_bin, time)\n",
    "    x = x.permute(0, 1, 3, 2, 4).contiguous().reshape(batch, channel, ori_freq_bin, -1)\n",
    "    x = x.permute(0, 1, 3, 2).contiguous()\n",
    "    return x"
   ],
   "metadata": {
    "collapsed": false,
    "ExecuteTime": {
     "end_time": "2024-06-12T08:44:09.782938Z",
     "start_time": "2024-06-12T08:44:09.778644Z"
    }
   },
   "id": "9a568116cd708ea6",
   "outputs": [],
   "execution_count": 6
  },
  {
   "metadata": {
    "ExecuteTime": {
     "end_time": "2024-06-12T08:44:15.956022Z",
     "start_time": "2024-06-12T08:44:15.951781Z"
    }
   },
   "cell_type": "code",
   "source": [
    "a = torch.randint(high=1000000, size=(4, 1, 1024, 64), dtype=torch.int32)\n",
    "a.shape"
   ],
   "id": "e4c3d459b2ad5da3",
   "outputs": [
    {
     "data": {
      "text/plain": [
       "torch.Size([4, 1, 1024, 64])"
      ]
     },
     "execution_count": 9,
     "metadata": {},
     "output_type": "execute_result"
    }
   ],
   "execution_count": 9
  },
  {
   "metadata": {
    "ExecuteTime": {
     "end_time": "2024-06-12T08:44:23.117629Z",
     "start_time": "2024-06-12T08:44:23.114013Z"
    }
   },
   "cell_type": "code",
   "source": [
    "b = reshape_wav2img(a, 4)\n",
    "b.shape"
   ],
   "id": "20205297ffdfa2cf",
   "outputs": [
    {
     "data": {
      "text/plain": [
       "torch.Size([4, 1, 256, 256])"
      ]
     },
     "execution_count": 11,
     "metadata": {},
     "output_type": "execute_result"
    }
   ],
   "execution_count": 11
  },
  {
   "metadata": {
    "ExecuteTime": {
     "end_time": "2024-06-12T08:44:40.606070Z",
     "start_time": "2024-06-12T08:44:40.603137Z"
    }
   },
   "cell_type": "code",
   "source": [
    "c = reshape_wav2img(b, 4)\n",
    "c.shape"
   ],
   "id": "f73d739e38be5b8d",
   "outputs": [
    {
     "data": {
      "text/plain": [
       "torch.Size([4, 1, 1024, 64])"
      ]
     },
     "execution_count": 13,
     "metadata": {},
     "output_type": "execute_result"
    }
   ],
   "execution_count": 13
  },
  {
   "metadata": {
    "ExecuteTime": {
     "end_time": "2024-06-12T08:45:20.163793Z",
     "start_time": "2024-06-12T08:45:20.159641Z"
    }
   },
   "cell_type": "code",
   "source": "(a == c).sum() == 4 * 1 * 1024 * 64",
   "id": "8756fdc6294ca1f0",
   "outputs": [
    {
     "data": {
      "text/plain": [
       "tensor(True)"
      ]
     },
     "execution_count": 17,
     "metadata": {},
     "output_type": "execute_result"
    }
   ],
   "execution_count": 17
  },
  {
   "metadata": {
    "ExecuteTime": {
     "end_time": "2024-06-14T01:42:20.561591Z",
     "start_time": "2024-06-14T01:42:20.557021Z"
    }
   },
   "cell_type": "code",
   "source": [
    "import torch\n",
    "x = torch.randint(high=100, size=(4, 1, 3, 2), dtype=torch.int32)\n",
    "x"
   ],
   "id": "993e654f0eb2116c",
   "outputs": [
    {
     "data": {
      "text/plain": [
       "tensor([[[[41, 77],\n",
       "          [43, 73],\n",
       "          [ 8, 31]]],\n",
       "\n",
       "\n",
       "        [[[46, 78],\n",
       "          [94, 36],\n",
       "          [53, 26]]],\n",
       "\n",
       "\n",
       "        [[[91, 54],\n",
       "          [11,  9],\n",
       "          [40, 90]]],\n",
       "\n",
       "\n",
       "        [[[10, 92],\n",
       "          [46, 20],\n",
       "          [70,  1]]]], dtype=torch.int32)"
      ]
     },
     "execution_count": 3,
     "metadata": {},
     "output_type": "execute_result"
    }
   ],
   "execution_count": 3
  },
  {
   "metadata": {
    "ExecuteTime": {
     "end_time": "2024-06-14T01:42:21.740142Z",
     "start_time": "2024-06-14T01:42:21.735913Z"
    }
   },
   "cell_type": "code",
   "source": [
    "B, C, T, F = x.shape\n",
    "L = T * F\n",
    "x = x.reshape(B, C, -1)\n",
    "x"
   ],
   "id": "669edee750641343",
   "outputs": [
    {
     "data": {
      "text/plain": [
       "tensor([[[41, 77, 43, 73,  8, 31]],\n",
       "\n",
       "        [[46, 78, 94, 36, 53, 26]],\n",
       "\n",
       "        [[91, 54, 11,  9, 40, 90]],\n",
       "\n",
       "        [[10, 92, 46, 20, 70,  1]]], dtype=torch.int32)"
      ]
     },
     "execution_count": 4,
     "metadata": {},
     "output_type": "execute_result"
    }
   ],
   "execution_count": 4
  },
  {
   "metadata": {
    "ExecuteTime": {
     "end_time": "2024-06-14T01:42:49.172520Z",
     "start_time": "2024-06-14T01:42:49.167682Z"
    }
   },
   "cell_type": "code",
   "source": [
    "len_keep = 2\n",
    "noise = torch.rand(B, C, L, device=x.device)  # noise in [0, 1]\n",
    "\n",
    "# sort noise for each sample\n",
    "ids_shuffle = torch.argsort(noise, dim=2)  # ascend: small is keep, large is remove\n",
    "ids_restore = torch.argsort(ids_shuffle, dim=2)\n",
    "mask = torch.zeros([B, C, L], device=x.device)\n",
    "mask[:, :, :len_keep] = 1\n",
    "mask = torch.gather(mask, dim=2, index=ids_restore)\n",
    "mask"
   ],
   "id": "9e0da1688e37a6cf",
   "outputs": [
    {
     "data": {
      "text/plain": [
       "tensor([[[0., 1., 1., 0., 0., 0.]],\n",
       "\n",
       "        [[1., 1., 0., 0., 0., 0.]],\n",
       "\n",
       "        [[0., 0., 0., 1., 0., 1.]],\n",
       "\n",
       "        [[1., 0., 0., 1., 0., 0.]]])"
      ]
     },
     "execution_count": 7,
     "metadata": {},
     "output_type": "execute_result"
    }
   ],
   "execution_count": 7
  },
  {
   "metadata": {
    "ExecuteTime": {
     "end_time": "2024-06-13T06:22:21.438657Z",
     "start_time": "2024-06-13T06:22:21.429425Z"
    }
   },
   "cell_type": "code",
   "source": [
    "mask = mask.reshape(B, C, T, F)\n",
    "x = x.reshape(B, C, T, F)\n",
    "mask, x"
   ],
   "id": "d088988f9fdd0070",
   "outputs": [
    {
     "data": {
      "text/plain": [
       "(tensor([[[[1., 0.],\n",
       "           [0., 1.],\n",
       "           [0., 0.]]],\n",
       " \n",
       " \n",
       "         [[[1., 0.],\n",
       "           [1., 0.],\n",
       "           [0., 0.]]],\n",
       " \n",
       " \n",
       "         [[[0., 0.],\n",
       "           [1., 0.],\n",
       "           [1., 0.]]],\n",
       " \n",
       " \n",
       "         [[[0., 0.],\n",
       "           [0., 1.],\n",
       "           [1., 0.]]]]),\n",
       " tensor([[[[45, 94],\n",
       "           [85,  0],\n",
       "           [63, 53]]],\n",
       " \n",
       " \n",
       "         [[[72, 38],\n",
       "           [34, 12],\n",
       "           [68,  7]]],\n",
       " \n",
       " \n",
       "         [[[49,  2],\n",
       "           [ 2,  2],\n",
       "           [23,  3]]],\n",
       " \n",
       " \n",
       "         [[[17, 62],\n",
       "           [44, 78],\n",
       "           [46, 94]]]], dtype=torch.int32))"
      ]
     },
     "execution_count": 58,
     "metadata": {},
     "output_type": "execute_result"
    }
   ],
   "execution_count": 58
  },
  {
   "metadata": {
    "ExecuteTime": {
     "end_time": "2024-06-13T06:22:29.483866Z",
     "start_time": "2024-06-13T06:22:29.476460Z"
    }
   },
   "cell_type": "code",
   "source": [
    "x = torch.mul(x, mask)\n",
    "x"
   ],
   "id": "5ed67a92af77753d",
   "outputs": [
    {
     "data": {
      "text/plain": [
       "tensor([[[[45.,  0.],\n",
       "          [ 0.,  0.],\n",
       "          [ 0.,  0.]]],\n",
       "\n",
       "\n",
       "        [[[72.,  0.],\n",
       "          [34.,  0.],\n",
       "          [ 0.,  0.]]],\n",
       "\n",
       "\n",
       "        [[[ 0.,  0.],\n",
       "          [ 2.,  0.],\n",
       "          [23.,  0.]]],\n",
       "\n",
       "\n",
       "        [[[ 0.,  0.],\n",
       "          [ 0., 78.],\n",
       "          [46.,  0.]]]])"
      ]
     },
     "execution_count": 59,
     "metadata": {},
     "output_type": "execute_result"
    }
   ],
   "execution_count": 59
  },
  {
   "metadata": {
    "ExecuteTime": {
     "end_time": "2024-06-13T03:54:08.133933Z",
     "start_time": "2024-06-13T03:54:08.125200Z"
    }
   },
   "cell_type": "code",
   "source": [
    "noise = torch.rand(N, L, device=x.device)\n",
    "ids_shuffle = torch.argsort(noise, dim=1)\n",
    "ids_restore = torch.argsort(ids_shuffle, dim=1)\n",
    "ids_shuffle"
   ],
   "id": "bf9e4d7de20f69ab",
   "outputs": [
    {
     "data": {
      "text/plain": [
       "tensor([[1, 3, 0, 2],\n",
       "        [0, 1, 3, 2]])"
      ]
     },
     "execution_count": 32,
     "metadata": {},
     "output_type": "execute_result"
    }
   ],
   "execution_count": 32
  },
  {
   "metadata": {
    "ExecuteTime": {
     "end_time": "2024-06-13T03:54:08.783Z",
     "start_time": "2024-06-13T03:54:08.768940Z"
    }
   },
   "cell_type": "code",
   "source": [
    "mask = torch.zeros([N, L], device=x.device)\n",
    "mask[:, :len_keep] = 1\n",
    "mask = torch.gather(mask, dim=1, index=ids_restore)\n",
    "mask = mask.unsqueeze(-1).repeat(1, 1, 3)\n",
    "mask.shape, mask"
   ],
   "id": "4224654b1b435057",
   "outputs": [
    {
     "data": {
      "text/plain": [
       "(torch.Size([2, 4, 3]),\n",
       " tensor([[[0., 0., 0.],\n",
       "          [1., 1., 1.],\n",
       "          [0., 0., 0.],\n",
       "          [0., 0., 0.]],\n",
       " \n",
       "         [[1., 1., 1.],\n",
       "          [0., 0., 0.],\n",
       "          [0., 0., 0.],\n",
       "          [0., 0., 0.]]]))"
      ]
     },
     "execution_count": 33,
     "metadata": {},
     "output_type": "execute_result"
    }
   ],
   "execution_count": 33
  },
  {
   "metadata": {
    "ExecuteTime": {
     "end_time": "2024-06-13T03:54:15.303691Z",
     "start_time": "2024-06-13T03:54:15.285452Z"
    }
   },
   "cell_type": "code",
   "source": "torch.mul(x, mask)",
   "id": "d743c9369470859e",
   "outputs": [
    {
     "data": {
      "text/plain": [
       "tensor([[[0.0000, 0.0000, 0.0000],\n",
       "         [0.8291, 0.2354, 0.0982],\n",
       "         [0.0000, 0.0000, 0.0000],\n",
       "         [0.0000, 0.0000, 0.0000]],\n",
       "\n",
       "        [[0.1519, 0.8590, 0.0119],\n",
       "         [0.0000, 0.0000, 0.0000],\n",
       "         [0.0000, 0.0000, 0.0000],\n",
       "         [0.0000, 0.0000, 0.0000]]])"
      ]
     },
     "execution_count": 34,
     "metadata": {},
     "output_type": "execute_result"
    }
   ],
   "execution_count": 34
  },
  {
   "metadata": {
    "ExecuteTime": {
     "end_time": "2024-06-12T13:58:14.476977Z",
     "start_time": "2024-06-12T13:58:14.471975Z"
    }
   },
   "cell_type": "code",
   "source": [
    "noise = torch.rand(N, L, device=x.device)  # noise in [0, 1]\n",
    "        \n",
    "# sort noise for each sample\n",
    "ids_shuffle = torch.argsort(noise, dim=1)  # ascend: small is keep, large is remove\n",
    "ids_restore = torch.argsort(ids_shuffle, dim=1)\n",
    "\n",
    "# keep the first subset\n",
    "ids_keep = ids_shuffle[:, :len_keep]\n",
    "x_masked = torch.gather(x, dim=1, index=ids_keep.unsqueeze(-1).repeat(1, 1, D))\n",
    "\n",
    "# generate the binary mask: 0 is keep, 1 is remove\n",
    "mask = torch.ones([N, L], device=x.device)\n",
    "mask[:, :len_keep] = 0\n",
    "# unshuffle to get the binary mask\n",
    "mask = torch.gather(mask, dim=1, index=ids_restore)"
   ],
   "id": "1868f74c0098b914",
   "outputs": [],
   "execution_count": 30
  },
  {
   "metadata": {
    "ExecuteTime": {
     "end_time": "2024-06-12T13:58:15.604754Z",
     "start_time": "2024-06-12T13:58:15.601421Z"
    }
   },
   "cell_type": "code",
   "source": "mask",
   "id": "4f2e9e0a30921dcd",
   "outputs": [
    {
     "data": {
      "text/plain": [
       "tensor([[1., 1., 1., 1., 1., 1., 1., 0., 1., 0.]])"
      ]
     },
     "execution_count": 31,
     "metadata": {},
     "output_type": "execute_result"
    }
   ],
   "execution_count": 31
  },
  {
   "metadata": {
    "ExecuteTime": {
     "end_time": "2024-06-12T13:59:32.681803Z",
     "start_time": "2024-06-12T13:59:32.678953Z"
    }
   },
   "cell_type": "code",
   "source": "x_masked",
   "id": "e6dbcafab2ad8a99",
   "outputs": [
    {
     "data": {
      "text/plain": [
       "tensor([[[390, 631, 208, 625, 228],\n",
       "         [482, 543, 141, 933, 960]]], dtype=torch.int32)"
      ]
     },
     "execution_count": 32,
     "metadata": {},
     "output_type": "execute_result"
    }
   ],
   "execution_count": 32
  },
  {
   "metadata": {
    "ExecuteTime": {
     "end_time": "2024-06-17T08:22:56.422688Z",
     "start_time": "2024-06-17T08:22:56.418861Z"
    }
   },
   "cell_type": "code",
   "source": [
    "import torchaudio\n",
    "import torch\n",
    "import os\n",
    "import librosa\n",
    "from torchlibrosa.stft import Spectrogram, LogmelFilterBank\n",
    "\n",
    "test_f = os.path.join('datas', 'test', 'test_10s.wav')\n",
    "raw_signal, _ = librosa.load(test_f, sr=32000, mono=True)\n",
    "# fband_new = torchaudio.compliance.kaldi.fbank()"
   ],
   "id": "c96f8e3ead4ec63a",
   "outputs": [],
   "execution_count": 12
  },
  {
   "metadata": {
    "ExecuteTime": {
     "end_time": "2024-06-17T08:22:56.707780Z",
     "start_time": "2024-06-17T08:22:56.704909Z"
    }
   },
   "cell_type": "code",
   "source": [
    "def fband_ori(wav):\n",
    "    spectrogram_extractor = Spectrogram(n_fft=1024, hop_length=320, win_length=1024)\n",
    "    # log_mel feature extractor\n",
    "    logmel_extractor = LogmelFilterBank(sr=32000, n_fft=1024, n_mels=64, fmin=50.)\n",
    "    x = spectrogram_extractor(wav)\n",
    "    x = logmel_extractor(x)\n",
    "    return x"
   ],
   "id": "9a562a1224293a6b",
   "outputs": [],
   "execution_count": 13
  },
  {
   "metadata": {
    "ExecuteTime": {
     "end_time": "2024-06-17T08:23:09.577229Z",
     "start_time": "2024-06-17T08:23:09.462195Z"
    }
   },
   "cell_type": "code",
   "source": [
    "fband1 = fband_ori(torch.Tensor(raw_signal).unsqueeze(0))\n",
    "fband1.shape, fband1"
   ],
   "id": "dcd095637bcb3fd2",
   "outputs": [
    {
     "data": {
      "text/plain": [
       "(torch.Size([1, 1, 1001, 64]),\n",
       " tensor([[[[-72.1170, -72.1170, -72.1170,  ..., -72.1170, -72.1170, -72.1170],\n",
       "           [-72.1170, -72.1170, -72.1170,  ..., -72.1170, -72.1170, -72.1170],\n",
       "           [-72.1170, -72.1170, -72.1170,  ..., -72.1170, -72.1170, -72.1170],\n",
       "           ...,\n",
       "           [-32.4773, -36.4364, -46.5780,  ..., -72.1170, -72.1170, -72.1170],\n",
       "           [-33.5813, -34.5268, -41.4278,  ..., -72.1170, -72.1170, -72.1170],\n",
       "           [-34.2101, -28.8399, -31.1258,  ..., -72.1170, -72.1170, -72.1170]]]]))"
      ]
     },
     "execution_count": 15,
     "metadata": {},
     "output_type": "execute_result"
    }
   ],
   "execution_count": 15
  },
  {
   "metadata": {
    "ExecuteTime": {
     "end_time": "2024-06-17T08:30:21.280733Z",
     "start_time": "2024-06-17T08:30:21.270658Z"
    }
   },
   "cell_type": "code",
   "source": [
    "fband2 = torchaudio.compliance.kaldi.fbank(torch.Tensor(raw_signal).unsqueeze(0), frame_length=32, frame_shift=10, low_freq=20., sample_frequency=32000, window_type='hanning', dither=0.0, htk_compat=True)\n",
    "fband2.shape, fband2"
   ],
   "id": "6565e7e3c3ba1d8d",
   "outputs": [
    {
     "data": {
      "text/plain": [
       "(torch.Size([997, 23]),\n",
       " tensor([[-15.9424, -15.9424, -15.9424,  ..., -15.9424, -15.9424, -15.9424],\n",
       "         [-15.9424, -15.9424, -15.9424,  ..., -15.9424, -15.9424, -15.9424],\n",
       "         [-15.9424, -15.9424, -15.9424,  ..., -15.9424, -15.9424, -15.9424],\n",
       "         ...,\n",
       "         [-10.9924, -11.2170, -11.5014,  ..., -10.0303, -11.8588, -11.4869],\n",
       "         [-10.5070, -11.6606, -12.5122,  ..., -11.3630, -11.9011, -11.3635],\n",
       "         [ -9.7052, -11.4238, -12.2474,  ..., -11.3084, -11.5466, -11.3210]]))"
      ]
     },
     "execution_count": 21,
     "metadata": {},
     "output_type": "execute_result"
    }
   ],
   "execution_count": 21
  },
  {
   "metadata": {},
   "cell_type": "code",
   "outputs": [],
   "execution_count": null,
   "source": [
    "# audiomae:fbank = torchaudio.compliance.kaldi.fbank(waveform, htk_compat=True, sample_frequency=sr, use_energy=False,\n",
    "#                                                   window_type='hanning', num_mel_bins=self.melbins, dither=0.0, frame_shift=10)"
   ],
   "id": "40005a7c06b9fb43"
  },
  {
   "metadata": {},
   "cell_type": "code",
   "outputs": [],
   "execution_count": null,
   "source": [
    "# EAT:feats = torchaudio.compliance.kaldi.fbank(feats, htk_compat=True, sample_frequency=curr_sample_rate, use_energy=False,\n",
    "#                                                   window_type='hanning', num_mel_bins=128, dither=0.0, frame_shift=10).unsqueeze(dim=0)"
   ],
   "id": "d86fd0ad612a219"
  }
 ],
 "metadata": {
  "kernelspec": {
   "display_name": "Python 3",
   "language": "python",
   "name": "python3"
  },
  "language_info": {
   "codemirror_mode": {
    "name": "ipython",
    "version": 2
   },
   "file_extension": ".py",
   "mimetype": "text/x-python",
   "name": "python",
   "nbconvert_exporter": "python",
   "pygments_lexer": "ipython2",
   "version": "2.7.6"
  }
 },
 "nbformat": 4,
 "nbformat_minor": 5
}
