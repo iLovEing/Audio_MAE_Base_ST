{
 "cells": [
  {
   "cell_type": "code",
   "execution_count": 1,
   "id": "initial_id",
   "metadata": {
    "collapsed": true,
    "ExecuteTime": {
     "end_time": "2024-04-12T09:53:13.404212500Z",
     "start_time": "2024-04-12T09:53:12.398216300Z"
    }
   },
   "outputs": [],
   "source": [
    "import librosa\n",
    "import torch\n",
    "\n",
    "from model import get_fband_model, get_swin_transformer_encoder, get_st_classifier, get_wav2img_model\n",
    "from utils import parse_config\n",
    "\n",
    "config = parse_config()"
   ]
  },
  {
   "cell_type": "markdown",
   "source": [
    "### init model"
   ],
   "metadata": {
    "collapsed": false
   },
   "id": "46b31368e3e17572"
  },
  {
   "cell_type": "code",
   "execution_count": 2,
   "outputs": [],
   "source": [
    "fband_transfer = get_fband_model(config).eval()\n",
    "wav2img_transfer = get_wav2img_model(config).eval()\n",
    "st_model = get_swin_transformer(config).eval()\n",
    "st_classifier = get_st_classifier(config).eval()"
   ],
   "metadata": {
    "collapsed": false,
    "ExecuteTime": {
     "end_time": "2024-04-12T09:53:14.547744500Z",
     "start_time": "2024-04-12T09:53:13.405323900Z"
    }
   },
   "id": "16fd6debffdb5ad0"
  },
  {
   "cell_type": "markdown",
   "source": [],
   "metadata": {
    "collapsed": false
   },
   "id": "2d17c408a488acd4"
  },
  {
   "cell_type": "markdown",
   "source": [
    "### read checkpoint"
   ],
   "metadata": {
    "collapsed": false
   },
   "id": "66c75814365c6186"
  },
  {
   "cell_type": "code",
   "execution_count": 3,
   "outputs": [],
   "source": [
    "pre_ckpt_path = r'ckpt\\infer\\hts_at\\model_stopby_train_loss_v0.pth'\n",
    "pre_ckpt = torch.load(pre_ckpt_path, map_location=torch.device('cpu'))"
   ],
   "metadata": {
    "collapsed": false,
    "ExecuteTime": {
     "end_time": "2024-04-12T09:53:14.595814600Z",
     "start_time": "2024-04-12T09:53:14.547744500Z"
    }
   },
   "id": "b94fbcc76eb339a2"
  },
  {
   "cell_type": "code",
   "execution_count": 4,
   "outputs": [
    {
     "name": "stdout",
     "output_type": "stream",
     "text": [
      "match spectrogram_extractor.stft.conv_real.weight in pre.spectrogram_extractor.stft.conv_real.weight\n",
      "match spectrogram_extractor.stft.conv_imag.weight in pre.spectrogram_extractor.stft.conv_imag.weight\n",
      "match logmel_extractor.melW in pre.logmel_extractor.melW\n"
     ]
    }
   ],
   "source": [
    "with torch.no_grad():\n",
    "    for name, para in fband_transfer.named_parameters():\n",
    "        for _k, _v in pre_ckpt.items():\n",
    "            if name in _k:\n",
    "                print(f'match {name} in {_k}')\n",
    "                para.set_(_v)\n",
    "                break\n",
    "\n",
    "torch.save(fband_transfer.state_dict(), r'workspace\\fband_transfer.pth')"
   ],
   "metadata": {
    "collapsed": false,
    "ExecuteTime": {
     "end_time": "2024-04-12T09:53:14.610818900Z",
     "start_time": "2024-04-12T09:53:14.595814600Z"
    }
   },
   "id": "703b23fa3d594780"
  },
  {
   "cell_type": "code",
   "execution_count": 5,
   "outputs": [],
   "source": [
    "key_map = {\n",
    "    'bn0.weight' : 'pre.bn0.weight',\n",
    "    'bn0.bias' : 'pre.bn0.bias',\n",
    "    'down_sample_layer.weight' : 'pre.long_audio_down_sample_layer.weight',\n",
    "    'down_sample_layer.bias' : 'pre.long_audio_down_sample_layer.bias',\n",
    "}\n",
    "with torch.no_grad():\n",
    "    for name, para in wav2img_transfer.named_parameters():\n",
    "        para.set_(pre_ckpt[key_map[name]])\n",
    "    wav2img_transfer.bn0.running_mean.set_(pre_ckpt[\"pre.bn0.running_mean\"])\n",
    "    wav2img_transfer.bn0.running_var.set_(pre_ckpt[\"pre.bn0.running_var\"])\n",
    "    wav2img_transfer.bn0.num_batches_tracked.set_(pre_ckpt[\"pre.bn0.num_batches_tracked\"])\n",
    "\n",
    "torch.save(wav2img_transfer.state_dict(), r'workspace\\wav2img_transfer.pth')"
   ],
   "metadata": {
    "collapsed": false,
    "ExecuteTime": {
     "end_time": "2024-04-12T09:53:14.641825400Z",
     "start_time": "2024-04-12T09:53:14.612819200Z"
    }
   },
   "id": "da9aaee8f404da96"
  },
  {
   "cell_type": "code",
   "execution_count": 6,
   "outputs": [],
   "source": [
    "with torch.no_grad():\n",
    "    for name, para in st_model.named_parameters():\n",
    "        para.set_(pre_ckpt[name])\n",
    "\n",
    "torch.save(st_model.state_dict(), r'workspace\\st_model.pth')"
   ],
   "metadata": {
    "collapsed": false,
    "ExecuteTime": {
     "end_time": "2024-04-12T09:53:14.706841100Z",
     "start_time": "2024-04-12T09:53:14.627822400Z"
    }
   },
   "id": "d8580d473bbcece7"
  },
  {
   "cell_type": "code",
   "execution_count": 7,
   "outputs": [],
   "source": [
    "with torch.no_grad():\n",
    "    for name, para in st_classifier.named_parameters():\n",
    "        para.set_(pre_ckpt[name])\n",
    "\n",
    "torch.save(st_classifier.state_dict(), r'workspace\\st_classifier.pth')"
   ],
   "metadata": {
    "collapsed": false,
    "ExecuteTime": {
     "end_time": "2024-04-12T09:53:14.722844800Z",
     "start_time": "2024-04-12T09:53:14.706841100Z"
    }
   },
   "id": "f5b8c4168c9f0a7b"
  },
  {
   "cell_type": "markdown",
   "source": [
    "### test data"
   ],
   "metadata": {
    "collapsed": false
   },
   "id": "43e5b988d151069f"
  },
  {
   "cell_type": "code",
   "execution_count": 11,
   "outputs": [
    {
     "name": "stdout",
     "output_type": "stream",
     "text": [
      "torch.Size([1, 984064])\n",
      "torch.Size([1, 1, 3072, 64])\n",
      "torch.Size([1, 1, 256, 256])\n",
      "torch.Size([1, 768, 8, 8])\n"
     ]
    },
    {
     "ename": "KeyboardInterrupt",
     "evalue": "",
     "output_type": "error",
     "traceback": [
      "\u001B[1;31m---------------------------------------------------------------------------\u001B[0m",
      "\u001B[1;31mKeyboardInterrupt\u001B[0m                         Traceback (most recent call last)",
      "Cell \u001B[1;32mIn[11], line 12\u001B[0m\n\u001B[0;32m     10\u001B[0m st_output \u001B[38;5;241m=\u001B[39m st_model(img)\n\u001B[0;32m     11\u001B[0m \u001B[38;5;28mprint\u001B[39m(st_output\u001B[38;5;241m.\u001B[39mshape)\n\u001B[1;32m---> 12\u001B[0m classifier_output \u001B[38;5;241m=\u001B[39m \u001B[43mst_classifier\u001B[49m\u001B[43m(\u001B[49m\u001B[43mst_output\u001B[49m\u001B[43m)\u001B[49m\n\u001B[0;32m     13\u001B[0m \u001B[38;5;28mprint\u001B[39m(classifier_output[\u001B[38;5;241m0\u001B[39m]\u001B[38;5;241m.\u001B[39mshape, classifier_output[\u001B[38;5;241m1\u001B[39m]\u001B[38;5;241m.\u001B[39mshape, classifier_output[\u001B[38;5;241m2\u001B[39m]\u001B[38;5;241m.\u001B[39mshape)\n",
      "File \u001B[1;32m~\\AppData\\Roaming\\Python\\Python310\\site-packages\\torch\\nn\\modules\\module.py:1511\u001B[0m, in \u001B[0;36mModule._wrapped_call_impl\u001B[1;34m(self, *args, **kwargs)\u001B[0m\n\u001B[0;32m   1509\u001B[0m     \u001B[38;5;28;01mreturn\u001B[39;00m \u001B[38;5;28mself\u001B[39m\u001B[38;5;241m.\u001B[39m_compiled_call_impl(\u001B[38;5;241m*\u001B[39margs, \u001B[38;5;241m*\u001B[39m\u001B[38;5;241m*\u001B[39mkwargs)  \u001B[38;5;66;03m# type: ignore[misc]\u001B[39;00m\n\u001B[0;32m   1510\u001B[0m \u001B[38;5;28;01melse\u001B[39;00m:\n\u001B[1;32m-> 1511\u001B[0m     \u001B[38;5;28;01mreturn\u001B[39;00m \u001B[38;5;28mself\u001B[39m\u001B[38;5;241m.\u001B[39m_call_impl(\u001B[38;5;241m*\u001B[39margs, \u001B[38;5;241m*\u001B[39m\u001B[38;5;241m*\u001B[39mkwargs)\n",
      "File \u001B[1;32m~\\AppData\\Roaming\\Python\\Python310\\site-packages\\torch\\nn\\modules\\module.py:1520\u001B[0m, in \u001B[0;36mModule._call_impl\u001B[1;34m(self, *args, **kwargs)\u001B[0m\n\u001B[0;32m   1515\u001B[0m \u001B[38;5;66;03m# If we don't have any hooks, we want to skip the rest of the logic in\u001B[39;00m\n\u001B[0;32m   1516\u001B[0m \u001B[38;5;66;03m# this function, and just call forward.\u001B[39;00m\n\u001B[0;32m   1517\u001B[0m \u001B[38;5;28;01mif\u001B[39;00m \u001B[38;5;129;01mnot\u001B[39;00m (\u001B[38;5;28mself\u001B[39m\u001B[38;5;241m.\u001B[39m_backward_hooks \u001B[38;5;129;01mor\u001B[39;00m \u001B[38;5;28mself\u001B[39m\u001B[38;5;241m.\u001B[39m_backward_pre_hooks \u001B[38;5;129;01mor\u001B[39;00m \u001B[38;5;28mself\u001B[39m\u001B[38;5;241m.\u001B[39m_forward_hooks \u001B[38;5;129;01mor\u001B[39;00m \u001B[38;5;28mself\u001B[39m\u001B[38;5;241m.\u001B[39m_forward_pre_hooks\n\u001B[0;32m   1518\u001B[0m         \u001B[38;5;129;01mor\u001B[39;00m _global_backward_pre_hooks \u001B[38;5;129;01mor\u001B[39;00m _global_backward_hooks\n\u001B[0;32m   1519\u001B[0m         \u001B[38;5;129;01mor\u001B[39;00m _global_forward_hooks \u001B[38;5;129;01mor\u001B[39;00m _global_forward_pre_hooks):\n\u001B[1;32m-> 1520\u001B[0m     \u001B[38;5;28;01mreturn\u001B[39;00m forward_call(\u001B[38;5;241m*\u001B[39margs, \u001B[38;5;241m*\u001B[39m\u001B[38;5;241m*\u001B[39mkwargs)\n\u001B[0;32m   1522\u001B[0m \u001B[38;5;28;01mtry\u001B[39;00m:\n\u001B[0;32m   1523\u001B[0m     result \u001B[38;5;241m=\u001B[39m \u001B[38;5;28;01mNone\u001B[39;00m\n",
      "File \u001B[1;32mE:\\project\\python\\auto_encoder\\model\\classifier.py:79\u001B[0m, in \u001B[0;36mSTClassifier.forward\u001B[1;34m(self, x)\u001B[0m\n\u001B[0;32m     74\u001B[0m     fpx \u001B[38;5;241m=\u001B[39m interpolate(torch\u001B[38;5;241m.\u001B[39msigmoid(x)\u001B[38;5;241m.\u001B[39mpermute(\u001B[38;5;241m0\u001B[39m, \u001B[38;5;241m2\u001B[39m, \u001B[38;5;241m1\u001B[39m)\u001B[38;5;241m.\u001B[39mcontiguous(), \u001B[38;5;28mself\u001B[39m\u001B[38;5;241m.\u001B[39mds_ratio)\n\u001B[0;32m     77\u001B[0m     x \u001B[38;5;241m=\u001B[39m \u001B[38;5;28mself\u001B[39m\u001B[38;5;241m.\u001B[39mavgpool(x)\u001B[38;5;241m.\u001B[39msqueeze(\u001B[38;5;241m-\u001B[39m\u001B[38;5;241m1\u001B[39m)\n\u001B[1;32m---> 79\u001B[0m     \u001B[38;5;28;01mreturn\u001B[39;00m \u001B[43mx\u001B[49m, fpx, latent_output\n\u001B[0;32m     81\u001B[0m \u001B[38;5;28;01melse\u001B[39;00m:  \u001B[38;5;66;03m# todo\u001B[39;00m\n\u001B[0;32m     82\u001B[0m     \u001B[38;5;28;01mpass\u001B[39;00m\n",
      "File \u001B[1;32mE:\\project\\python\\auto_encoder\\model\\classifier.py:79\u001B[0m, in \u001B[0;36mSTClassifier.forward\u001B[1;34m(self, x)\u001B[0m\n\u001B[0;32m     74\u001B[0m     fpx \u001B[38;5;241m=\u001B[39m interpolate(torch\u001B[38;5;241m.\u001B[39msigmoid(x)\u001B[38;5;241m.\u001B[39mpermute(\u001B[38;5;241m0\u001B[39m, \u001B[38;5;241m2\u001B[39m, \u001B[38;5;241m1\u001B[39m)\u001B[38;5;241m.\u001B[39mcontiguous(), \u001B[38;5;28mself\u001B[39m\u001B[38;5;241m.\u001B[39mds_ratio)\n\u001B[0;32m     77\u001B[0m     x \u001B[38;5;241m=\u001B[39m \u001B[38;5;28mself\u001B[39m\u001B[38;5;241m.\u001B[39mavgpool(x)\u001B[38;5;241m.\u001B[39msqueeze(\u001B[38;5;241m-\u001B[39m\u001B[38;5;241m1\u001B[39m)\n\u001B[1;32m---> 79\u001B[0m     \u001B[38;5;28;01mreturn\u001B[39;00m \u001B[43mx\u001B[49m, fpx, latent_output\n\u001B[0;32m     81\u001B[0m \u001B[38;5;28;01melse\u001B[39;00m:  \u001B[38;5;66;03m# todo\u001B[39;00m\n\u001B[0;32m     82\u001B[0m     \u001B[38;5;28;01mpass\u001B[39;00m\n",
      "File \u001B[1;32m_pydevd_bundle\\pydevd_cython_win32_310_64.pyx:1179\u001B[0m, in \u001B[0;36m_pydevd_bundle.pydevd_cython_win32_310_64.SafeCallWrapper.__call__\u001B[1;34m()\u001B[0m\n",
      "File \u001B[1;32m_pydevd_bundle\\pydevd_cython_win32_310_64.pyx:620\u001B[0m, in \u001B[0;36m_pydevd_bundle.pydevd_cython_win32_310_64.PyDBFrame.trace_dispatch\u001B[1;34m()\u001B[0m\n",
      "File \u001B[1;32m_pydevd_bundle\\pydevd_cython_win32_310_64.pyx:929\u001B[0m, in \u001B[0;36m_pydevd_bundle.pydevd_cython_win32_310_64.PyDBFrame.trace_dispatch\u001B[1;34m()\u001B[0m\n",
      "File \u001B[1;32m_pydevd_bundle\\pydevd_cython_win32_310_64.pyx:920\u001B[0m, in \u001B[0;36m_pydevd_bundle.pydevd_cython_win32_310_64.PyDBFrame.trace_dispatch\u001B[1;34m()\u001B[0m\n",
      "File \u001B[1;32m_pydevd_bundle\\pydevd_cython_win32_310_64.pyx:317\u001B[0m, in \u001B[0;36m_pydevd_bundle.pydevd_cython_win32_310_64.PyDBFrame.do_wait_suspend\u001B[1;34m()\u001B[0m\n",
      "File \u001B[1;32mD:\\Productivity\\JetBrains\\PyCharm 2023.2.1\\plugins\\python\\helpers\\pydev\\pydevd.py:1160\u001B[0m, in \u001B[0;36mPyDB.do_wait_suspend\u001B[1;34m(self, thread, frame, event, arg, send_suspend_message, is_unhandled_exception)\u001B[0m\n\u001B[0;32m   1157\u001B[0m         from_this_thread\u001B[38;5;241m.\u001B[39mappend(frame_id)\n\u001B[0;32m   1159\u001B[0m \u001B[38;5;28;01mwith\u001B[39;00m \u001B[38;5;28mself\u001B[39m\u001B[38;5;241m.\u001B[39m_threads_suspended_single_notification\u001B[38;5;241m.\u001B[39mnotify_thread_suspended(thread_id, stop_reason):\n\u001B[1;32m-> 1160\u001B[0m     \u001B[38;5;28;43mself\u001B[39;49m\u001B[38;5;241;43m.\u001B[39;49m\u001B[43m_do_wait_suspend\u001B[49m\u001B[43m(\u001B[49m\u001B[43mthread\u001B[49m\u001B[43m,\u001B[49m\u001B[43m \u001B[49m\u001B[43mframe\u001B[49m\u001B[43m,\u001B[49m\u001B[43m \u001B[49m\u001B[43mevent\u001B[49m\u001B[43m,\u001B[49m\u001B[43m \u001B[49m\u001B[43marg\u001B[49m\u001B[43m,\u001B[49m\u001B[43m \u001B[49m\u001B[43msuspend_type\u001B[49m\u001B[43m,\u001B[49m\u001B[43m \u001B[49m\u001B[43mfrom_this_thread\u001B[49m\u001B[43m)\u001B[49m\n",
      "File \u001B[1;32mD:\\Productivity\\JetBrains\\PyCharm 2023.2.1\\plugins\\python\\helpers\\pydev\\pydevd.py:1175\u001B[0m, in \u001B[0;36mPyDB._do_wait_suspend\u001B[1;34m(self, thread, frame, event, arg, suspend_type, from_this_thread)\u001B[0m\n\u001B[0;32m   1172\u001B[0m             \u001B[38;5;28mself\u001B[39m\u001B[38;5;241m.\u001B[39m_call_mpl_hook()\n\u001B[0;32m   1174\u001B[0m         \u001B[38;5;28mself\u001B[39m\u001B[38;5;241m.\u001B[39mprocess_internal_commands()\n\u001B[1;32m-> 1175\u001B[0m         \u001B[43mtime\u001B[49m\u001B[38;5;241;43m.\u001B[39;49m\u001B[43msleep\u001B[49m\u001B[43m(\u001B[49m\u001B[38;5;241;43m0.01\u001B[39;49m\u001B[43m)\u001B[49m\n\u001B[0;32m   1177\u001B[0m \u001B[38;5;28mself\u001B[39m\u001B[38;5;241m.\u001B[39mcancel_async_evaluation(get_current_thread_id(thread), \u001B[38;5;28mstr\u001B[39m(\u001B[38;5;28mid\u001B[39m(frame)))\n\u001B[0;32m   1179\u001B[0m \u001B[38;5;66;03m# process any stepping instructions\u001B[39;00m\n",
      "\u001B[1;31mKeyboardInterrupt\u001B[0m: "
     ]
    }
   ],
   "source": [
    "test_wav = r'datas\\test.wav'\n",
    "signal, _ = librosa.load(test_wav, sr=32000, mono=True)\n",
    "test_input = torch.Tensor(signal).unsqueeze(0)\n",
    "print(test_input.shape)\n",
    "\n",
    "fband = fband_transfer(test_input)\n",
    "print(fband.shape)\n",
    "img = wav2img_transfer(fband)\n",
    "print(img.shape)\n",
    "st_output = st_model(img)\n",
    "print(st_output.shape)\n",
    "classifier_output = st_classifier(st_output)\n",
    "print(classifier_output[0].shape, classifier_output[1].shape, classifier_output[2].shape)"
   ],
   "metadata": {
    "collapsed": false,
    "ExecuteTime": {
     "end_time": "2024-04-12T09:58:56.422211500Z",
     "start_time": "2024-04-12T09:53:23.889682800Z"
    }
   },
   "id": "744c9d33b65b0d20"
  },
  {
   "cell_type": "code",
   "execution_count": 9,
   "outputs": [
    {
     "data": {
      "text/plain": "tensor([[ 0.0818, -0.6886,  1.0419,  0.1545,  1.2445,  1.6563,  0.8026,  0.5598,\n         -1.2866,  3.6938, -0.0896, -1.0914, -0.7614, -1.0926, -2.0282, -0.7174,\n         -2.8176, -0.1787,  1.0420, -0.1627, -0.5629,  0.6500, -1.2423,  1.3095,\n         -2.3625,  0.5163]])"
     },
     "execution_count": 9,
     "metadata": {},
     "output_type": "execute_result"
    }
   ],
   "source": [
    "result = classifier_output[0].detach()\n",
    "result"
   ],
   "metadata": {
    "collapsed": false,
    "ExecuteTime": {
     "end_time": "2024-04-12T09:53:15.107481100Z",
     "start_time": "2024-04-12T09:53:15.087477400Z"
    }
   },
   "id": "c4bfc5f0f0f9893e"
  },
  {
   "cell_type": "code",
   "execution_count": 10,
   "outputs": [
    {
     "data": {
      "text/plain": "tensor(9)"
     },
     "execution_count": 10,
     "metadata": {},
     "output_type": "execute_result"
    }
   ],
   "source": [
    "result.argmax()"
   ],
   "metadata": {
    "collapsed": false,
    "ExecuteTime": {
     "end_time": "2024-04-12T09:53:15.133487500Z",
     "start_time": "2024-04-12T09:53:15.104481100Z"
    }
   },
   "id": "83cc4d08c0f8746e"
  },
  {
   "cell_type": "code",
   "execution_count": 10,
   "outputs": [],
   "source": [],
   "metadata": {
    "collapsed": false,
    "ExecuteTime": {
     "end_time": "2024-04-12T09:53:15.143489800Z",
     "start_time": "2024-04-12T09:53:15.119484200Z"
    }
   },
   "id": "7e30a96ecf1d5445"
  }
 ],
 "metadata": {
  "kernelspec": {
   "display_name": "Python 3",
   "language": "python",
   "name": "python3"
  },
  "language_info": {
   "codemirror_mode": {
    "name": "ipython",
    "version": 2
   },
   "file_extension": ".py",
   "mimetype": "text/x-python",
   "name": "python",
   "nbconvert_exporter": "python",
   "pygments_lexer": "ipython2",
   "version": "2.7.6"
  }
 },
 "nbformat": 4,
 "nbformat_minor": 5
}
