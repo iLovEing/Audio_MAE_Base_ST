{
 "cells": [
  {
   "cell_type": "code",
   "id": "initial_id",
   "metadata": {
    "collapsed": true,
    "ExecuteTime": {
     "end_time": "2024-07-09T13:23:35.894884Z",
     "start_time": "2024-07-09T13:23:34.271228Z"
    }
   },
   "source": [
    "import os\n",
    "import librosa\n",
    "import json\n",
    "import pandas as pd\n",
    "from dataset import generate_data_csv, generate_hdf5\n",
    "from tqdm import tqdm"
   ],
   "outputs": [],
   "execution_count": 1
  },
  {
   "metadata": {},
   "cell_type": "markdown",
   "source": "## data csv",
   "id": "8b3a505d5fd21e6e"
  },
  {
   "metadata": {
    "ExecuteTime": {
     "end_time": "2024-07-09T13:23:35.898162Z",
     "start_time": "2024-07-09T13:23:35.895886Z"
    }
   },
   "cell_type": "code",
   "source": [
    "label_csv = r'Z:\\data\\ai_dataset\\audio\\audio_set\\class_labels_indices.csv'\n",
    "train_csv = r'Z:\\data\\ai_dataset\\audio\\audio_set\\balanced_train_segments.csv'\n",
    "eval_csv = r'Z:\\data\\ai_dataset\\audio\\audio_set\\eval_segments.csv'\n",
    "balance_data_root = r'Z:\\data\\ai_dataset\\audio\\audio_set\\balanced_train_segments'\n",
    "eval_data_root = r'Z:\\data\\ai_dataset\\audio\\audio_set\\eval_segments'\n",
    "\n",
    "saved_label_json = r'workspace\\label.json'\n",
    "saved_data_csv = r'workspace\\ft_data.csv'"
   ],
   "id": "257fa8aa3bbef404",
   "outputs": [],
   "execution_count": 2
  },
  {
   "metadata": {
    "ExecuteTime": {
     "end_time": "2024-07-09T13:23:35.901179Z",
     "start_time": "2024-07-09T13:23:35.898162Z"
    }
   },
   "cell_type": "code",
   "source": [
    "def wav_valid(wav_f, sr=32000, min_len=1):\n",
    "    wavform, _ = librosa.load(wav_f, sr=sr)\n",
    "    return True if wavform.shape[0] >= int(min_len*sr) else False"
   ],
   "id": "8d5348bec37461e3",
   "outputs": [],
   "execution_count": 3
  },
  {
   "metadata": {
    "ExecuteTime": {
     "end_time": "2024-07-09T13:23:36.020242Z",
     "start_time": "2024-07-09T13:23:35.901179Z"
    }
   },
   "cell_type": "code",
   "source": [
    "lb_df = pd.read_csv(label_csv, index_col=0)\n",
    "train_df = pd.read_csv(train_csv, sep='\\t')\n",
    "eval_df = pd.read_csv(eval_csv, sep='\\t')\n",
    "lb_df.head(), train_df.head(8), eval_df.head(8)"
   ],
   "id": "347b10924e09eac9",
   "outputs": [
    {
     "data": {
      "text/plain": [
       "(             mid                   display_name\n",
       " index                                          \n",
       " 0       /m/09x0r                         Speech\n",
       " 1      /m/05zppz      Male speech, man speaking\n",
       " 2       /m/02zsn  Female speech, woman speaking\n",
       " 3       /m/0ytgt     Child speech, kid speaking\n",
       " 4      /m/01h8n0                   Conversation,\n",
       "      # Segments csv created Sun Mar  5 10:54:31 2017\n",
       " 0  # num_ytids=22160, num_segs=22160, num_unique_...\n",
       " 1  # YTID, start_seconds, end_seconds, positive_l...\n",
       " 2  --PJHxphWEs, 30.000, 40.000, \"/m/09x0r,/t/dd00...\n",
       " 3           --ZhevVpy1s, 50.000, 60.000, \"/m/012xff\"\n",
       " 4  --aE2O5G5WE, 0.000, 10.000, \"/m/03fwl,/m/04rlf...\n",
       " 5  --aO5cdqSAg, 30.000, 40.000, \"/t/dd00003,/t/dd...\n",
       " 6  --aaILOrkII, 200.000, 210.000, \"/m/032s66,/m/0...\n",
       " 7           --cB2ZVjpnA, 30.000, 40.000, \"/m/01y3hg\",\n",
       "      # Segments csv created Sun Mar  5 10:54:25 2017\n",
       " 0  # num_ytids=20371, num_segs=20371, num_unique_...\n",
       " 1  # YTID, start_seconds, end_seconds, positive_l...\n",
       " 2  --4gqARaEJE, 0.000, 10.000, \"/m/068hy,/m/07q6c...\n",
       " 3            --BfvyPmVMo, 20.000, 30.000, \"/m/03l9g\"\n",
       " 4            --U7joUcTCo, 0.000, 10.000, \"/m/01b_21\"\n",
       " 5  --i-y1v8Hy8, 0.000, 9.000, \"/m/04rlf,/m/09x0r,...\n",
       " 6  -0BIyqJj9ZU, 30.000, 40.000, \"/m/07rgt08,/m/07...\n",
       " 7  -0CamVQdP_Y, 0.000, 6.000, \"/m/04rlf,/m/07pbtc...)"
      ]
     },
     "execution_count": 4,
     "metadata": {},
     "output_type": "execute_result"
    }
   ],
   "execution_count": 4
  },
  {
   "metadata": {
    "ExecuteTime": {
     "end_time": "2024-07-09T13:23:36.024674Z",
     "start_time": "2024-07-09T13:23:36.021239Z"
    }
   },
   "cell_type": "code",
   "source": [
    "label_list = lb_df['mid'].tolist()\n",
    "label_map = {_k: _v for _v, _k in enumerate(label_list)}\n",
    "with open(saved_label_json, 'w') as _f:\n",
    "    json.dump(label_map, _f, indent=4)"
   ],
   "id": "ae16004df20eae0e",
   "outputs": [],
   "execution_count": 5
  },
  {
   "metadata": {
    "ExecuteTime": {
     "end_time": "2024-07-09T13:23:36.121129Z",
     "start_time": "2024-07-09T13:23:36.025669Z"
    }
   },
   "cell_type": "code",
   "source": [
    "train_file_info = train_df.iloc[:, 0].tolist()[2:]\n",
    "train_file_info = list(map(lambda x: x.split(' '), train_file_info))\n",
    "for _file_info in train_file_info:\n",
    "    assert len(_file_info) == 4 and _file_info[-1].startswith('\"') and _file_info[-1].endswith('\"')\n",
    "train_file_info = list(map(lambda x: [x[0][:-1], x[-1][1:-1]], train_file_info))\n",
    "\n",
    "eval_file_info = eval_df.iloc[:, 0].tolist()[2:]\n",
    "eval_file_info = list(map(lambda x: x.split(' '), eval_file_info))\n",
    "for _file_info in eval_file_info:\n",
    "    assert len(_file_info) == 4 and _file_info[-1].startswith('\"') and _file_info[-1].endswith('\"')\n",
    "eval_file_info = list(map(lambda x: [x[0][:-1], x[-1][1:-1]], eval_file_info))\n",
    "print(f'train: total {len(train_file_info)}; {train_file_info[0]} {len(train_file_info[0][0])})')\n",
    "print(f'eval: total {len(eval_file_info)}; {eval_file_info[0]} {len(eval_file_info[0][0])})')"
   ],
   "id": "688faf41fc00b13d",
   "outputs": [
    {
     "name": "stdout",
     "output_type": "stream",
     "text": [
      "train: total 22160; ['--PJHxphWEs', '/m/09x0r,/t/dd00088'] 11)\n",
      "eval: total 20371; ['--4gqARaEJE', '/m/068hy,/m/07q6cd_,/m/0bt9lr,/m/0jbk'] 11)\n"
     ]
    }
   ],
   "execution_count": 6
  },
  {
   "metadata": {
    "ExecuteTime": {
     "end_time": "2024-07-09T13:23:40.935580Z",
     "start_time": "2024-07-09T13:23:36.344278Z"
    }
   },
   "cell_type": "code",
   "source": [
    "train_wavs = os.listdir(balance_data_root)\n",
    "eval_wavs = os.listdir(eval_data_root)\n",
    "print(f'train: {len(train_wavs)}; {train_wavs[0]}-{train_wavs[0]}')\n",
    "print(f'eval: {len(eval_wavs)}; {eval_wavs[0]}-{eval_wavs[0]}')"
   ],
   "id": "2ce10fe225ce691f",
   "outputs": [
    {
     "name": "stdout",
     "output_type": "stream",
     "text": [
      "train: 20550; -pjK2u3Qtxc.wav--pjK2u3Qtxc.wav\n",
      "eval: 18887; VMbJTgzMhKE.wav-VMbJTgzMhKE.wav\n"
     ]
    }
   ],
   "execution_count": 7
  },
  {
   "metadata": {
    "ExecuteTime": {
     "end_time": "2024-07-09T13:23:40.939019Z",
     "start_time": "2024-07-09T13:23:40.936575Z"
    }
   },
   "cell_type": "code",
   "source": [
    "result = {\n",
    "    'train': [],\n",
    "    'eval': [],\n",
    "}"
   ],
   "id": "16227500dd6cf222",
   "outputs": [],
   "execution_count": 8
  },
  {
   "metadata": {
    "ExecuteTime": {
     "end_time": "2024-07-09T13:31:06.118937Z",
     "start_time": "2024-07-09T13:23:40.940010Z"
    }
   },
   "cell_type": "code",
   "source": [
    "train_miss = 0\n",
    "for _file_info in tqdm(train_file_info):\n",
    "    wav_name = _file_info[0] + '.wav'\n",
    "    if not wav_name in train_wavs:\n",
    "        train_miss += 1\n",
    "        continue\n",
    "    \n",
    "    wav_path = os.path.join(balance_data_root, wav_name)\n",
    "    if not wav_valid(wav_path):\n",
    "        continue\n",
    "    result['train'].append({\n",
    "        'file': wav_path,\n",
    "        'label': ','.join(list(map(lambda x: str(label_map[x]), _file_info[1].split(',')))),\n",
    "    })\n",
    "train_miss"
   ],
   "id": "7c55d71e0a711c2e",
   "outputs": [
    {
     "name": "stderr",
     "output_type": "stream",
     "text": [
      "100%|██████████| 22160/22160 [07:25<00:00, 49.78it/s]\n"
     ]
    },
    {
     "data": {
      "text/plain": [
       "1610"
      ]
     },
     "execution_count": 9,
     "metadata": {},
     "output_type": "execute_result"
    }
   ],
   "execution_count": 9
  },
  {
   "metadata": {
    "ExecuteTime": {
     "end_time": "2024-07-09T13:38:46.220841Z",
     "start_time": "2024-07-09T13:31:06.119934Z"
    }
   },
   "cell_type": "code",
   "source": [
    "eval_miss = 0\n",
    "for _file_info in tqdm(eval_file_info):\n",
    "    wav_name = _file_info[0] + '.wav'\n",
    "    if not wav_name in eval_wavs:\n",
    "        eval_miss += 1\n",
    "        continue\n",
    "    \n",
    "    wav_path = os.path.join(eval_data_root, wav_name)\n",
    "    if not wav_valid(wav_path):\n",
    "        continue\n",
    "    result['eval'].append({\n",
    "        'file': wav_path,\n",
    "        'label': ','.join(list(map(lambda x: str(label_map[x]), _file_info[1].split(',')))),\n",
    "    })\n",
    "eval_miss"
   ],
   "id": "87e948ca28e5aca6",
   "outputs": [
    {
     "name": "stderr",
     "output_type": "stream",
     "text": [
      "100%|██████████| 20371/20371 [07:40<00:00, 44.28it/s]\n"
     ]
    },
    {
     "data": {
      "text/plain": [
       "1484"
      ]
     },
     "execution_count": 10,
     "metadata": {},
     "output_type": "execute_result"
    }
   ],
   "execution_count": 10
  },
  {
   "metadata": {
    "ExecuteTime": {
     "end_time": "2024-07-09T13:38:46.224455Z",
     "start_time": "2024-07-09T13:38:46.221834Z"
    }
   },
   "cell_type": "code",
   "source": [
    "for _k, _v in result.items():\n",
    "    print(f'{_k}: {len(_v)}, samples: {_v[0]}')"
   ],
   "id": "a6de608cb8067efc",
   "outputs": [
    {
     "name": "stdout",
     "output_type": "stream",
     "text": [
      "train: 20547, samples: {'file': 'Z:\\\\data\\\\ai_dataset\\\\audio\\\\audio_set\\\\balanced_train_segments\\\\--PJHxphWEs.wav', 'label': '0,451'}\n",
      "eval: 18884, samples: {'file': 'Z:\\\\data\\\\ai_dataset\\\\audio\\\\audio_set\\\\eval_segments\\\\--4gqARaEJE.wav', 'label': '73,361,74,72'}\n"
     ]
    }
   ],
   "execution_count": 11
  },
  {
   "metadata": {
    "ExecuteTime": {
     "end_time": "2024-07-09T13:39:07.354054Z",
     "start_time": "2024-07-09T13:38:46.224974Z"
    }
   },
   "cell_type": "code",
   "source": "generate_data_csv(saved_data_csv, **result)",
   "id": "857930562503bbe",
   "outputs": [],
   "execution_count": 12
  },
  {
   "metadata": {},
   "cell_type": "markdown",
   "source": "## h5",
   "id": "72fb7f79874896cc"
  },
  {
   "metadata": {
    "ExecuteTime": {
     "end_time": "2024-07-09T13:41:23.773889Z",
     "start_time": "2024-07-09T13:41:23.771184Z"
    }
   },
   "cell_type": "code",
   "source": [
    "train_hdf5 = r'E:\\common\\dataset\\audio\\audio_set\\h5\\ft_train.hdf5'\n",
    "eval_h5df = r'E:\\common\\dataset\\audio\\audio_set\\h5\\ft_eval.hdf5'\n",
    "saved_data_csv = r'workspace\\ft_data.csv'"
   ],
   "id": "e8eaef2c142477a6",
   "outputs": [],
   "execution_count": 15
  },
  {
   "metadata": {
    "ExecuteTime": {
     "end_time": "2024-07-09T13:41:24.145940Z",
     "start_time": "2024-07-09T13:41:24.094893Z"
    }
   },
   "cell_type": "code",
   "source": [
    "df = pd.read_csv(saved_data_csv, index_col=0)\n",
    "df.head()"
   ],
   "id": "918cb2126f331e75",
   "outputs": [
    {
     "data": {
      "text/plain": [
       "                                                file   type     label\n",
       "0  Z:\\data\\ai_dataset\\audio\\audio_set\\balanced_tr...  train     0,451\n",
       "1  Z:\\data\\ai_dataset\\audio\\audio_set\\balanced_tr...  train       375\n",
       "2  Z:\\data\\ai_dataset\\audio\\audio_set\\balanced_tr...  train  95,137,0\n",
       "3  Z:\\data\\ai_dataset\\audio\\audio_set\\balanced_tr...  train     32,34\n",
       "4  Z:\\data\\ai_dataset\\audio\\audio_set\\balanced_tr...  train   427,431"
      ],
      "text/html": [
       "<div>\n",
       "<style scoped>\n",
       "    .dataframe tbody tr th:only-of-type {\n",
       "        vertical-align: middle;\n",
       "    }\n",
       "\n",
       "    .dataframe tbody tr th {\n",
       "        vertical-align: top;\n",
       "    }\n",
       "\n",
       "    .dataframe thead th {\n",
       "        text-align: right;\n",
       "    }\n",
       "</style>\n",
       "<table border=\"1\" class=\"dataframe\">\n",
       "  <thead>\n",
       "    <tr style=\"text-align: right;\">\n",
       "      <th></th>\n",
       "      <th>file</th>\n",
       "      <th>type</th>\n",
       "      <th>label</th>\n",
       "    </tr>\n",
       "  </thead>\n",
       "  <tbody>\n",
       "    <tr>\n",
       "      <th>0</th>\n",
       "      <td>Z:\\data\\ai_dataset\\audio\\audio_set\\balanced_tr...</td>\n",
       "      <td>train</td>\n",
       "      <td>0,451</td>\n",
       "    </tr>\n",
       "    <tr>\n",
       "      <th>1</th>\n",
       "      <td>Z:\\data\\ai_dataset\\audio\\audio_set\\balanced_tr...</td>\n",
       "      <td>train</td>\n",
       "      <td>375</td>\n",
       "    </tr>\n",
       "    <tr>\n",
       "      <th>2</th>\n",
       "      <td>Z:\\data\\ai_dataset\\audio\\audio_set\\balanced_tr...</td>\n",
       "      <td>train</td>\n",
       "      <td>95,137,0</td>\n",
       "    </tr>\n",
       "    <tr>\n",
       "      <th>3</th>\n",
       "      <td>Z:\\data\\ai_dataset\\audio\\audio_set\\balanced_tr...</td>\n",
       "      <td>train</td>\n",
       "      <td>32,34</td>\n",
       "    </tr>\n",
       "    <tr>\n",
       "      <th>4</th>\n",
       "      <td>Z:\\data\\ai_dataset\\audio\\audio_set\\balanced_tr...</td>\n",
       "      <td>train</td>\n",
       "      <td>427,431</td>\n",
       "    </tr>\n",
       "  </tbody>\n",
       "</table>\n",
       "</div>"
      ]
     },
     "execution_count": 16,
     "metadata": {},
     "output_type": "execute_result"
    }
   ],
   "execution_count": 16
  },
  {
   "metadata": {
    "ExecuteTime": {
     "end_time": "2024-07-09T13:41:25.393590Z",
     "start_time": "2024-07-09T13:41:25.385007Z"
    }
   },
   "cell_type": "code",
   "source": [
    "train_files = df[df['type']=='train']['file'].tolist()\n",
    "eval_files = df[df['type']=='eval']['file'].tolist()\n",
    "train_files[0], eval_files[0]"
   ],
   "id": "8f2dff2c0a4f3906",
   "outputs": [
    {
     "data": {
      "text/plain": [
       "('Z:\\\\data\\\\ai_dataset\\\\audio\\\\audio_set\\\\balanced_train_segments\\\\--PJHxphWEs.wav',\n",
       " 'Z:\\\\data\\\\ai_dataset\\\\audio\\\\audio_set\\\\eval_segments\\\\--4gqARaEJE.wav')"
      ]
     },
     "execution_count": 17,
     "metadata": {},
     "output_type": "execute_result"
    }
   ],
   "execution_count": 17
  },
  {
   "metadata": {
    "ExecuteTime": {
     "end_time": "2024-07-09T13:51:50.429161Z",
     "start_time": "2024-07-09T13:41:26.431282Z"
    }
   },
   "cell_type": "code",
   "source": "generate_hdf5(train_files, train_hdf5)",
   "id": "7587d03fbdbf88",
   "outputs": [
    {
     "name": "stdout",
     "output_type": "stream",
     "text": [
      "handle wav: 20547, file_apart 1\n"
     ]
    },
    {
     "name": "stderr",
     "output_type": "stream",
     "text": [
      "20547it [10:23, 32.93it/s]"
     ]
    },
    {
     "name": "stdout",
     "output_type": "stream",
     "text": [
      "finish writing 20547\n"
     ]
    },
    {
     "name": "stderr",
     "output_type": "stream",
     "text": [
      "\n"
     ]
    }
   ],
   "execution_count": 18
  },
  {
   "metadata": {
    "ExecuteTime": {
     "end_time": "2024-07-09T14:01:28.369834Z",
     "start_time": "2024-07-09T13:51:50.430162Z"
    }
   },
   "cell_type": "code",
   "source": "generate_hdf5(eval_files, eval_h5df)",
   "id": "f9c09cdd40874ca0",
   "outputs": [
    {
     "name": "stdout",
     "output_type": "stream",
     "text": [
      "handle wav: 18884, file_apart 1\n"
     ]
    },
    {
     "name": "stderr",
     "output_type": "stream",
     "text": [
      "18884it [09:37, 32.68it/s]"
     ]
    },
    {
     "name": "stdout",
     "output_type": "stream",
     "text": [
      "finish writing 18884\n"
     ]
    },
    {
     "name": "stderr",
     "output_type": "stream",
     "text": [
      "\n"
     ]
    }
   ],
   "execution_count": 19
  },
  {
   "metadata": {},
   "cell_type": "code",
   "outputs": [],
   "execution_count": null,
   "source": " ",
   "id": "46db0f727bda34ca"
  }
 ],
 "metadata": {
  "kernelspec": {
   "display_name": "Python 3",
   "language": "python",
   "name": "python3"
  },
  "language_info": {
   "codemirror_mode": {
    "name": "ipython",
    "version": 2
   },
   "file_extension": ".py",
   "mimetype": "text/x-python",
   "name": "python",
   "nbconvert_exporter": "python",
   "pygments_lexer": "ipython2",
   "version": "2.7.6"
  }
 },
 "nbformat": 4,
 "nbformat_minor": 5
}
